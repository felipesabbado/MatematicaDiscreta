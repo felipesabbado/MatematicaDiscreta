{
 "cells": [
  {
   "cell_type": "code",
   "execution_count": 1,
   "id": "0503899b",
   "metadata": {},
   "outputs": [],
   "source": [
    "# See all cell outputs in Jupyter (or iPython)\n",
    "\n",
    "from IPython.core.interactiveshell import InteractiveShell\n",
    "InteractiveShell.ast_node_interactivity = \"all\""
   ]
  },
  {
   "cell_type": "markdown",
   "id": "8d5c8adc",
   "metadata": {},
   "source": [
    "# Root-finding Methods\n",
    "\n",
    "'f(x) = 0'\n",
    "\n",
    "## Métodos\n",
    "\n",
    "* Bisection (pesquisa binária)\n",
    "* False Position\n",
    "* Fixe-point\n",
    "\n",
    "## Summary\n",
    "\n",
    "* The goal is to find the roots (or zeros)"
   ]
  },
  {
   "cell_type": "code",
   "execution_count": 2,
   "id": "56842934",
   "metadata": {},
   "outputs": [],
   "source": [
    "from math import pi, sin, cos, log, exp, sqrt, acos\n",
    "\n",
    "EPS = 0.000001"
   ]
  },
  {
   "cell_type": "code",
   "execution_count": 5,
   "id": "d073a4e5",
   "metadata": {},
   "outputs": [],
   "source": [
    "def Bisection(f, a, b, tol, max_iter):\n",
    "    \"\"\"\n",
    "       f: função que pretendemos encontrar o zero f(x)==0\n",
    "    a, b: intervalo inicial\n",
    "     tol: tamanho mínimo do intervalo\n",
    "    \"\"\"\n",
    "    \n",
    "    assert a<b,         \"a must be lower than b\"\n",
    "    assert f(a)*f(b)<0, \"f(a) and f(b) must have opposite signs (mudança de sinais).\"\n",
    "    \n",
    "    # Ponto (palpite) inicial\n",
    "    x = (a+b)/2\n",
    "    \n",
    "    # O tamanho atual do intervalo\n",
    "    dx = b-a\n",
    "    \n",
    "    n = 1\n",
    "    while abs(f(x))>=EPS and dx>tol and n<max_iter:\n",
    "        # debug\n",
    "        print(f\"{x:.4} {f(x):.4}\")\n",
    "        \n",
    "        # Determinamos o novo intervalo\n",
    "        if f(a)*f(x)<0:\n",
    "            b = x\n",
    "        else:\n",
    "            a = x\n",
    "            \n",
    "        # determinamos o novo x\n",
    "        x = (a+b)/2\n",
    "        \n",
    "        # Determinamos o novo tamanho do intervalo\n",
    "        dx = b-a\n",
    "        \n",
    "        n += 1\n",
    "    \n",
    "    print(f\"Num. iteractions {n}\")\n",
    "    return x"
   ]
  },
  {
   "cell_type": "code",
   "execution_count": 6,
   "id": "71088432",
   "metadata": {},
   "outputs": [
    {
     "data": {
      "text/plain": [
       "True"
      ]
     },
     "execution_count": 6,
     "metadata": {},
     "output_type": "execute_result"
    }
   ],
   "source": [
    "abs(sin(pi))<=EPS"
   ]
  },
  {
   "cell_type": "code",
   "execution_count": 7,
   "id": "b665cf83",
   "metadata": {},
   "outputs": [
    {
     "name": "stdout",
     "output_type": "stream",
     "text": [
      "Num. iteractions 1\n"
     ]
    },
    {
     "data": {
      "text/plain": [
       "3.141592653589793"
      ]
     },
     "execution_count": 7,
     "metadata": {},
     "output_type": "execute_result"
    }
   ],
   "source": [
    "Bisection(sin, pi/2, 3*pi/2, 0.001, 100)"
   ]
  },
  {
   "cell_type": "code",
   "execution_count": 6,
   "id": "464bfd27",
   "metadata": {},
   "outputs": [
    {
     "data": {
      "text/plain": [
       "12.202242914855562"
      ]
     },
     "execution_count": 6,
     "metadata": {},
     "output_type": "execute_result"
    }
   ],
   "source": [
    "# Calcular o número máximo de iterações necessárias para achar o zero da função\n",
    "a   = pi/2\n",
    "b   = 2*pi\n",
    "tol = 0.001\n",
    "\n",
    "log((b-a)/tol, 2)"
   ]
  },
  {
   "cell_type": "markdown",
   "id": "16de715c",
   "metadata": {},
   "source": [
    "# False Position Method (regula falsi)"
   ]
  },
  {
   "cell_type": "code",
   "execution_count": 14,
   "id": "871fe44a",
   "metadata": {},
   "outputs": [],
   "source": [
    "def FalsePosition(f, a, b, tol, max_iter):\n",
    "    \"\"\"\n",
    "       f: função que pretendemos encontrar o zero f(x)==0\n",
    "    a, b: intervalo inicial\n",
    "     tol: tamanho mínimo do intervalo\n",
    "    \"\"\"\n",
    "    \n",
    "    assert a<b,         \"a must be lower than b\"\n",
    "    assert f(a)*f(b)<0, \"f(a) and f(b) must have opposite signs (mudança de sinais).\"\n",
    "    \n",
    "    # Ponto (palpite) inicial\n",
    "    x = (a*f(b)-b*f(a))/(f(b)-f(a))\n",
    "    \n",
    "    # O tamanho atual do intervalo\n",
    "    dx = b-a\n",
    "    \n",
    "    n = 1\n",
    "    while abs(f(x))>=EPS and dx>tol and n<max_iter:\n",
    "        # debug\n",
    "        print(f\"{x:.4} {f(x):.4}\")\n",
    "        \n",
    "        # Determinamos o novo intervalo\n",
    "        if f(a)*f(x)<0:\n",
    "            b = x\n",
    "        else:\n",
    "            a = x\n",
    "            \n",
    "        # determinamos o novo x\n",
    "        x = (a*f(b)-b*f(a))/(f(b)-f(a))\n",
    "        \n",
    "        # Determinamos o novo tamanho do intervalo\n",
    "        dx = b-a\n",
    "        \n",
    "        n += 1\n",
    "    \n",
    "    print(f\"Num. iteractions {n}\")\n",
    "    return x"
   ]
  },
  {
   "cell_type": "code",
   "execution_count": 15,
   "id": "d4ee7022",
   "metadata": {},
   "outputs": [
    {
     "name": "stdout",
     "output_type": "stream",
     "text": [
      "Num. iteractions 1\n"
     ]
    },
    {
     "data": {
      "text/plain": [
       "3.141592653589793"
      ]
     },
     "execution_count": 15,
     "metadata": {},
     "output_type": "execute_result"
    }
   ],
   "source": [
    "FalsePosition(sin, pi/2, 3*pi/2, 0.001, 10)"
   ]
  },
  {
   "cell_type": "code",
   "execution_count": 16,
   "id": "c8599485",
   "metadata": {},
   "outputs": [],
   "source": [
    "def auxFunc(x):\n",
    "    # 2x^3-4x^2+3x\n",
    "    return 2*x**3-4*x**2+3*x"
   ]
  },
  {
   "cell_type": "code",
   "execution_count": 17,
   "id": "32befa51",
   "metadata": {},
   "outputs": [
    {
     "data": {
      "text/plain": [
       "False"
      ]
     },
     "execution_count": 17,
     "metadata": {},
     "output_type": "execute_result"
    }
   ],
   "source": [
    "abs(auxFunc(2))<=EPS"
   ]
  },
  {
   "cell_type": "code",
   "execution_count": 18,
   "id": "abd98fc0",
   "metadata": {},
   "outputs": [
    {
     "name": "stdout",
     "output_type": "stream",
     "text": [
      "Num. iteractions 1\n"
     ]
    },
    {
     "data": {
      "text/plain": [
       "0.0"
      ]
     },
     "execution_count": 18,
     "metadata": {},
     "output_type": "execute_result"
    }
   ],
   "source": [
    "Bisection(auxFunc, -1, 1, 0.001, 100)"
   ]
  },
  {
   "cell_type": "code",
   "execution_count": 19,
   "id": "850f3df5",
   "metadata": {},
   "outputs": [
    {
     "name": "stdout",
     "output_type": "stream",
     "text": [
      "0.8 0.864\n",
      "0.6423 0.8067\n",
      "0.5072 0.7536\n",
      "0.3908 0.6809\n",
      "0.293 0.5859\n",
      "0.2139 0.4783\n",
      "0.1527 0.3719\n",
      "0.1069 0.2775\n",
      "0.07383 0.2005\n",
      "0.05043 0.1414\n",
      "0.03418 0.09796\n",
      "0.02305 0.06705\n",
      "0.01548 0.0455\n",
      "0.01038 0.0307\n",
      "0.006941 0.02063\n",
      "0.004638 0.01383\n",
      "0.003097 0.009252\n",
      "0.002067 0.006183\n",
      "0.001379 0.004129\n",
      "0.0009196 0.002755\n",
      "0.0006133 0.001838\n",
      "0.0004089 0.001226\n",
      "0.0002727 0.0008177\n",
      "0.0001818 0.0005452\n",
      "0.0001212 0.0003635\n",
      "8.08e-05 0.0002424\n",
      "5.387e-05 0.0001616\n",
      "3.591e-05 0.0001077\n",
      "2.394e-05 7.183e-05\n",
      "1.596e-05 4.788e-05\n",
      "1.064e-05 3.192e-05\n",
      "7.094e-06 2.128e-05\n",
      "4.729e-06 1.419e-05\n",
      "3.153e-06 9.459e-06\n",
      "2.102e-06 6.306e-06\n",
      "1.401e-06 4.204e-06\n",
      "9.342e-07 2.803e-06\n",
      "6.228e-07 1.868e-06\n",
      "4.152e-07 1.246e-06\n",
      "Num. iteractions 40\n"
     ]
    },
    {
     "data": {
      "text/plain": [
       "2.768058268141174e-07"
      ]
     },
     "execution_count": 19,
     "metadata": {},
     "output_type": "execute_result"
    }
   ],
   "source": [
    "FalsePosition(auxFunc, -1, 1, 0.01, 100)"
   ]
  },
  {
   "cell_type": "markdown",
   "id": "1398ee34",
   "metadata": {},
   "source": [
    "## Fixed-point iteration method"
   ]
  },
  {
   "cell_type": "code",
   "execution_count": 20,
   "id": "0cae3732",
   "metadata": {},
   "outputs": [],
   "source": [
    "def FixedPoint(g, x0, tol, max_iter):\n",
    "    # O ponto seguinte avaliando g(x0)\n",
    "    x1 = g(x0)\n",
    "    \n",
    "    # A diferença entre os dois pontos\n",
    "    dx = abs(x1-x0)\n",
    "    \n",
    "    n = 1\n",
    "    while dx>tol and n<=max_iter:\n",
    "        # Debug\n",
    "        print(f\"x = {x1:.4f}\")\n",
    "        \n",
    "        # Para a nova iteração o x1 passa a ser o ponto anterior\n",
    "        x0 = x1\n",
    "        x1 = g(x0)\n",
    "        dx = abs(x1-x0)\n",
    "        n += 1\n",
    "    \n",
    "    print(f\"Num. iteractions {n}\")\n",
    "    return x1"
   ]
  },
  {
   "cell_type": "code",
   "execution_count": 21,
   "id": "aacc24d8",
   "metadata": {},
   "outputs": [
    {
     "name": "stdout",
     "output_type": "stream",
     "text": [
      "x = 0.5403\n",
      "x = 0.8576\n",
      "x = 0.6543\n",
      "x = 0.7935\n",
      "x = 0.7014\n",
      "x = 0.7640\n",
      "x = 0.7221\n",
      "x = 0.7504\n",
      "x = 0.7314\n",
      "x = 0.7442\n",
      "x = 0.7356\n",
      "x = 0.7414\n",
      "x = 0.7375\n",
      "x = 0.7401\n",
      "x = 0.7384\n",
      "x = 0.7396\n",
      "Num. iteractions 17\n"
     ]
    },
    {
     "data": {
      "text/plain": [
       "0.7387603198742114"
      ]
     },
     "execution_count": 21,
     "metadata": {},
     "output_type": "execute_result"
    }
   ],
   "source": [
    "FixedPoint(cos, 1, 0.001, 100)"
   ]
  },
  {
   "cell_type": "code",
   "execution_count": null,
   "id": "889bfdd3",
   "metadata": {},
   "outputs": [],
   "source": []
  }
 ],
 "metadata": {
  "kernelspec": {
   "display_name": "Python 3 (ipykernel)",
   "language": "python",
   "name": "python3"
  },
  "language_info": {
   "codemirror_mode": {
    "name": "ipython",
    "version": 3
   },
   "file_extension": ".py",
   "mimetype": "text/x-python",
   "name": "python",
   "nbconvert_exporter": "python",
   "pygments_lexer": "ipython3",
   "version": "3.9.7"
  }
 },
 "nbformat": 4,
 "nbformat_minor": 5
}
