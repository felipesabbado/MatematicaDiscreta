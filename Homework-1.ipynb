{
 "cells": [
  {
   "cell_type": "markdown",
   "id": "0bdb9227",
   "metadata": {},
   "source": [
    "# Numerical Methods"
   ]
  },
  {
   "cell_type": "code",
   "execution_count": 13,
   "id": "b5fabb97",
   "metadata": {},
   "outputs": [],
   "source": [
    "# See all cell outputs in Jupyter (or iPython)\n",
    "\n",
    "from IPython.core.interactiveshell import InteractiveShell\n",
    "InteractiveShell.ast_node_interactivity = \"all\""
   ]
  },
  {
   "cell_type": "code",
   "execution_count": 14,
   "id": "8f31242b",
   "metadata": {},
   "outputs": [],
   "source": [
    "from math import sin, pi"
   ]
  },
  {
   "cell_type": "markdown",
   "id": "08fb44dc",
   "metadata": {},
   "source": [
    "### Definite integral\n",
    "\n",
    "Crie uma funçao em Python para calcular a integral definida de uma função arbitraria."
   ]
  },
  {
   "cell_type": "code",
   "execution_count": 25,
   "id": "97d75838",
   "metadata": {},
   "outputs": [],
   "source": [
    "def Integrate(f, x0, xf, dx):\n",
    "    \"\"\"\n",
    "     f: função a integrar\n",
    "    x0: inicio do intervalo de integração\n",
    "    xf: fim do interval de integração\n",
    "    dx: tamanho do passo de integração\n",
    "    \"\"\"\n",
    "\n",
    "    # A soma das subáreas\n",
    "    soma = 0\n",
    "    \n",
    "    # As altura vão ser calculadas no ponto medio do dx\n",
    "    x    = x0 + dx/2\n",
    "    \n",
    "    while x<=xf:\n",
    "        soma += dx*f(x)\n",
    "        x+=dx\n",
    "    \n",
    "    return soma"
   ]
  },
  {
   "cell_type": "code",
   "execution_count": 26,
   "id": "bcd8d6fa",
   "metadata": {},
   "outputs": [
    {
     "data": {
      "text/plain": [
       "1.9999683662670709"
      ]
     },
     "execution_count": 26,
     "metadata": {},
     "output_type": "execute_result"
    }
   ],
   "source": [
    "# Testando com f=sin e dx=0.1\n",
    "# O resultado esperado é 2\n",
    "\n",
    "Integrate(sin, 0, pi, 0.1)"
   ]
  },
  {
   "cell_type": "code",
   "execution_count": 36,
   "id": "2756678e",
   "metadata": {},
   "outputs": [],
   "source": [
    "# Testando com f=sin(x)/x\n",
    "# para dx=0.1 no intervalo [0, pi]\n",
    "# O resultado esperado é ~1.85194\n",
    "\n",
    "# Não podemos fazer isto\n",
    "# Integrate(sin(x)/x, 0, pi, 0.1)\n",
    "\n",
    "# Podemos passar uma função, mas não uma expressão\n",
    "\n",
    "# Neste caso criamos a função myFunc, equivalente à função matemática que pretendemos\n",
    "\n",
    "def myFunc(x):\n",
    "    return sin(x)/x"
   ]
  },
  {
   "cell_type": "code",
   "execution_count": 37,
   "id": "197b8f78",
   "metadata": {},
   "outputs": [
    {
     "data": {
      "text/plain": [
       "1.8517954188368662"
      ]
     },
     "execution_count": 37,
     "metadata": {},
     "output_type": "execute_result"
    }
   ],
   "source": [
    "Integrate(myFunc, 0, pi, 0.1)"
   ]
  },
  {
   "cell_type": "code",
   "execution_count": 17,
   "id": "0e0aa561",
   "metadata": {},
   "outputs": [
    {
     "name": "stdout",
     "output_type": "stream",
     "text": [
      "dx \t Integral \t ΔI\n",
      "0.500 \t 2.010874 \t 2.010874\n",
      "0.200 \t 2.001629 \t 0.009245\n",
      "0.100 \t 1.999968 \t 0.001661\n",
      "0.010 \t 2.000007 \t 0.000039\n",
      "0.001 \t 2.000000 \t 0.000007\n"
     ]
    }
   ],
   "source": [
    "# Testando com vários dx para sin(x)\n",
    "dxl = [0.5, 0.2, 0.1, 0.01, 0.001]\n",
    "\n",
    "print(\"dx \\t Integral \\t ΔI\")\n",
    "\n",
    "I_antigo=0\n",
    "\n",
    "for dx in dxl:\n",
    "    I = Integrate(sin, 0, pi, dx)\n",
    "    deltaI = abs(I-I_antigo)\n",
    "    print(f\"{dx:.3f} \\t {I:.6f} \\t {deltaI:.6f}\")\n",
    "    I_antigo=I"
   ]
  },
  {
   "cell_type": "markdown",
   "id": "ee02b451",
   "metadata": {},
   "source": [
    "## Tarefa 1\n",
    "\n",
    "(5 min)\n",
    "\n",
    "Crie a função `Integrate2` que em vez de receber o argumento `dx` recebe um argumento `num`  \n",
    "O novo argumento indica o número de iterações a realizar para percorrer o intervalo de integração.  \n",
    "Continua a ser necessário utilizar `dx` no código, contudo este não é passado como argumento.  \n",
    "Utilize um ciclo for em vez de um ciclo while.\n",
    "\n",
    "Crie também um código para testar a função com `sin(x)` utilizando diferentes valores de `num`  \n",
    "Ex. `num_l = [1, 2, 4, 8, 16, 32, 64]`"
   ]
  },
  {
   "cell_type": "code",
   "execution_count": 15,
   "id": "913c27a7",
   "metadata": {},
   "outputs": [],
   "source": [
    "# a função Integrate2 aqui\n",
    "def Integrate2(f, x0, xf, num):\n",
    "    soma = 0\n",
    "    dx = (xf - x0)/num\n",
    "    x = x0 + dx/2\n",
    "    \n",
    "    for i in range(num):\n",
    "        soma += dx*f(x)\n",
    "        x += dx\n",
    "        \n",
    "    return soma"
   ]
  },
  {
   "cell_type": "code",
   "execution_count": 16,
   "id": "32f917fa",
   "metadata": {},
   "outputs": [
    {
     "name": "stdout",
     "output_type": "stream",
     "text": [
      "num \t Integral \t ΔI\n",
      "2 \t 2.221441 \t 2.2214415\n",
      "5 \t 2.033281 \t 0.1881600\n",
      "10 \t 2.008248 \t 0.0250331\n",
      "100 \t 2.000082 \t 0.0081662\n",
      "500 \t 2.000003 \t 0.0000790\n",
      "1000 \t 2.000001 \t 0.0000025\n",
      "5000 \t 2.000000 \t 0.0000008\n"
     ]
    }
   ],
   "source": [
    "# os testes aqui\n",
    "# têm que fazer um codigo equivalente ao utilizado anteriormente para testes\n",
    "# mas adpatado para utilizar a lista num_l\n",
    "num_l = [2, 5, 10, 100, 500, 1000, 5000]\n",
    "\n",
    "print(\"num \\t Integral \\t ΔI\")\n",
    "\n",
    "I_antigo=0\n",
    "\n",
    "for num in num_l:\n",
    "    I = Integrate2(sin, 0, pi, num)\n",
    "    deltaI = abs(I-I_antigo)\n",
    "    print(f\"{num:d} \\t {I:.6f} \\t {deltaI:.7f}\")\n",
    "    I_antigo=I"
   ]
  },
  {
   "cell_type": "markdown",
   "id": "f963ce7b",
   "metadata": {},
   "source": [
    "## Tarefa 2\n",
    "(10 min)\n",
    "\n",
    "A condição `x<=xf` no ciclo da função da margem para que uma porção da área baixo a curva não seja tida em conta na soma das subáreas.  \n",
    "Crie uma versão de nome `Integrate3` que corrija esta situação. Utilize com ponto de partida `Integrate2`  \n",
    "Teste a nova função e compare os resultados."
   ]
  },
  {
   "cell_type": "code",
   "execution_count": 19,
   "id": "a3b35b50",
   "metadata": {},
   "outputs": [],
   "source": [
    "# a função Integrate3 aqui\n",
    "def Integrate3(f, x0, xf, num):\n",
    "    soma = 0\n",
    "    # Distância total da função\n",
    "    dist = xf - x0\n",
    "    # Dividir a distância em várias partes\n",
    "    dx = dist/num\n",
    "    x = x0\n",
    "    a = x0 + dx\n",
    "    \n",
    "    for i in range(num):\n",
    "        tri = dx * ((f(a) - f(x))/2)\n",
    "        soma += dx * f(x) + tri\n",
    "        x += dx\n",
    "        a += dx\n",
    "    \n",
    "    return soma"
   ]
  },
  {
   "cell_type": "code",
   "execution_count": 23,
   "id": "082455e7",
   "metadata": {},
   "outputs": [
    {
     "name": "stdout",
     "output_type": "stream",
     "text": [
      "num \t Integral \t ΔI\n",
      "2 \t 1.570796 \t 1.570796\n",
      "5 \t 1.933766 \t 0.362969\n",
      "10 \t 1.983524 \t 0.049758\n",
      "100 \t 1.999836 \t 0.016312\n",
      "500 \t 1.999993 \t 0.000158\n",
      "1000 \t 1.999998 \t 0.000005\n",
      "5000 \t 2.000000 \t 0.000002\n"
     ]
    }
   ],
   "source": [
    "# os testes aqui\n",
    "num_l = [2, 5, 10, 100, 500, 1000, 5000]\n",
    "\n",
    "print(\"num \\t Integral \\t ΔI\")\n",
    "\n",
    "I_antigo=0\n",
    "\n",
    "for num in num_l:\n",
    "    I = Integrate3(sin, 0, pi, num)\n",
    "    deltaI = abs(I-I_antigo)\n",
    "    print(f\"{num:d} \\t {I:.6f} \\t {deltaI:.6f}\")\n",
    "    I_antigo=I"
   ]
  },
  {
   "cell_type": "markdown",
   "id": "ab7aade1",
   "metadata": {},
   "source": [
    "## Tarefa 3\n",
    "\n",
    "(10 min)\n",
    "\n",
    "Uma função pode ter um número finito de pontos de indefinição e existir a integral definida.  \n",
    "Por exemplo, a função `sin(x)/x` não está definida para `x=0`, contudo, podemos  calcular analiticamente a integral definida num intervalo que inclua o zero.  \n",
    "A integral de `sin(x)/x` no intervalo \\[-1, 1\\] é ~1.89216614.\n",
    "\n",
    "Porém, quando calculamos a integral numericamente temos um problema, se a variável x coincidir por acaso com o valor de indefinição (neste caso o zero) o código `f(x)` vai gerar um erro e o programa termina.\n",
    "\n",
    "Crie a função `Integrate4` de forma a evitar o problema descrito.  \n",
    "Para simplificar, assuma que independentemente da função `f`, a ideterminacão acontence sempre em `x=0`.  \n",
    "\n",
    "Atenção, não é suficiente evitar o zero, a subárea correspondente tem que ser incluída na soma."
   ]
  },
  {
   "cell_type": "code",
   "execution_count": 28,
   "id": "b5756a12",
   "metadata": {
    "scrolled": false
   },
   "outputs": [
    {
     "ename": "ZeroDivisionError",
     "evalue": "float division by zero",
     "output_type": "error",
     "traceback": [
      "\u001b[1;31m---------------------------------------------------------------------------\u001b[0m",
      "\u001b[1;31mZeroDivisionError\u001b[0m                         Traceback (most recent call last)",
      "\u001b[1;32m~\\AppData\\Local\\Temp/ipykernel_10824/3785773949.py\u001b[0m in \u001b[0;36m<module>\u001b[1;34m\u001b[0m\n\u001b[0;32m      4\u001b[0m \u001b[1;33m\u001b[0m\u001b[0m\n\u001b[0;32m      5\u001b[0m \u001b[0mdx\u001b[0m \u001b[1;33m=\u001b[0m \u001b[1;36m2\u001b[0m\u001b[1;33m/\u001b[0m\u001b[1;36m21\u001b[0m\u001b[1;33m\u001b[0m\u001b[1;33m\u001b[0m\u001b[0m\n\u001b[1;32m----> 6\u001b[1;33m \u001b[0mIntegrate\u001b[0m\u001b[1;33m(\u001b[0m\u001b[0mmyFunc\u001b[0m\u001b[1;33m,\u001b[0m \u001b[1;33m-\u001b[0m\u001b[1;36m1\u001b[0m\u001b[1;33m,\u001b[0m \u001b[1;36m1\u001b[0m\u001b[1;33m,\u001b[0m \u001b[0mdx\u001b[0m\u001b[1;33m)\u001b[0m\u001b[1;33m\u001b[0m\u001b[1;33m\u001b[0m\u001b[0m\n\u001b[0m",
      "\u001b[1;32m~\\AppData\\Local\\Temp/ipykernel_10824/2819799954.py\u001b[0m in \u001b[0;36mIntegrate\u001b[1;34m(f, x0, xf, dx)\u001b[0m\n\u001b[0;32m     14\u001b[0m \u001b[1;33m\u001b[0m\u001b[0m\n\u001b[0;32m     15\u001b[0m     \u001b[1;32mwhile\u001b[0m \u001b[0mx\u001b[0m\u001b[1;33m<=\u001b[0m\u001b[0mxf\u001b[0m\u001b[1;33m:\u001b[0m\u001b[1;33m\u001b[0m\u001b[1;33m\u001b[0m\u001b[0m\n\u001b[1;32m---> 16\u001b[1;33m         \u001b[0msoma\u001b[0m \u001b[1;33m+=\u001b[0m \u001b[0mdx\u001b[0m\u001b[1;33m*\u001b[0m\u001b[0mf\u001b[0m\u001b[1;33m(\u001b[0m\u001b[0mx\u001b[0m\u001b[1;33m)\u001b[0m\u001b[1;33m\u001b[0m\u001b[1;33m\u001b[0m\u001b[0m\n\u001b[0m\u001b[0;32m     17\u001b[0m         \u001b[0mx\u001b[0m\u001b[1;33m+=\u001b[0m\u001b[0mdx\u001b[0m\u001b[1;33m\u001b[0m\u001b[1;33m\u001b[0m\u001b[0m\n\u001b[0;32m     18\u001b[0m \u001b[1;33m\u001b[0m\u001b[0m\n",
      "\u001b[1;32m~\\AppData\\Local\\Temp/ipykernel_10824/990483171.py\u001b[0m in \u001b[0;36mmyFunc\u001b[1;34m(x)\u001b[0m\n\u001b[0;32m     11\u001b[0m \u001b[1;33m\u001b[0m\u001b[0m\n\u001b[0;32m     12\u001b[0m \u001b[1;32mdef\u001b[0m \u001b[0mmyFunc\u001b[0m\u001b[1;33m(\u001b[0m\u001b[0mx\u001b[0m\u001b[1;33m)\u001b[0m\u001b[1;33m:\u001b[0m\u001b[1;33m\u001b[0m\u001b[1;33m\u001b[0m\u001b[0m\n\u001b[1;32m---> 13\u001b[1;33m     \u001b[1;32mreturn\u001b[0m \u001b[0msin\u001b[0m\u001b[1;33m(\u001b[0m\u001b[0mx\u001b[0m\u001b[1;33m)\u001b[0m\u001b[1;33m/\u001b[0m\u001b[0mx\u001b[0m\u001b[1;33m\u001b[0m\u001b[1;33m\u001b[0m\u001b[0m\n\u001b[0m\u001b[0;32m     14\u001b[0m \u001b[1;33m\u001b[0m\u001b[0m\n\u001b[0;32m     15\u001b[0m \u001b[0mIntegrate\u001b[0m\u001b[1;33m(\u001b[0m\u001b[0mmyFunc\u001b[0m\u001b[1;33m,\u001b[0m \u001b[1;36m0\u001b[0m\u001b[1;33m,\u001b[0m \u001b[0mpi\u001b[0m\u001b[1;33m,\u001b[0m \u001b[1;36m0.1\u001b[0m\u001b[1;33m)\u001b[0m\u001b[1;33m\u001b[0m\u001b[1;33m\u001b[0m\u001b[0m\n",
      "\u001b[1;31mZeroDivisionError\u001b[0m: float division by zero"
     ]
    }
   ],
   "source": [
    "# Exemplo de como ocorre um erro utilizando a função Integrate original\n",
    "# Recordar que sin(x)/x foi definida como myFunc\n",
    "# Vou seleccionar o dx para que apanhe o zero e ocorra um erro\n",
    "\n",
    "dx = 2/21\n",
    "Integrate(myFunc, -1, 1, dx)"
   ]
  },
  {
   "cell_type": "code",
   "execution_count": 47,
   "id": "974f0ef7",
   "metadata": {},
   "outputs": [],
   "source": [
    "# a função Integrate4 aqui\n",
    "def Integrate4(f, x0, xf, num):\n",
    "    soma = 0\n",
    "    # Distância total da função\n",
    "    dist = xf - x0\n",
    "    # Dividir a distância em várias partes\n",
    "    dx = dist/num\n",
    "    x = x0\n",
    "    a = x0 + dx\n",
    "    \n",
    "    for i in range(num):\n",
    "        if x==0:\n",
    "            x+= dx/100000\n",
    "        soma += dx * f(x) + dx * ((f(a) - f(x))/2)\n",
    "        x += dx\n",
    "        a += dx\n",
    "    \n",
    "    return soma"
   ]
  },
  {
   "cell_type": "code",
   "execution_count": 48,
   "id": "3ffee5b5",
   "metadata": {},
   "outputs": [
    {
     "name": "stdout",
     "output_type": "stream",
     "text": [
      "num \t Integral \t ΔI\n"
     ]
    },
    {
     "ename": "ZeroDivisionError",
     "evalue": "float division by zero",
     "output_type": "error",
     "traceback": [
      "\u001b[1;31m---------------------------------------------------------------------------\u001b[0m",
      "\u001b[1;31mZeroDivisionError\u001b[0m                         Traceback (most recent call last)",
      "\u001b[1;32m~\\AppData\\Local\\Temp/ipykernel_10824/3045080510.py\u001b[0m in \u001b[0;36m<module>\u001b[1;34m\u001b[0m\n\u001b[0;32m      7\u001b[0m \u001b[1;33m\u001b[0m\u001b[0m\n\u001b[0;32m      8\u001b[0m \u001b[1;32mfor\u001b[0m \u001b[0mnum\u001b[0m \u001b[1;32min\u001b[0m \u001b[0mnum_l\u001b[0m\u001b[1;33m:\u001b[0m\u001b[1;33m\u001b[0m\u001b[1;33m\u001b[0m\u001b[0m\n\u001b[1;32m----> 9\u001b[1;33m     \u001b[0mI\u001b[0m \u001b[1;33m=\u001b[0m \u001b[0mIntegrate4\u001b[0m\u001b[1;33m(\u001b[0m\u001b[0mmyFunc\u001b[0m\u001b[1;33m,\u001b[0m \u001b[1;33m-\u001b[0m\u001b[1;36m1\u001b[0m\u001b[1;33m,\u001b[0m \u001b[1;36m1\u001b[0m\u001b[1;33m,\u001b[0m \u001b[0mnum\u001b[0m\u001b[1;33m)\u001b[0m\u001b[1;33m\u001b[0m\u001b[1;33m\u001b[0m\u001b[0m\n\u001b[0m\u001b[0;32m     10\u001b[0m     \u001b[0mdeltaI\u001b[0m \u001b[1;33m=\u001b[0m \u001b[0mabs\u001b[0m\u001b[1;33m(\u001b[0m\u001b[0mI\u001b[0m\u001b[1;33m-\u001b[0m\u001b[0mI_antigo\u001b[0m\u001b[1;33m)\u001b[0m\u001b[1;33m\u001b[0m\u001b[1;33m\u001b[0m\u001b[0m\n\u001b[0;32m     11\u001b[0m     \u001b[0mprint\u001b[0m\u001b[1;33m(\u001b[0m\u001b[1;34mf\"{num:d} \\t {I:.6f} \\t {deltaI:.6f}\"\u001b[0m\u001b[1;33m)\u001b[0m\u001b[1;33m\u001b[0m\u001b[1;33m\u001b[0m\u001b[0m\n",
      "\u001b[1;32m~\\AppData\\Local\\Temp/ipykernel_10824/408223198.py\u001b[0m in \u001b[0;36mIntegrate4\u001b[1;34m(f, x0, xf, num)\u001b[0m\n\u001b[0;32m     12\u001b[0m         \u001b[1;32mif\u001b[0m \u001b[0mx\u001b[0m\u001b[1;33m==\u001b[0m\u001b[1;36m0\u001b[0m\u001b[1;33m:\u001b[0m\u001b[1;33m\u001b[0m\u001b[1;33m\u001b[0m\u001b[0m\n\u001b[0;32m     13\u001b[0m             \u001b[0mx\u001b[0m\u001b[1;33m+=\u001b[0m \u001b[0mdx\u001b[0m\u001b[1;33m/\u001b[0m\u001b[1;36m100000\u001b[0m\u001b[1;33m\u001b[0m\u001b[1;33m\u001b[0m\u001b[0m\n\u001b[1;32m---> 14\u001b[1;33m         \u001b[0msoma\u001b[0m \u001b[1;33m+=\u001b[0m \u001b[0mdx\u001b[0m \u001b[1;33m*\u001b[0m \u001b[0mf\u001b[0m\u001b[1;33m(\u001b[0m\u001b[0mx\u001b[0m\u001b[1;33m)\u001b[0m \u001b[1;33m+\u001b[0m \u001b[0mdx\u001b[0m \u001b[1;33m*\u001b[0m \u001b[1;33m(\u001b[0m\u001b[1;33m(\u001b[0m\u001b[0mf\u001b[0m\u001b[1;33m(\u001b[0m\u001b[0ma\u001b[0m\u001b[1;33m)\u001b[0m \u001b[1;33m-\u001b[0m \u001b[0mf\u001b[0m\u001b[1;33m(\u001b[0m\u001b[0mx\u001b[0m\u001b[1;33m)\u001b[0m\u001b[1;33m)\u001b[0m\u001b[1;33m/\u001b[0m\u001b[1;36m2\u001b[0m\u001b[1;33m)\u001b[0m\u001b[1;33m\u001b[0m\u001b[1;33m\u001b[0m\u001b[0m\n\u001b[0m\u001b[0;32m     15\u001b[0m         \u001b[0mx\u001b[0m \u001b[1;33m+=\u001b[0m \u001b[0mdx\u001b[0m\u001b[1;33m\u001b[0m\u001b[1;33m\u001b[0m\u001b[0m\n\u001b[0;32m     16\u001b[0m         \u001b[0ma\u001b[0m \u001b[1;33m+=\u001b[0m \u001b[0mdx\u001b[0m\u001b[1;33m\u001b[0m\u001b[1;33m\u001b[0m\u001b[0m\n",
      "\u001b[1;32m~\\AppData\\Local\\Temp/ipykernel_10824/3950822190.py\u001b[0m in \u001b[0;36mmyFunc\u001b[1;34m(x)\u001b[0m\n\u001b[0;32m     11\u001b[0m \u001b[1;33m\u001b[0m\u001b[0m\n\u001b[0;32m     12\u001b[0m \u001b[1;32mdef\u001b[0m \u001b[0mmyFunc\u001b[0m\u001b[1;33m(\u001b[0m\u001b[0mx\u001b[0m\u001b[1;33m)\u001b[0m\u001b[1;33m:\u001b[0m\u001b[1;33m\u001b[0m\u001b[1;33m\u001b[0m\u001b[0m\n\u001b[1;32m---> 13\u001b[1;33m     \u001b[1;32mreturn\u001b[0m \u001b[0msin\u001b[0m\u001b[1;33m(\u001b[0m\u001b[0mx\u001b[0m\u001b[1;33m)\u001b[0m\u001b[1;33m/\u001b[0m\u001b[0mx\u001b[0m\u001b[1;33m\u001b[0m\u001b[1;33m\u001b[0m\u001b[0m\n\u001b[0m",
      "\u001b[1;31mZeroDivisionError\u001b[0m: float division by zero"
     ]
    }
   ],
   "source": [
    "# os testes aquí\n",
    "num_l = [2, 5, 10, 100, 500, 1000, 5000]\n",
    "\n",
    "print(\"num \\t Integral \\t ΔI\")\n",
    "\n",
    "I_antigo=0\n",
    "\n",
    "for num in num_l:\n",
    "    I = Integrate4(myFunc, -1, 1, num)\n",
    "    deltaI = abs(I-I_antigo)\n",
    "    print(f\"{num:d} \\t {I:.6f} \\t {deltaI:.6f}\")\n",
    "    I_antigo=I"
   ]
  },
  {
   "cell_type": "code",
   "execution_count": null,
   "id": "d55f8b05",
   "metadata": {},
   "outputs": [],
   "source": []
  }
 ],
 "metadata": {
  "kernelspec": {
   "display_name": "Python 3 (ipykernel)",
   "language": "python",
   "name": "python3"
  },
  "language_info": {
   "codemirror_mode": {
    "name": "ipython",
    "version": 3
   },
   "file_extension": ".py",
   "mimetype": "text/x-python",
   "name": "python",
   "nbconvert_exporter": "python",
   "pygments_lexer": "ipython3",
   "version": "3.9.7"
  }
 },
 "nbformat": 4,
 "nbformat_minor": 5
}
