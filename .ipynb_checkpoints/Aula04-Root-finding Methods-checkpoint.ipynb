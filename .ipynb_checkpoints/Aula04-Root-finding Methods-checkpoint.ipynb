{
 "cells": [
  {
   "cell_type": "code",
   "execution_count": 1,
   "id": "0503899b",
   "metadata": {},
   "outputs": [],
   "source": [
    "# See all cell outputs in Jupyter (or iPython)\n",
    "\n",
    "from IPython.core.interactiveshell import InteractiveShell\n",
    "InteractiveShell.ast_node_interactivity = \"all\""
   ]
  },
  {
   "cell_type": "markdown",
   "id": "8d5c8adc",
   "metadata": {},
   "source": [
    "# Root-finding Methods\n",
    "\n",
    "'f(x) = 0'\n",
    "\n",
    "## Métodos\n",
    "\n",
    "* Bisection (pesquisa binária)\n",
    "* False Position\n",
    "* Fixe-point\n",
    "\n",
    "## Summary\n",
    "\n",
    "* The goal is to find the roots (or zeros)"
   ]
  },
  {
   "cell_type": "code",
   "execution_count": 2,
   "id": "56842934",
   "metadata": {},
   "outputs": [],
   "source": [
    "from math import pi, sin, cos, log, exp, sqrt, acos\n",
    "\n",
    "EPS = 0.000001"
   ]
  },
  {
   "cell_type": "code",
   "execution_count": 3,
   "id": "d073a4e5",
   "metadata": {},
   "outputs": [],
   "source": [
    "def Bisection(f, a, b, tol, max_iter):\n",
    "    \"\"\"\n",
    "       f: função que pretendemos encontrar o zero f(x)==0\n",
    "    a, b: intervalo inicial\n",
    "     tol: tamanho mínimo do intervalo\n",
    "    \"\"\"\n",
    "    \n",
    "    assert a<b,         \"a must be lower than b\"\n",
    "    assert f(a)*f(b)<0, \"f(a) and f(b) must have opposite signs (mudança de sinais).\"\n",
    "    \n",
    "    # Ponto (palpite) inicial\n",
    "    x = (a+b)/2\n",
    "    \n",
    "    # O tamanho atual do intervalo\n",
    "    dx = b-a\n",
    "    \n",
    "    n = 0\n",
    "    while abs(f(x))<=EPS and dx>tol and n<max_iter:\n",
    "        # debug\n",
    "        print(f\"{x:.4} {f(x):.4}\")\n",
    "        \n",
    "        # Determinamos o novo intervalo\n",
    "        if f(a)*f(x)<0:\n",
    "            b = x\n",
    "        else:\n",
    "            a = x\n",
    "            \n",
    "        # determinamos o novo x\n",
    "        x = (a+b)/2\n",
    "        \n",
    "        # Determinamos o novo tamanho do intervalo\n",
    "        dx = b-a\n",
    "        \n",
    "        n += 1\n",
    "    \n",
    "    print(f\"Num. iteractions {n}\")\n",
    "    return x"
   ]
  },
  {
   "cell_type": "code",
   "execution_count": 4,
   "id": "71088432",
   "metadata": {},
   "outputs": [
    {
     "data": {
      "text/plain": [
       "True"
      ]
     },
     "execution_count": 4,
     "metadata": {},
     "output_type": "execute_result"
    }
   ],
   "source": [
    "abs(sin(pi))<=EPS"
   ]
  },
  {
   "cell_type": "code",
   "execution_count": 5,
   "id": "b665cf83",
   "metadata": {},
   "outputs": [
    {
     "name": "stdout",
     "output_type": "stream",
     "text": [
      "3.142 1.225e-16\n",
      "Num. iteractions 1\n"
     ]
    },
    {
     "data": {
      "text/plain": [
       "3.9269908169872414"
      ]
     },
     "execution_count": 5,
     "metadata": {},
     "output_type": "execute_result"
    }
   ],
   "source": [
    "Bisection(sin, pi/2, 3*pi/2, 0.001, 100)"
   ]
  },
  {
   "cell_type": "code",
   "execution_count": 6,
   "id": "464bfd27",
   "metadata": {},
   "outputs": [
    {
     "data": {
      "text/plain": [
       "12.202242914855562"
      ]
     },
     "execution_count": 6,
     "metadata": {},
     "output_type": "execute_result"
    }
   ],
   "source": [
    "# Calcular o número máximo de iterações necessárias para achar o zero da função\n",
    "a   = pi/2\n",
    "b   = 2*pi\n",
    "tol = 0.001\n",
    "\n",
    "log((b-a)/tol, 2)"
   ]
  },
  {
   "cell_type": "markdown",
   "id": "16de715c",
   "metadata": {},
   "source": [
    "# False Position Method (regula falsi)"
   ]
  },
  {
   "cell_type": "code",
   "execution_count": 18,
   "id": "871fe44a",
   "metadata": {},
   "outputs": [],
   "source": [
    "def FalsePosition(f, a, b, tol, max_iter):\n",
    "    \"\"\"\n",
    "       f: função que pretendemos encontrar o zero f(x)==0\n",
    "    a, b: intervalo inicial\n",
    "     tol: tamanho mínimo do intervalo\n",
    "    \"\"\"\n",
    "    \n",
    "    assert a<b,         \"a must be lower than b\"\n",
    "    assert f(a)*f(b)<0, \"f(a) and f(b) must have opposite signs (mudança de sinais).\"\n",
    "    \n",
    "    # Ponto (palpite) inicial\n",
    "    x = (a*f(b)-b*f(a))/(f(b)-f(a))\n",
    "    \n",
    "    # O tamanho atual do intervalo\n",
    "    dx = b-a\n",
    "    \n",
    "    n = 0\n",
    "    while abs(f(x))<=EPS and dx>tol and n<max_iter:\n",
    "        # debug\n",
    "        print(f\"{x:.4} {f(x):.4}\")\n",
    "        \n",
    "        # Determinamos o novo intervalo\n",
    "        if f(a)*f(x)<0:\n",
    "            b = x\n",
    "        else:\n",
    "            a = x\n",
    "            \n",
    "        # determinamos o novo x\n",
    "        x = (a*f(b)-b*f(a))/(f(b)-f(a))\n",
    "        \n",
    "        # Determinamos o novo tamanho do intervalo\n",
    "        dx = b-a\n",
    "        \n",
    "        n += 1\n",
    "    \n",
    "    print(f\"Num. iteractions {n}\")\n",
    "    return x"
   ]
  },
  {
   "cell_type": "code",
   "execution_count": 19,
   "id": "d4ee7022",
   "metadata": {},
   "outputs": [
    {
     "name": "stdout",
     "output_type": "stream",
     "text": [
      "3.142 1.225e-16\n",
      "3.142 5.666e-16\n",
      "3.142 1.225e-16\n",
      "3.142 5.666e-16\n",
      "3.142 1.225e-16\n",
      "3.142 5.666e-16\n",
      "3.142 1.225e-16\n",
      "3.142 5.666e-16\n",
      "3.142 1.225e-16\n",
      "3.142 5.666e-16\n",
      "Num. iteractions 10\n"
     ]
    },
    {
     "data": {
      "text/plain": [
       "3.141592653589793"
      ]
     },
     "execution_count": 19,
     "metadata": {},
     "output_type": "execute_result"
    }
   ],
   "source": [
    "FalsePosition(sin, pi/2, 3*pi/2, 0.001, 10)"
   ]
  },
  {
   "cell_type": "code",
   "execution_count": 9,
   "id": "c8599485",
   "metadata": {},
   "outputs": [],
   "source": [
    "def auxFunc(x):\n",
    "    # 2x^3-4x^2+3x\n",
    "    return 2*x**3-4*x**2+3*x"
   ]
  },
  {
   "cell_type": "code",
   "execution_count": 21,
   "id": "32befa51",
   "metadata": {},
   "outputs": [
    {
     "data": {
      "text/plain": [
       "False"
      ]
     },
     "execution_count": 21,
     "metadata": {},
     "output_type": "execute_result"
    }
   ],
   "source": [
    "abs(auxFunc(2))<=EPS"
   ]
  },
  {
   "cell_type": "code",
   "execution_count": 23,
   "id": "abd98fc0",
   "metadata": {},
   "outputs": [
    {
     "name": "stdout",
     "output_type": "stream",
     "text": [
      "0.0 0.0\n",
      "Num. iteractions 1\n"
     ]
    },
    {
     "data": {
      "text/plain": [
       "0.5"
      ]
     },
     "execution_count": 23,
     "metadata": {},
     "output_type": "execute_result"
    }
   ],
   "source": [
    "Bisection(auxFunc, -1, 1, 0.001, 100)"
   ]
  },
  {
   "cell_type": "code",
   "execution_count": 24,
   "id": "850f3df5",
   "metadata": {},
   "outputs": [
    {
     "name": "stdout",
     "output_type": "stream",
     "text": [
      "Num. iteractions 0\n"
     ]
    },
    {
     "data": {
      "text/plain": [
       "0.8"
      ]
     },
     "execution_count": 24,
     "metadata": {},
     "output_type": "execute_result"
    }
   ],
   "source": [
    "FalsePosition(auxFunc, -1, 1, 0.01, 100)"
   ]
  },
  {
   "cell_type": "markdown",
   "id": "1398ee34",
   "metadata": {},
   "source": [
    "## Fixed-point iteration method"
   ]
  },
  {
   "cell_type": "code",
   "execution_count": 21,
   "id": "0cae3732",
   "metadata": {},
   "outputs": [],
   "source": [
    "def FixedPoint(g, x0, tol, max_iter):\n",
    "    # O ponto seguinte avaliando g(x0)\n",
    "    x1 = g(x0)\n",
    "    \n",
    "    # A diferença entre os dois pontos\n",
    "    dx = abs(x1-x0)\n",
    "    \n",
    "    n = 1\n",
    "    while dx>tol and n<=max_iter:\n",
    "        # Debug\n",
    "        print(f\"x = {x1:.4f}\")\n",
    "        \n",
    "        # Para a nova iteração o x1 passa a ser o ponto anterior\n",
    "        x0 = x1\n",
    "        x1 = g(x0)\n",
    "        dx = abs(x1-x0)\n",
    "        n += 1\n",
    "    \n",
    "    print(f\"Num. iteractions {n}\")\n",
    "    return x1"
   ]
  },
  {
   "cell_type": "code",
   "execution_count": 22,
   "id": "aacc24d8",
   "metadata": {},
   "outputs": [
    {
     "name": "stdout",
     "output_type": "stream",
     "text": [
      "x = 0.5403\n",
      "x = 0.8576\n",
      "x = 0.6543\n",
      "x = 0.7935\n",
      "x = 0.7014\n",
      "x = 0.7640\n",
      "x = 0.7221\n",
      "x = 0.7504\n",
      "x = 0.7314\n",
      "x = 0.7442\n",
      "x = 0.7356\n",
      "x = 0.7414\n",
      "x = 0.7375\n",
      "x = 0.7401\n",
      "x = 0.7384\n",
      "x = 0.7396\n",
      "Num. iteractions 17\n"
     ]
    },
    {
     "data": {
      "text/plain": [
       "0.7387603198742114"
      ]
     },
     "execution_count": 22,
     "metadata": {},
     "output_type": "execute_result"
    }
   ],
   "source": [
    "FixedPoint(cos, 1, 0.001, 100)"
   ]
  }
 ],
 "metadata": {
  "kernelspec": {
   "display_name": "Python 3 (ipykernel)",
   "language": "python",
   "name": "python3"
  },
  "language_info": {
   "codemirror_mode": {
    "name": "ipython",
    "version": 3
   },
   "file_extension": ".py",
   "mimetype": "text/x-python",
   "name": "python",
   "nbconvert_exporter": "python",
   "pygments_lexer": "ipython3",
   "version": "3.9.7"
  }
 },
 "nbformat": 4,
 "nbformat_minor": 5
}
