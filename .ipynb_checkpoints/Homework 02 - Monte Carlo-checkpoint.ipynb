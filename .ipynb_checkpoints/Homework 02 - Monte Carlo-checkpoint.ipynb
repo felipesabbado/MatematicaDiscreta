{
 "cells": [
  {
   "cell_type": "code",
   "execution_count": 1,
   "id": "d1bff9f1",
   "metadata": {},
   "outputs": [],
   "source": [
    "# See all cell outputs in Jupyter (or iPython)\n",
    "from IPython.core.interactiveshell import InteractiveShell\n",
    "InteractiveShell.ast_node_interactivity = \"all\""
   ]
  },
  {
   "cell_type": "code",
   "execution_count": 3,
   "id": "bb9e8f75",
   "metadata": {},
   "outputs": [],
   "source": [
    "from math import pi, sin, cos, log, exp, sqrt\n",
    "import random"
   ]
  },
  {
   "cell_type": "markdown",
   "id": "986571dc",
   "metadata": {},
   "source": [
    "# Homework 2\n",
    "\n",
    "Stochastic methods"
   ]
  },
  {
   "cell_type": "markdown",
   "id": "8f91c30e",
   "metadata": {},
   "source": [
    "## Tarefa 1\n",
    "\n",
    "* Crie uma função de Python de nome MCMax para determinar o máximo de uma função passada como argumento.\n",
    "* Teste a função com quantidades diferentes de números aleatorios.\n",
    "\n",
    "Exemplo de utilização:\n",
    "\n",
    "`MCMax(sin, 0, 2*pi, 50)`"
   ]
  },
  {
   "cell_type": "code",
   "execution_count": 7,
   "id": "0f9083a9",
   "metadata": {},
   "outputs": [],
   "source": [
    "# A função MCMax aqui\n",
    "def MCMax(f, a, b, max_iter):\n",
    "    \n",
    "    assert a<b,         \"a must be lower than b\"\n",
    "    \n",
    "    maxFun = f(a)\n",
    "    n = 0\n",
    "    while n<max_iter:\n",
    "        rand = random.uniform(a, b)\n",
    "        if maxFun < f(rand):\n",
    "            maxFun = f(rand)\n",
    "        n+=1\n",
    "    return maxFun"
   ]
  },
  {
   "cell_type": "code",
   "execution_count": 18,
   "id": "8b5ee797",
   "metadata": {},
   "outputs": [
    {
     "data": {
      "text/plain": [
       "0.99999884215869"
      ]
     },
     "execution_count": 18,
     "metadata": {},
     "output_type": "execute_result"
    }
   ],
   "source": [
    "# Os testes aqui\n",
    "MCMax(sin, 0, 2*pi, 200)"
   ]
  },
  {
   "cell_type": "markdown",
   "id": "297a36c6",
   "metadata": {},
   "source": [
    "## Tarefa 2\n",
    "\n",
    "* Crie uma função de Python de nome MCZeros para determinar o zero de uma função passada como argumento.\n",
    "* Teste a função com quantidades diferentes de números aleatorios.\n",
    "\n",
    "Exemplo de utilização:\n",
    "\n",
    "`MCZero(sin, 0.01, 2*pi-0.01, 50)`"
   ]
  },
  {
   "cell_type": "code",
   "execution_count": 20,
   "id": "e454a7c2",
   "metadata": {},
   "outputs": [],
   "source": [
    "# A função MCZero aqui\n",
    "def MCZero(f, a, b, tol, max_iter):\n",
    "    \"\"\"\n",
    "       f: função que pretendemos encontrar o zero f(x)==0\n",
    "    a, b: intervalo inicial\n",
    "     tol: tamanho mínimo do intervalo\n",
    "    \"\"\"\n",
    "    \n",
    "    assert a<b,         \"a must be lower than b\"\n",
    "    assert f(a)*f(b)<0, \"f(a) and f(b) must have opposite signs (mudança de sinais).\"\n",
    "    \n",
    "    # Ponto (palpite) inicial\n",
    "    x = random.uniform(a,b)\n",
    "    \n",
    "    # O tamanho atual do intervalo\n",
    "    dx = b-a\n",
    "    \n",
    "    n = 0\n",
    "    while dx>tol and n<max_iter:\n",
    "        # Determinamos o novo intervalo\n",
    "        if f(a)*f(x)<0:\n",
    "            b = x\n",
    "        else:\n",
    "            a = x\n",
    "            \n",
    "        # determinamos o novo x\n",
    "        x = random.uniform(a,b)\n",
    "        \n",
    "        # Determinamos o novo tamanho do intervalo\n",
    "        dx = b-a\n",
    "        \n",
    "        n += 1\n",
    "    \n",
    "    print(f\"Num. iteractions {n}\")\n",
    "    return x"
   ]
  },
  {
   "cell_type": "code",
   "execution_count": 26,
   "id": "c74ae49c",
   "metadata": {},
   "outputs": [
    {
     "name": "stdout",
     "output_type": "stream",
     "text": [
      "Num. iteractions 8\n"
     ]
    },
    {
     "data": {
      "text/plain": [
       "3.1436493736062396"
      ]
     },
     "execution_count": 26,
     "metadata": {},
     "output_type": "execute_result"
    }
   ],
   "source": [
    "# Os testes aqui\n",
    "MCZero(sin, 0.01, 2*pi, 0.01, 1000)"
   ]
  },
  {
   "cell_type": "code",
   "execution_count": null,
   "id": "46885112",
   "metadata": {},
   "outputs": [],
   "source": []
  },
  {
   "cell_type": "code",
   "execution_count": null,
   "id": "36b15e72",
   "metadata": {},
   "outputs": [],
   "source": []
  }
 ],
 "metadata": {
  "kernelspec": {
   "display_name": "Python 3 (ipykernel)",
   "language": "python",
   "name": "python3"
  },
  "language_info": {
   "codemirror_mode": {
    "name": "ipython",
    "version": 3
   },
   "file_extension": ".py",
   "mimetype": "text/x-python",
   "name": "python",
   "nbconvert_exporter": "python",
   "pygments_lexer": "ipython3",
   "version": "3.9.7"
  }
 },
 "nbformat": 4,
 "nbformat_minor": 5
}
