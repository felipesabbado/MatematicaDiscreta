{
 "cells": [
  {
   "cell_type": "code",
   "execution_count": 4,
   "id": "4c6e538c",
   "metadata": {},
   "outputs": [
    {
     "data": {
      "text/plain": [
       "5"
      ]
     },
     "execution_count": 4,
     "metadata": {},
     "output_type": "execute_result"
    },
    {
     "data": {
      "text/plain": [
       "4.4"
      ]
     },
     "execution_count": 4,
     "metadata": {},
     "output_type": "execute_result"
    }
   ],
   "source": [
    "2+3\n",
    "a=3.4\n",
    "a+1"
   ]
  },
  {
   "cell_type": "code",
   "execution_count": 2,
   "id": "a83db3e1",
   "metadata": {},
   "outputs": [
    {
     "data": {
      "text/plain": [
       "5"
      ]
     },
     "execution_count": 2,
     "metadata": {},
     "output_type": "execute_result"
    }
   ],
   "source": [
    "2+3"
   ]
  },
  {
   "cell_type": "code",
   "execution_count": 3,
   "id": "7c012231",
   "metadata": {},
   "outputs": [],
   "source": [
    "# See all cell outputs in Jupyter (or iPython)\n",
    "from IPython.core.interactiveshell import InteractiveShell\n",
    "InteractiveShell.ast_node_interactivity = \"all\""
   ]
  },
  {
   "cell_type": "code",
   "execution_count": 7,
   "id": "21d3b36a",
   "metadata": {},
   "outputs": [],
   "source": [
    "def Quadrado(x):\n",
    "    r = x*x\n",
    "    return x*x"
   ]
  },
  {
   "cell_type": "code",
   "execution_count": 8,
   "id": "30650232",
   "metadata": {},
   "outputs": [
    {
     "data": {
      "text/plain": [
       "4"
      ]
     },
     "execution_count": 8,
     "metadata": {},
     "output_type": "execute_result"
    },
    {
     "data": {
      "text/plain": [
       "0"
      ]
     },
     "execution_count": 8,
     "metadata": {},
     "output_type": "execute_result"
    },
    {
     "data": {
      "text/plain": [
       "9"
      ]
     },
     "execution_count": 8,
     "metadata": {},
     "output_type": "execute_result"
    },
    {
     "data": {
      "text/plain": [
       "100"
      ]
     },
     "execution_count": 8,
     "metadata": {},
     "output_type": "execute_result"
    }
   ],
   "source": [
    "Quadrado(-2)\n",
    "Quadrado(0)\n",
    "Quadrado(3)\n",
    "Quadrado(10)"
   ]
  },
  {
   "cell_type": "code",
   "execution_count": 9,
   "id": "c43240f9",
   "metadata": {},
   "outputs": [],
   "source": [
    "l = [3, 2.72, \"Python\"]"
   ]
  },
  {
   "cell_type": "code",
   "execution_count": 10,
   "id": "b592dd1b",
   "metadata": {},
   "outputs": [],
   "source": [
    "l = [-2, 0, 3, 10]"
   ]
  },
  {
   "cell_type": "code",
   "execution_count": 11,
   "id": "57c3661b",
   "metadata": {},
   "outputs": [
    {
     "data": {
      "text/plain": [
       "4"
      ]
     },
     "execution_count": 11,
     "metadata": {},
     "output_type": "execute_result"
    },
    {
     "data": {
      "text/plain": [
       "0"
      ]
     },
     "execution_count": 11,
     "metadata": {},
     "output_type": "execute_result"
    },
    {
     "data": {
      "text/plain": [
       "9"
      ]
     },
     "execution_count": 11,
     "metadata": {},
     "output_type": "execute_result"
    },
    {
     "data": {
      "text/plain": [
       "100"
      ]
     },
     "execution_count": 11,
     "metadata": {},
     "output_type": "execute_result"
    }
   ],
   "source": [
    "for i in l:\n",
    "    Quadrado(i)"
   ]
  },
  {
   "cell_type": "code",
   "execution_count": 12,
   "id": "b1d31090",
   "metadata": {},
   "outputs": [
    {
     "data": {
      "text/plain": [
       "-2"
      ]
     },
     "execution_count": 12,
     "metadata": {},
     "output_type": "execute_result"
    },
    {
     "data": {
      "text/plain": [
       "0"
      ]
     },
     "execution_count": 12,
     "metadata": {},
     "output_type": "execute_result"
    },
    {
     "data": {
      "text/plain": [
       "10"
      ]
     },
     "execution_count": 12,
     "metadata": {},
     "output_type": "execute_result"
    }
   ],
   "source": [
    "l[0]\n",
    "l[1]\n",
    "l[-1]"
   ]
  },
  {
   "cell_type": "code",
   "execution_count": 14,
   "id": "3256a022",
   "metadata": {},
   "outputs": [
    {
     "data": {
      "text/plain": [
       "[0, 1, 2, 3, 4]"
      ]
     },
     "execution_count": 14,
     "metadata": {},
     "output_type": "execute_result"
    },
    {
     "data": {
      "text/plain": [
       "[2, 3, 4, 5]"
      ]
     },
     "execution_count": 14,
     "metadata": {},
     "output_type": "execute_result"
    },
    {
     "data": {
      "text/plain": [
       "[10, 12, 14, 16, 18]"
      ]
     },
     "execution_count": 14,
     "metadata": {},
     "output_type": "execute_result"
    }
   ],
   "source": [
    "list(range(5))        # 0,...4\n",
    "list(range(2,6))      # 2,..,5\n",
    "list(range(10,20,2))  # 10, 12, 14, 18"
   ]
  },
  {
   "cell_type": "code",
   "execution_count": 15,
   "id": "769f70c0",
   "metadata": {},
   "outputs": [],
   "source": [
    "# Imprimir a lista como (indice, valor)\n"
   ]
  },
  {
   "cell_type": "code",
   "execution_count": 17,
   "id": "4a88e02f",
   "metadata": {},
   "outputs": [
    {
     "name": "stdout",
     "output_type": "stream",
     "text": [
      "0 -2\n",
      "1 0\n",
      "2 3\n",
      "3 10\n"
     ]
    }
   ],
   "source": [
    "for i in range(len(l)):\n",
    "    print(i, l[i])"
   ]
  },
  {
   "cell_type": "code",
   "execution_count": 18,
   "id": "f5071571",
   "metadata": {},
   "outputs": [],
   "source": [
    "nome=\"Maria\"\n",
    "idade=20\n",
    "altura=1.68"
   ]
  },
  {
   "cell_type": "code",
   "execution_count": 22,
   "id": "d5247787",
   "metadata": {},
   "outputs": [
    {
     "name": "stdout",
     "output_type": "stream",
     "text": [
      "O meu nome é Maria a minha idade é 20 e a minha altura é 1.7\n"
     ]
    }
   ],
   "source": [
    "texto = \"O meu nome é %s a minha idade é %d e a minha altura é %.1f\" %(nome, idade, altura)\n",
    "print(texto)"
   ]
  },
  {
   "cell_type": "code",
   "execution_count": 20,
   "id": "de4c34f1",
   "metadata": {
    "scrolled": true
   },
   "outputs": [
    {
     "name": "stdout",
     "output_type": "stream",
     "text": [
      "O meu nome é Maria a minha idade é 20 e a minha altura é 1.7\n"
     ]
    }
   ],
   "source": [
    "print(texto)"
   ]
  },
  {
   "cell_type": "code",
   "execution_count": 21,
   "id": "708df03c",
   "metadata": {},
   "outputs": [
    {
     "name": "stdout",
     "output_type": "stream",
     "text": [
      "O meu nome é Maria a idade é 21 anos e minha altura é 1.68cm.\n"
     ]
    }
   ],
   "source": [
    "texto = f\"O meu nome é {nome} a idade é {idade+1} anos e minha altura é {altura}cm.\"\n",
    "print(texto)"
   ]
  },
  {
   "cell_type": "code",
   "execution_count": 36,
   "id": "d1b3bf9a",
   "metadata": {},
   "outputs": [
    {
     "name": "stdout",
     "output_type": "stream",
     "text": [
      " 1 x 3 = 03\n",
      " 2 x 3 = 06\n",
      " 3 x 3 = 09\n",
      " 4 x 3 = 12\n",
      " 5 x 3 = 15\n",
      " 6 x 3 = 18\n",
      " 7 x 3 = 21\n",
      " 8 x 3 = 24\n",
      " 9 x 3 = 27\n",
      "10 x 3 = 30\n"
     ]
    }
   ],
   "source": [
    "# Imprimir a tabuada\n",
    "numero=3\n",
    "for i in range(1,11):\n",
    "    res = numero * i\n",
    "    print(f\"{i:2d} x {numero} = {res:02d}\")\n",
    "    # print(\"%2d x %d = %02d\" %(i, numero, res))"
   ]
  },
  {
   "cell_type": "code",
   "execution_count": 41,
   "id": "37cccb86",
   "metadata": {},
   "outputs": [
    {
     "name": "stdout",
     "output_type": "stream",
     "text": [
      " 2 x 3 = 06\n",
      " 4 x 3 = 12\n",
      " 6 x 3 = 18\n",
      " 8 x 3 = 24\n",
      "10 x 3 = 30\n"
     ]
    }
   ],
   "source": [
    "# mesma coisa mas sem imprimir os resultados ímpares\n",
    "numero=3\n",
    "for i in range(1,11):\n",
    "    res = numero * i\n",
    "    if res%2 == 0:\n",
    "        print(f\"{i:2d} x {numero} = {res:02d}\")"
   ]
  },
  {
   "cell_type": "code",
   "execution_count": 42,
   "id": "2ad19371",
   "metadata": {},
   "outputs": [],
   "source": [
    "def Integrate(f, x0, xf, dx):\n",
    "    soma = 0\n",
    "    x = x0 + dx/2\n",
    "    while x<=xf:\n",
    "        soma += dx*f(x)\n",
    "        x+=dx\n",
    "        \n",
    "    return soma"
   ]
  },
  {
   "cell_type": "code",
   "execution_count": 43,
   "id": "8057a540",
   "metadata": {},
   "outputs": [],
   "source": [
    "from math import sin, pi"
   ]
  },
  {
   "cell_type": "code",
   "execution_count": 44,
   "id": "dfc2d849",
   "metadata": {},
   "outputs": [
    {
     "data": {
      "text/plain": [
       "1.9999683662670709"
      ]
     },
     "execution_count": 44,
     "metadata": {},
     "output_type": "execute_result"
    }
   ],
   "source": [
    "Integrate(sin, 0, pi, 0.1)"
   ]
  },
  {
   "cell_type": "code",
   "execution_count": 45,
   "id": "ee1b3d65",
   "metadata": {},
   "outputs": [
    {
     "name": "stdout",
     "output_type": "stream",
     "text": [
      "0.5 \t 2.010873737223817\n",
      "0.1 \t 1.9999683662670709\n",
      "0.01 \t 2.0000070650799056\n",
      "0.001 \t 2.0000000003679577\n"
     ]
    }
   ],
   "source": [
    "dxl = [0.5, 0.1, 0.01, 0.001]\n",
    "\n",
    "for dx in dxl:\n",
    "    r = Integrate(sin, 0, pi, dx)\n",
    "    print(f\"{dx} \\t {r}\")"
   ]
  },
  {
   "cell_type": "code",
   "execution_count": null,
   "id": "c2741314",
   "metadata": {},
   "outputs": [],
   "source": []
  }
 ],
 "metadata": {
  "kernelspec": {
   "display_name": "Python 3 (ipykernel)",
   "language": "python",
   "name": "python3"
  },
  "language_info": {
   "codemirror_mode": {
    "name": "ipython",
    "version": 3
   },
   "file_extension": ".py",
   "mimetype": "text/x-python",
   "name": "python",
   "nbconvert_exporter": "python",
   "pygments_lexer": "ipython3",
   "version": "3.9.7"
  }
 },
 "nbformat": 4,
 "nbformat_minor": 5
}
