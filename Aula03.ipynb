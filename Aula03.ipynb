{
 "cells": [
  {
   "cell_type": "code",
   "execution_count": 1,
   "id": "b3c8ddef",
   "metadata": {},
   "outputs": [],
   "source": [
    "# See all cell outputs in Jupyter (or iPython)\n",
    "from IPython.core.interactiveshell import InteractiveShell\n",
    "InteractiveShell.ast_node_interactivity = \"all\""
   ]
  },
  {
   "cell_type": "code",
   "execution_count": 2,
   "id": "82b9b005",
   "metadata": {},
   "outputs": [],
   "source": [
    "from math import sin, pi, sqrt"
   ]
  },
  {
   "cell_type": "code",
   "execution_count": 3,
   "id": "77d77aa5",
   "metadata": {},
   "outputs": [],
   "source": [
    "def Integrate1D(f, x0, xf, num):\n",
    "    soma = 0\n",
    "    dx = (xf - x0)/num\n",
    "    x = x0 + dx/2\n",
    "    \n",
    "    for i in range(num):\n",
    "        soma += dx*f(x)\n",
    "        x += dx\n",
    "    \n",
    "    return soma"
   ]
  },
  {
   "cell_type": "code",
   "execution_count": 4,
   "id": "43b924cd",
   "metadata": {},
   "outputs": [
    {
     "data": {
      "text/plain": [
       "2.000082249070989"
      ]
     },
     "execution_count": 4,
     "metadata": {},
     "output_type": "execute_result"
    },
    {
     "data": {
      "text/plain": [
       "-2.0000822490709975"
      ]
     },
     "execution_count": 4,
     "metadata": {},
     "output_type": "execute_result"
    }
   ],
   "source": [
    "Integrate1D(sin, 0, pi, 100)\n",
    "Integrate1D(sin, pi, 2*pi, 100)"
   ]
  },
  {
   "cell_type": "code",
   "execution_count": 5,
   "id": "7c8e06d7",
   "metadata": {},
   "outputs": [
    {
     "data": {
      "text/plain": [
       "0.18772324228564696"
      ]
     },
     "execution_count": 5,
     "metadata": {},
     "output_type": "execute_result"
    },
    {
     "data": {
      "text/plain": [
       "3.090863736833498"
      ]
     },
     "execution_count": 5,
     "metadata": {},
     "output_type": "execute_result"
    },
    {
     "data": {
      "text/plain": [
       "2"
      ]
     },
     "execution_count": 5,
     "metadata": {},
     "output_type": "execute_result"
    }
   ],
   "source": [
    "import random\n",
    "\n",
    "# random.seed()\n",
    "\n",
    "random.random()         # num. aleat. entre [0, 1]\n",
    "random.uniform(1, 5)    # num. aleat. entre [1, 5] para números reais\n",
    "random.randrange(1, 5)  # num. aleat. entre [1, 5] inteiros"
   ]
  },
  {
   "cell_type": "code",
   "execution_count": 6,
   "id": "d54139d1",
   "metadata": {},
   "outputs": [],
   "source": [
    "def Integrate1DMC(f, x0, xf, n):\n",
    "    soma = 0\n",
    "    dx = (xf - x0)/n\n",
    "    \n",
    "    for i in range(n):\n",
    "        x = random.uniform(x0, xf)\n",
    "        soma += dx*f(x)\n",
    "        \n",
    "    return soma"
   ]
  },
  {
   "cell_type": "code",
   "execution_count": 7,
   "id": "d06c4688",
   "metadata": {},
   "outputs": [
    {
     "data": {
      "text/plain": [
       "1.9933466115123109"
      ]
     },
     "execution_count": 7,
     "metadata": {},
     "output_type": "execute_result"
    }
   ],
   "source": [
    "Integrate1DMC(sin, 0, pi, 100)"
   ]
  },
  {
   "cell_type": "code",
   "execution_count": 8,
   "id": "779203f1",
   "metadata": {},
   "outputs": [],
   "source": [
    "def Integrate2D(f, x0, xf, y0, yf, n):\n",
    "    \"\"\"\n",
    "    n: número de iterações por dimensão\n",
    "       o número total de iterações é n^2 (n**2: em Python)\n",
    "    \"\"\"\n",
    "    soma = 0\n",
    "    dx = (xf - x0)/n\n",
    "    dy = (yf - y0)/n\n",
    "    \n",
    "    x = x0 + dx/2\n",
    "    \n",
    "    for ix in range(n):\n",
    "        y = y0 + dy/2\n",
    "        for iy in range(n):\n",
    "            soma += dx*dy*f(x,y)\n",
    "            y += dy\n",
    "        x += dx\n",
    "            \n",
    "    return soma"
   ]
  },
  {
   "cell_type": "code",
   "execution_count": 9,
   "id": "66f11d8f",
   "metadata": {},
   "outputs": [],
   "source": [
    "def Paraboloide(x, y):\n",
    "    return 4-x*x-y*y # ou 4-x**2-y**2"
   ]
  },
  {
   "cell_type": "code",
   "execution_count": 10,
   "id": "929cc9fc",
   "metadata": {},
   "outputs": [
    {
     "data": {
      "text/plain": [
       "21.333333759984235"
      ]
     },
     "execution_count": 10,
     "metadata": {},
     "output_type": "execute_result"
    }
   ],
   "source": [
    "Integrate2D(Paraboloide, -2, 2, -2, 2, 10000)"
   ]
  },
  {
   "cell_type": "code",
   "execution_count": 11,
   "id": "ff2996d3",
   "metadata": {},
   "outputs": [],
   "source": [
    "def Integrate2DMC(f, x0, xf, y0, yf, n):\n",
    "    \"\"\"\n",
    "    n: quantidade de núm. aleatórios <=> núm. de iterações\n",
    "    \"\"\"\n",
    "    soma = 0\n",
    "    dx = (xf - x0)/sqrt(n)\n",
    "    dy = (yf - y0)/sqrt(n)\n",
    "    \n",
    "    for i in range(n):\n",
    "        x = random.uniform(x0, xf)\n",
    "        y = random.uniform(y0, yf)\n",
    "        \n",
    "        soma += dx*dy*f(x, y)\n",
    "    \n",
    "    return soma"
   ]
  },
  {
   "cell_type": "code",
   "execution_count": 12,
   "id": "a7914574",
   "metadata": {},
   "outputs": [
    {
     "data": {
      "text/plain": [
       "21.349226392039817"
      ]
     },
     "execution_count": 12,
     "metadata": {},
     "output_type": "execute_result"
    }
   ],
   "source": [
    "Integrate2DMC(Paraboloide, -2, 2, -2, 2, 1000)"
   ]
  },
  {
   "cell_type": "code",
   "execution_count": 13,
   "id": "e695020b",
   "metadata": {},
   "outputs": [],
   "source": [
    "def PI(N):\n",
    "    n = 0\n",
    "    for i in range(N):\n",
    "        x = random.uniform(-1,1)\n",
    "        y = random.uniform(-1,1)\n",
    "        \n",
    "        d = sqrt(x*x + y*y) \n",
    "        # ou d2 = x*x + y*y\n",
    "        \n",
    "        if d<=1:\n",
    "            n += 1\n",
    "        \n",
    "    return 4*n/N"
   ]
  },
  {
   "cell_type": "code",
   "execution_count": 17,
   "id": "a9cf2ba0",
   "metadata": {},
   "outputs": [
    {
     "data": {
      "text/plain": [
       "3.144"
      ]
     },
     "execution_count": 17,
     "metadata": {},
     "output_type": "execute_result"
    }
   ],
   "source": [
    "PI(1000)"
   ]
  },
  {
   "cell_type": "code",
   "execution_count": 15,
   "id": "4121c6c4",
   "metadata": {},
   "outputs": [
    {
     "data": {
      "text/plain": [
       "3.04"
      ]
     },
     "execution_count": 15,
     "metadata": {},
     "output_type": "execute_result"
    }
   ],
   "source": [
    "PI(100)"
   ]
  }
 ],
 "metadata": {
  "kernelspec": {
   "display_name": "Python 3 (ipykernel)",
   "language": "python",
   "name": "python3"
  },
  "language_info": {
   "codemirror_mode": {
    "name": "ipython",
    "version": 3
   },
   "file_extension": ".py",
   "mimetype": "text/x-python",
   "name": "python",
   "nbconvert_exporter": "python",
   "pygments_lexer": "ipython3",
   "version": "3.9.7"
  }
 },
 "nbformat": 4,
 "nbformat_minor": 5
}
