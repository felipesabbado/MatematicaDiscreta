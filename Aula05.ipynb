{
 "cells": [
  {
   "cell_type": "markdown",
   "id": "8ca22539",
   "metadata": {},
   "source": [
    "# Jacobi Method"
   ]
  },
  {
   "cell_type": "code",
   "execution_count": 4,
   "id": "099c60e1",
   "metadata": {},
   "outputs": [],
   "source": [
    "# See all cell outputs in Jupyter (or iPython)\n",
    "\n",
    "from IPython.core.interactiveshell import InteractiveShell\n",
    "InteractiveShell.ast_node_interactivity = \"all\""
   ]
  },
  {
   "cell_type": "code",
   "execution_count": 3,
   "id": "53a211c3",
   "metadata": {},
   "outputs": [],
   "source": [
    "import numpy as np"
   ]
  },
  {
   "cell_type": "code",
   "execution_count": 2,
   "id": "9a4ef5e5",
   "metadata": {},
   "outputs": [
    {
     "name": "stdout",
     "output_type": "stream",
     "text": [
      "Requirement already satisfied: numpy in c:\\users\\fsabb\\appdata\\local\\programs\\python\\python39\\lib\\site-packages (1.21.4)\n"
     ]
    }
   ],
   "source": [
    "!pip install numpy"
   ]
  },
  {
   "cell_type": "code",
   "execution_count": 9,
   "id": "8eb7728b",
   "metadata": {
    "scrolled": true
   },
   "outputs": [
    {
     "ename": "TypeError",
     "evalue": "unsupported operand type(s) for -: 'list' and 'list'",
     "output_type": "error",
     "traceback": [
      "\u001b[1;31m---------------------------------------------------------------------------\u001b[0m",
      "\u001b[1;31mTypeError\u001b[0m                                 Traceback (most recent call last)",
      "\u001b[1;32m~\\AppData\\Local\\Temp/ipykernel_12408/703565781.py\u001b[0m in \u001b[0;36m<module>\u001b[1;34m\u001b[0m\n\u001b[0;32m      1\u001b[0m \u001b[0mA\u001b[0m \u001b[1;33m=\u001b[0m \u001b[1;33m[\u001b[0m\u001b[1;36m1\u001b[0m\u001b[1;33m,\u001b[0m \u001b[1;36m3\u001b[0m\u001b[1;33m,\u001b[0m \u001b[1;36m4\u001b[0m\u001b[1;33m]\u001b[0m\u001b[1;33m\u001b[0m\u001b[1;33m\u001b[0m\u001b[0m\n\u001b[0;32m      2\u001b[0m \u001b[0mB\u001b[0m \u001b[1;33m=\u001b[0m \u001b[1;33m[\u001b[0m\u001b[1;36m0\u001b[0m\u001b[1;33m,\u001b[0m \u001b[1;36m2\u001b[0m\u001b[1;33m,\u001b[0m \u001b[1;36m3\u001b[0m\u001b[1;33m]\u001b[0m\u001b[1;33m\u001b[0m\u001b[1;33m\u001b[0m\u001b[0m\n\u001b[1;32m----> 3\u001b[1;33m \u001b[0mA\u001b[0m\u001b[1;33m-\u001b[0m\u001b[0mB\u001b[0m\u001b[1;33m\u001b[0m\u001b[1;33m\u001b[0m\u001b[0m\n\u001b[0m",
      "\u001b[1;31mTypeError\u001b[0m: unsupported operand type(s) for -: 'list' and 'list'"
     ]
    }
   ],
   "source": [
    "A = [1, 3, 4]\n",
    "B = [0, 2, 3]\n",
    "A-B"
   ]
  },
  {
   "cell_type": "markdown",
   "id": "0cc027e5",
   "metadata": {},
   "source": [
    "## Exemplos com NumPy"
   ]
  },
  {
   "cell_type": "code",
   "execution_count": 5,
   "id": "706fad47",
   "metadata": {},
   "outputs": [
    {
     "data": {
      "text/plain": [
       "array([1, 2, 3])"
      ]
     },
     "execution_count": 5,
     "metadata": {},
     "output_type": "execute_result"
    },
    {
     "data": {
      "text/plain": [
       "(3,)"
      ]
     },
     "execution_count": 5,
     "metadata": {},
     "output_type": "execute_result"
    }
   ],
   "source": [
    "# Um vetor linha\n",
    "A = np.array([1, 2, 3])\n",
    "A\n",
    "A.shape"
   ]
  },
  {
   "cell_type": "code",
   "execution_count": 15,
   "id": "b4d89994",
   "metadata": {},
   "outputs": [
    {
     "data": {
      "text/plain": [
       "array([[1, 2, 3]])"
      ]
     },
     "execution_count": 15,
     "metadata": {},
     "output_type": "execute_result"
    },
    {
     "data": {
      "text/plain": [
       "(1, 3)"
      ]
     },
     "execution_count": 15,
     "metadata": {},
     "output_type": "execute_result"
    }
   ],
   "source": [
    "AM = np.array([ [1, 2, 3] ])\n",
    "AM\n",
    "AM.shape"
   ]
  },
  {
   "cell_type": "code",
   "execution_count": 16,
   "id": "772135b5",
   "metadata": {},
   "outputs": [
    {
     "data": {
      "text/plain": [
       "array([[ 2, -3],\n",
       "       [ 4,  5]])"
      ]
     },
     "execution_count": 16,
     "metadata": {},
     "output_type": "execute_result"
    },
    {
     "data": {
      "text/plain": [
       "(2, 2)"
      ]
     },
     "execution_count": 16,
     "metadata": {},
     "output_type": "execute_result"
    }
   ],
   "source": [
    "M = np.array([ [2, -3], [4, 5] ])\n",
    "M\n",
    "M.shape"
   ]
  },
  {
   "cell_type": "code",
   "execution_count": 19,
   "id": "cdd60219",
   "metadata": {},
   "outputs": [
    {
     "data": {
      "text/plain": [
       "array([[-1],\n",
       "       [ 2],\n",
       "       [ 3]])"
      ]
     },
     "execution_count": 19,
     "metadata": {},
     "output_type": "execute_result"
    },
    {
     "data": {
      "text/plain": [
       "(3, 1)"
      ]
     },
     "execution_count": 19,
     "metadata": {},
     "output_type": "execute_result"
    }
   ],
   "source": [
    "# Matriz Coluna\n",
    "P = np.array([ [-1], [2], [3] ])\n",
    "P\n",
    "P.shape"
   ]
  },
  {
   "cell_type": "code",
   "execution_count": 27,
   "id": "123403fd",
   "metadata": {},
   "outputs": [
    {
     "data": {
      "text/plain": [
       "array([[-1],\n",
       "       [ 2],\n",
       "       [ 3]])"
      ]
     },
     "execution_count": 27,
     "metadata": {},
     "output_type": "execute_result"
    }
   ],
   "source": [
    "P = np.array([ [-1, 2, 3] ])\n",
    "P.T"
   ]
  },
  {
   "cell_type": "code",
   "execution_count": 29,
   "id": "c4250edd",
   "metadata": {},
   "outputs": [
    {
     "data": {
      "text/plain": [
       "array([[13, 24]])"
      ]
     },
     "execution_count": 29,
     "metadata": {},
     "output_type": "execute_result"
    },
    {
     "data": {
      "text/plain": [
       "array([[ 7, 16]])"
      ]
     },
     "execution_count": 29,
     "metadata": {},
     "output_type": "execute_result"
    },
    {
     "data": {
      "text/plain": [
       "array([[30, 80]])"
      ]
     },
     "execution_count": 29,
     "metadata": {},
     "output_type": "execute_result"
    },
    {
     "data": {
      "text/plain": [
       "array([[110]])"
      ]
     },
     "execution_count": 29,
     "metadata": {},
     "output_type": "execute_result"
    }
   ],
   "source": [
    "A = np.array([ [10, 20] ])\n",
    "B = np.array([ [3, 4] ])\n",
    "\n",
    "A+B\n",
    "A-B\n",
    "A*B # !!! Não é o produto matricial, é o produto elemento a elemento\n",
    "A.dot(B.T) # É o produto matricial da matriz A pela trasposta da matriz B"
   ]
  },
  {
   "cell_type": "markdown",
   "id": "586d0932",
   "metadata": {},
   "source": [
    "# Aula 06 - 29/10"
   ]
  },
  {
   "cell_type": "code",
   "execution_count": 6,
   "id": "a0d75dd1",
   "metadata": {},
   "outputs": [
    {
     "data": {
      "text/plain": [
       "array([[ 2,  3,  4],\n",
       "       [-1,  2,  0]])"
      ]
     },
     "execution_count": 6,
     "metadata": {},
     "output_type": "execute_result"
    }
   ],
   "source": [
    "A = np.array([ [2, 3, 4], [-1, 2, 0] ])\n",
    "A"
   ]
  },
  {
   "cell_type": "code",
   "execution_count": 7,
   "id": "030a7d8d",
   "metadata": {},
   "outputs": [
    {
     "data": {
      "text/plain": [
       "array([[ 2, -1],\n",
       "       [ 3,  2],\n",
       "       [ 4,  0]])"
      ]
     },
     "execution_count": 7,
     "metadata": {},
     "output_type": "execute_result"
    }
   ],
   "source": [
    "A.T # Matriz transposta de A"
   ]
  },
  {
   "cell_type": "code",
   "execution_count": 8,
   "id": "1cdf9664",
   "metadata": {
    "scrolled": true
   },
   "outputs": [
    {
     "data": {
      "text/plain": [
       "array([[ 1,  2],\n",
       "       [-1,  4]])"
      ]
     },
     "execution_count": 8,
     "metadata": {},
     "output_type": "execute_result"
    },
    {
     "data": {
      "text/plain": [
       "array([[ 0.66666667, -0.33333333],\n",
       "       [ 0.16666667,  0.16666667]])"
      ]
     },
     "execution_count": 8,
     "metadata": {},
     "output_type": "execute_result"
    },
    {
     "data": {
      "text/plain": [
       "array([[ 2,  3],\n",
       "       [ 1, -1]])"
      ]
     },
     "execution_count": 8,
     "metadata": {},
     "output_type": "execute_result"
    }
   ],
   "source": [
    "# Como calcular a matriz inversa com o NumPy\n",
    "B = np.array( [ [1, 2], [-1, 4] ] )\n",
    "B\n",
    "np.linalg.inv(B) # Matriz inversa de B\n",
    "\n",
    "C = np.array( [ [2, 3], [1, -1] ] )\n",
    "C"
   ]
  },
  {
   "cell_type": "code",
   "execution_count": 11,
   "id": "e0f27537",
   "metadata": {},
   "outputs": [
    {
     "data": {
      "text/plain": [
       "array([[3, 5],\n",
       "       [0, 3]])"
      ]
     },
     "execution_count": 11,
     "metadata": {},
     "output_type": "execute_result"
    },
    {
     "data": {
      "text/plain": [
       "array([[-1, -1],\n",
       "       [-2,  5]])"
      ]
     },
     "execution_count": 11,
     "metadata": {},
     "output_type": "execute_result"
    },
    {
     "data": {
      "text/plain": [
       "array([[ 2,  6],\n",
       "       [-1, -4]])"
      ]
     },
     "execution_count": 11,
     "metadata": {},
     "output_type": "execute_result"
    }
   ],
   "source": [
    "B+C\n",
    "B-C\n",
    "B*C # Não é a multiplicação de matrizes (multiplicação matricial), é a multiplicação elemento a elemento"
   ]
  },
  {
   "cell_type": "code",
   "execution_count": 12,
   "id": "f64be9b3",
   "metadata": {},
   "outputs": [
    {
     "data": {
      "text/plain": [
       "array([[ 4,  1],\n",
       "       [ 2, -7]])"
      ]
     },
     "execution_count": 12,
     "metadata": {},
     "output_type": "execute_result"
    },
    {
     "data": {
      "text/plain": [
       "array([[-1, 16],\n",
       "       [ 2, -2]])"
      ]
     },
     "execution_count": 12,
     "metadata": {},
     "output_type": "execute_result"
    }
   ],
   "source": [
    "# Multiplicação de Matrizes (multiplicação matricial) (não é comutativo)\n",
    "B.dot(C)\n",
    "C.dot(B)"
   ]
  },
  {
   "cell_type": "code",
   "execution_count": 9,
   "id": "470c0396",
   "metadata": {},
   "outputs": [],
   "source": [
    "# Função auxiliar Decompose (decompõe a matrix A em uma matriz diagonal D e uma matriz não-diagonal N)\n",
    "def Decompose(A):\n",
    "    # Inicialmente criamos D e N como matrizes nulas com o mesmo tamanho da matriz A\n",
    "    D = np.zeros(np.shape(A))\n",
    "    N = np.zeros(np.shape(A))\n",
    "    \n",
    "    for i in range(len(A)):\n",
    "        for j in range(len(A)):\n",
    "            if i==j:\n",
    "               D[i,j] = A[i,j]\n",
    "            else:\n",
    "                N[i,j] = A[i,j]\n",
    "    \n",
    "    return D, N"
   ]
  },
  {
   "cell_type": "code",
   "execution_count": 10,
   "id": "92d5f69e",
   "metadata": {},
   "outputs": [
    {
     "data": {
      "text/plain": [
       "array([[1, 2, 3],\n",
       "       [4, 5, 6],\n",
       "       [7, 8, 9]])"
      ]
     },
     "execution_count": 10,
     "metadata": {},
     "output_type": "execute_result"
    },
    {
     "data": {
      "text/plain": [
       "array([[1., 0., 0.],\n",
       "       [0., 5., 0.],\n",
       "       [0., 0., 9.]])"
      ]
     },
     "execution_count": 10,
     "metadata": {},
     "output_type": "execute_result"
    },
    {
     "data": {
      "text/plain": [
       "array([[0., 2., 3.],\n",
       "       [4., 0., 6.],\n",
       "       [7., 8., 0.]])"
      ]
     },
     "execution_count": 10,
     "metadata": {},
     "output_type": "execute_result"
    }
   ],
   "source": [
    "C = np.array([ [1, 2, 3], [4, 5, 6], [7, 8, 9] ])\n",
    "C\n",
    "D, N = Decompose(C)\n",
    "D\n",
    "N"
   ]
  },
  {
   "cell_type": "code",
   "execution_count": 11,
   "id": "054dd75b",
   "metadata": {},
   "outputs": [
    {
     "data": {
      "text/plain": [
       "array([[ 2,  3,  4],\n",
       "       [-1,  2,  0]])"
      ]
     },
     "execution_count": 11,
     "metadata": {},
     "output_type": "execute_result"
    },
    {
     "data": {
      "text/plain": [
       "array([[0., 0., 0.],\n",
       "       [0., 0., 0.]])"
      ]
     },
     "execution_count": 11,
     "metadata": {},
     "output_type": "execute_result"
    }
   ],
   "source": [
    "# Teste para fazer a função Inversa\n",
    "A\n",
    "np.zeros(A.shape)"
   ]
  },
  {
   "cell_type": "code",
   "execution_count": 12,
   "id": "ff65caec",
   "metadata": {},
   "outputs": [],
   "source": [
    "# Função auxiliar para calcular a inversa de uma matriz\n",
    "def Inversa(M):\n",
    "    # Iniciamos M_Inv como uma matriz de zeros do mesmo tamanho que M\n",
    "    M_Inv = np.zeros(M.shape)\n",
    "    \n",
    "    for i in range(len(M)):\n",
    "        M_Inv[i,i] = 1/M[i, i]\n",
    "    \n",
    "    return M_Inv"
   ]
  },
  {
   "cell_type": "code",
   "execution_count": 31,
   "id": "25d40bef",
   "metadata": {},
   "outputs": [
    {
     "data": {
      "text/plain": [
       "array([[1, 0, 0],\n",
       "       [0, 2, 0],\n",
       "       [0, 0, 3]])"
      ]
     },
     "execution_count": 31,
     "metadata": {},
     "output_type": "execute_result"
    },
    {
     "data": {
      "text/plain": [
       "array([[1.        , 0.        , 0.        ],\n",
       "       [0.        , 0.5       , 0.        ],\n",
       "       [0.        , 0.        , 0.33333333]])"
      ]
     },
     "execution_count": 31,
     "metadata": {},
     "output_type": "execute_result"
    }
   ],
   "source": [
    "D = np.array( [ [1, 0, 0], [0, 2, 0], [0, 0, 3] ])\n",
    "D\n",
    "Inversa(D)"
   ]
  },
  {
   "cell_type": "code",
   "execution_count": 13,
   "id": "98ba0b22",
   "metadata": {},
   "outputs": [],
   "source": [
    "def Jacobi(A, B, X, tol, max_iter):\n",
    "    # Garantimos que os argumentos/parâmetros são objetos NumPy Array\n",
    "    A = np.array(A)\n",
    "    B = np.array(B)\n",
    "    X = np.array(X)\n",
    "    \n",
    "    # Decompor A em duas matrizes\n",
    "    D, N = Decompose(A)\n",
    "    \n",
    "    # Calculamos a inversa de D\n",
    "    D1 = Inversa(D)\n",
    "    \n",
    "    # Definimos a função G\n",
    "    def G(X):\n",
    "        # D-1(B-NX)\n",
    "        return D1.dot(B-N.dot(X))\n",
    "    \n",
    "    # Algoritmo do ponto fixo\n",
    "    # Obtemos o novo ponto X\n",
    "    X1 = G(X)\n",
    "\n",
    "    # Calculamos o tamanho da diferença entre as duas soluções\n",
    "    norm = np.linalg.norm(X1-X)\n",
    "    \n",
    "    n = 1\n",
    "    while norm > tol and n < max_iter:\n",
    "        # Swap das variáveis\n",
    "        # Nesta iteração o X1 (atual) vai passar a ser o antigo (X)\n",
    "        X = X1\n",
    "        \n",
    "        # Calculamos o novo X\n",
    "        X1 = G(X)\n",
    "        \n",
    "        # Calculamos a nova distância entre os pontos (nova norma)\n",
    "        norm = np.linalg.norm(X1-X)\n",
    "        \n",
    "        # Incrementamos o novo contador\n",
    "        n += 1\n",
    "    \n",
    "    print(f\"Num. iterações {n}\")\n",
    "    \n",
    "    return X1"
   ]
  },
  {
   "cell_type": "code",
   "execution_count": 14,
   "id": "2632a059",
   "metadata": {},
   "outputs": [
    {
     "name": "stdout",
     "output_type": "stream",
     "text": [
      "Num. iterações 25\n"
     ]
    },
    {
     "data": {
      "text/plain": [
       "array([[-2.99999686],\n",
       "       [ 5.99999247]])"
      ]
     },
     "execution_count": 14,
     "metadata": {},
     "output_type": "execute_result"
    }
   ],
   "source": [
    "A1 = [ [3, 1], [1, 1]]\n",
    "B1 = [ [-3], [3] ]\n",
    "X = [ [1], [1] ]\n",
    "\n",
    "Jacobi(A1, B1, X, 0.00001, 100)"
   ]
  },
  {
   "cell_type": "code",
   "execution_count": 15,
   "id": "b937a88d",
   "metadata": {},
   "outputs": [
    {
     "name": "stdout",
     "output_type": "stream",
     "text": [
      "Num. iterações 100\n"
     ]
    },
    {
     "data": {
      "text/plain": [
       "array([[-3.58948994e+24],\n",
       "       [ 2.87159195e+24]])"
      ]
     },
     "execution_count": 15,
     "metadata": {},
     "output_type": "execute_result"
    }
   ],
   "source": [
    "A2 = [ [1, 3], [1, 1]]\n",
    "\n",
    "Jacobi(A2, B1, X, 0.001, 100)"
   ]
  },
  {
   "cell_type": "code",
   "execution_count": null,
   "id": "10783e3b",
   "metadata": {},
   "outputs": [],
   "source": []
  }
 ],
 "metadata": {
  "kernelspec": {
   "display_name": "Python 3 (ipykernel)",
   "language": "python",
   "name": "python3"
  },
  "language_info": {
   "codemirror_mode": {
    "name": "ipython",
    "version": 3
   },
   "file_extension": ".py",
   "mimetype": "text/x-python",
   "name": "python",
   "nbconvert_exporter": "python",
   "pygments_lexer": "ipython3",
   "version": "3.9.7"
  }
 },
 "nbformat": 4,
 "nbformat_minor": 5
}
