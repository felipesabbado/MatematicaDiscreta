{
 "cells": [
  {
   "cell_type": "code",
   "execution_count": 1,
   "id": "0503899b",
   "metadata": {},
   "outputs": [],
   "source": [
    "# See all cell outputs in Jupyter (or iPython)\n",
    "\n",
    "from IPython.core.interactiveshell import InteractiveShell\n",
    "InteractiveShell.ast_node_interactivity = \"all\""
   ]
  },
  {
   "cell_type": "markdown",
   "id": "8d5c8adc",
   "metadata": {},
   "source": [
    "# Root-finding Methods\n",
    "\n",
    "'f(x) = 0'\n",
    "\n",
    "## Métodos\n",
    "\n",
    "* Bisection (pesquisa binária)\n",
    "* False Position\n",
    "* Fixe-point\n",
    "\n",
    "## Summary\n",
    "\n",
    "* The goal is to find the roots (or zeros)"
   ]
  },
  {
   "cell_type": "code",
   "execution_count": 2,
   "id": "56842934",
   "metadata": {},
   "outputs": [],
   "source": [
    "from math import pi, sin, cos, log, exp, sqrt"
   ]
  },
  {
   "cell_type": "code",
   "execution_count": 67,
   "id": "d073a4e5",
   "metadata": {},
   "outputs": [],
   "source": [
    "def Bisection(f, a, b, tol, max_iter):\n",
    "    \"\"\"\n",
    "       f: função que pretendemos encontrar o zero f(x)==0\n",
    "    a, b: intervalo inicial\n",
    "     tol: tamanho mínimo do intervalo\n",
    "    \"\"\"\n",
    "    \n",
    "    assert a<b,         \"a must be lower than b\"\n",
    "    assert f(a)*f(b)<0, \"f(a) and f(b) must have opposite signs (mudança de sinais).\"\n",
    "    \n",
    "    # Ponto (palpite) inicial\n",
    "    x = (a+b)/2\n",
    "    \n",
    "    # O tamanho atual do intervalo\n",
    "    dx = b-a\n",
    "    \n",
    "    n = 0\n",
    "    while dx>tol and n<max_iter:\n",
    "        # Determinamos o novo intervalo\n",
    "        if f(a)*f(x)<0:\n",
    "            b = x\n",
    "        else:\n",
    "            a = x\n",
    "            \n",
    "        # determinamos o novo x\n",
    "        x = (a+b)/2\n",
    "        \n",
    "        # Determinamos o novo tamanho do intervalo\n",
    "        dx = b-a\n",
    "        \n",
    "        n += 1\n",
    "    \n",
    "    print(f\"Num. iteractions {n}\")\n",
    "    return x"
   ]
  },
  {
   "cell_type": "code",
   "execution_count": 68,
   "id": "b665cf83",
   "metadata": {},
   "outputs": [
    {
     "name": "stdout",
     "output_type": "stream",
     "text": [
      "Num. iteractions 13\n"
     ]
    },
    {
     "data": {
      "text/plain": [
       "3.141496779790551"
      ]
     },
     "execution_count": 68,
     "metadata": {},
     "output_type": "execute_result"
    }
   ],
   "source": [
    "Bisection(sin, pi/2, 2*pi, 0.001, 100)"
   ]
  },
  {
   "cell_type": "code",
   "execution_count": 69,
   "id": "464bfd27",
   "metadata": {},
   "outputs": [
    {
     "data": {
      "text/plain": [
       "12.202242914855562"
      ]
     },
     "execution_count": 69,
     "metadata": {},
     "output_type": "execute_result"
    }
   ],
   "source": [
    "# Calcular o número máximo de iterações necessárias para achar o zero da função\n",
    "a   = pi/2\n",
    "b   = 2*pi\n",
    "tol = 0.001\n",
    "\n",
    "log((b-a)/tol, 2)"
   ]
  },
  {
   "cell_type": "markdown",
   "id": "16de715c",
   "metadata": {},
   "source": [
    "# False Position Method (regula falsi)"
   ]
  },
  {
   "cell_type": "code",
   "execution_count": 85,
   "id": "871fe44a",
   "metadata": {},
   "outputs": [],
   "source": [
    "def FalsePosition(f, a, b, tol, max_iter):\n",
    "    \"\"\"\n",
    "       f: função que pretendemos encontrar o zero f(x)==0\n",
    "    a, b: intervalo inicial\n",
    "     tol: tamanho mínimo do intervalo\n",
    "    \"\"\"\n",
    "    \n",
    "    assert a<b,         \"a must be lower than b\"\n",
    "    assert f(a)*f(b)<0, \"f(a) and f(b) must have opposite signs (mudança de sinais).\"\n",
    "    \n",
    "    # Ponto (palpite) inicial\n",
    "    x = (a*f(b)-b*f(a))/(f(b)-f(a))\n",
    "    \n",
    "    # O tamanho atual do intervalo\n",
    "    dx = b-a\n",
    "    \n",
    "    n = 0\n",
    "    while dx>tol and n<max_iter:\n",
    "        # Determinamos o novo intervalo\n",
    "        if f(a)*f(x)<0:\n",
    "            b = x\n",
    "        else:\n",
    "            a = x\n",
    "            \n",
    "        # determinamos o novo x\n",
    "        x = (a*f(b)-b*f(a))/(f(b)-f(a))\n",
    "        \n",
    "        # Determinamos o novo tamanho do intervalo\n",
    "        dx = b-a\n",
    "        \n",
    "        n += 1\n",
    "    \n",
    "    print(f\"Num. iteractions {n}\")\n",
    "    return x"
   ]
  },
  {
   "cell_type": "code",
   "execution_count": 86,
   "id": "d4ee7022",
   "metadata": {},
   "outputs": [
    {
     "name": "stdout",
     "output_type": "stream",
     "text": [
      "Num. iteractions 0\n"
     ]
    },
    {
     "data": {
      "text/plain": [
       "6.2831853071795845"
      ]
     },
     "execution_count": 86,
     "metadata": {},
     "output_type": "execute_result"
    }
   ],
   "source": [
    "FalsePosition(sin, pi/2, 2*pi, 0.001, 100)"
   ]
  },
  {
   "cell_type": "code",
   "execution_count": 87,
   "id": "c8599485",
   "metadata": {},
   "outputs": [],
   "source": [
    "def auxFunc(x):\n",
    "    # 2x^3-4x^2+3x\n",
    "    return 2*x**3-4*x**2+3*x"
   ]
  },
  {
   "cell_type": "code",
   "execution_count": 88,
   "id": "abd98fc0",
   "metadata": {},
   "outputs": [
    {
     "name": "stdout",
     "output_type": "stream",
     "text": [
      "Num. iteractions 9\n"
     ]
    },
    {
     "data": {
      "text/plain": [
       "0.0009765625"
      ]
     },
     "execution_count": 88,
     "metadata": {},
     "output_type": "execute_result"
    }
   ],
   "source": [
    "Bisection(auxFunc, -1, 4, 0.01, 100)"
   ]
  },
  {
   "cell_type": "code",
   "execution_count": 91,
   "id": "850f3df5",
   "metadata": {},
   "outputs": [
    {
     "name": "stdout",
     "output_type": "stream",
     "text": [
      "Num. iteractions 0\n"
     ]
    },
    {
     "data": {
      "text/plain": [
       "-0.47058823529411764"
      ]
     },
     "execution_count": 91,
     "metadata": {},
     "output_type": "execute_result"
    }
   ],
   "source": [
    "FalsePosition(auxFunc, -1, 4, 0.01, 100)"
   ]
  },
  {
   "cell_type": "code",
   "execution_count": null,
   "id": "02866f98",
   "metadata": {},
   "outputs": [],
   "source": []
  }
 ],
 "metadata": {
  "kernelspec": {
   "display_name": "Python 3 (ipykernel)",
   "language": "python",
   "name": "python3"
  },
  "language_info": {
   "codemirror_mode": {
    "name": "ipython",
    "version": 3
   },
   "file_extension": ".py",
   "mimetype": "text/x-python",
   "name": "python",
   "nbconvert_exporter": "python",
   "pygments_lexer": "ipython3",
   "version": "3.9.7"
  }
 },
 "nbformat": 4,
 "nbformat_minor": 5
}
