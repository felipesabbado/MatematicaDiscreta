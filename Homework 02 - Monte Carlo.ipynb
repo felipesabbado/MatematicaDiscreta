{
 "cells": [
  {
   "cell_type": "markdown",
   "id": "986571dc",
   "metadata": {},
   "source": [
    "# Homework 2\n",
    "\n",
    "Stochastic methods"
   ]
  },
  {
   "cell_type": "markdown",
   "id": "8f91c30e",
   "metadata": {},
   "source": [
    "## Tarefa 1\n",
    "\n",
    "* Crie uma função de Python de nome MCMax para determinar o máximo de uma função passada como argumento.\n",
    "* Teste a função com quantidades diferentes de números aleatorios.\n",
    "\n",
    "Exemplo de utilização:\n",
    "\n",
    "`MCMax(sin, 0, 2*pi, 50)`"
   ]
  },
  {
   "cell_type": "code",
   "execution_count": 5,
   "id": "0f9083a9",
   "metadata": {},
   "outputs": [],
   "source": [
    "# A função MCMax aqui\n"
   ]
  },
  {
   "cell_type": "code",
   "execution_count": 6,
   "id": "8b5ee797",
   "metadata": {},
   "outputs": [],
   "source": [
    "# Os testes aqui\n"
   ]
  },
  {
   "cell_type": "markdown",
   "id": "297a36c6",
   "metadata": {},
   "source": [
    "## Tarefa 2\n",
    "\n",
    "* Crie uma função de Python de nome MCZeros para determinar o zero de uma função passada como argumento.\n",
    "* Teste a função com quantidades diferentes de números aleatorios.\n",
    "\n",
    "Exemplo de utilização:\n",
    "\n",
    "`MCZero(sin, 0.01, 2*pi-0.01, 50)`"
   ]
  },
  {
   "cell_type": "code",
   "execution_count": 7,
   "id": "e454a7c2",
   "metadata": {},
   "outputs": [],
   "source": [
    "# A função MCZero aqui\n"
   ]
  },
  {
   "cell_type": "code",
   "execution_count": 8,
   "id": "c74ae49c",
   "metadata": {},
   "outputs": [],
   "source": [
    "# Os testes aqui\n"
   ]
  },
  {
   "cell_type": "code",
   "execution_count": null,
   "id": "46885112",
   "metadata": {},
   "outputs": [],
   "source": []
  }
 ],
 "metadata": {
  "kernelspec": {
   "display_name": "Python 3 (ipykernel)",
   "language": "python",
   "name": "python3"
  },
  "language_info": {
   "codemirror_mode": {
    "name": "ipython",
    "version": 3
   },
   "file_extension": ".py",
   "mimetype": "text/x-python",
   "name": "python",
   "nbconvert_exporter": "python",
   "pygments_lexer": "ipython3",
   "version": "3.9.7"
  }
 },
 "nbformat": 4,
 "nbformat_minor": 5
}
