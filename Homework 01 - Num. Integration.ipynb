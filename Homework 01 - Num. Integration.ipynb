{
 "cells": [
  {
   "cell_type": "markdown",
   "id": "0bdb9227",
   "metadata": {},
   "source": [
    "# Homework 1\n",
    "\n",
    "Numerical integration of a function of one variable"
   ]
  },
  {
   "cell_type": "code",
   "execution_count": 1,
   "id": "b5fabb97",
   "metadata": {},
   "outputs": [],
   "source": [
    "# See all cell outputs in Jupyter (or iPython)\n",
    "\n",
    "from IPython.core.interactiveshell import InteractiveShell\n",
    "InteractiveShell.ast_node_interactivity = \"all\""
   ]
  },
  {
   "cell_type": "code",
   "execution_count": 2,
   "id": "af3ecf0f",
   "metadata": {},
   "outputs": [],
   "source": [
    "from math import sin, pi"
   ]
  },
  {
   "cell_type": "code",
   "execution_count": 13,
   "id": "a7f3b083",
   "metadata": {},
   "outputs": [],
   "source": [
    "# Uma das funções para utilizar nos testes\n",
    "# Integral(myFunc, -1, 1, ...) ≈ 1.85194\n",
    "\n",
    "def myFunc(x):\n",
    "    return sin(x)/x"
   ]
  },
  {
   "cell_type": "code",
   "execution_count": 3,
   "id": "e15ec9b0",
   "metadata": {},
   "outputs": [],
   "source": [
    "# Função desenvolvida na aula passada\n",
    "# para integrar f no intervalo [a, b] com subintervalos dx\n",
    "\n",
    "def MidPoint(f, x0, xf, dx):\n",
    "    \"\"\"\n",
    "     f: função a integrar\n",
    "    x0: inicio do intervalo de integração\n",
    "    xf: fim do interval de integração\n",
    "    dx: tamanho dos subintervalos de integração\n",
    "    \"\"\"\n",
    "\n",
    "    # A soma das subáreas\n",
    "    soma = 0\n",
    "    \n",
    "    # As altura vão ser calculadas no ponto medio do dx\n",
    "    x    = x0 + dx/2\n",
    "    \n",
    "    while x<=xf:\n",
    "        soma += dx*f(x)\n",
    "        x+=dx\n",
    "    \n",
    "    return soma"
   ]
  },
  {
   "cell_type": "markdown",
   "id": "59a85630",
   "metadata": {},
   "source": [
    "## Tarefa 1\n",
    "\n",
    "(5 min)\n",
    "\n",
    "* Reimplemente a função MidPoint da aula passada, mas utilizando um for loop.\n",
    "* Teste a função criada"
   ]
  },
  {
   "cell_type": "code",
   "execution_count": 4,
   "id": "e393c34c",
   "metadata": {},
   "outputs": [],
   "source": [
    "# A função MidPoint aqui\n",
    "\n",
    "def MidPoint1(f, x0, xf, dx):\n",
    "    pass\n",
    "    # your code"
   ]
  },
  {
   "cell_type": "code",
   "execution_count": 5,
   "id": "75246f89",
   "metadata": {},
   "outputs": [],
   "source": [
    "# Os testes aqui\n"
   ]
  },
  {
   "cell_type": "markdown",
   "id": "ee02b451",
   "metadata": {},
   "source": [
    "## Tarefa 2\n",
    "\n",
    "(5 min)\n",
    "\n",
    "* Crie a função `MidPoint2` que em vez de receber o argumento `dx` recebe um argumento `num`.\n",
    "* O novo argumento indica o número de iterações a realizar para percorrer o intervalo de integração.\n",
    "* Continua a ser necessário utilizar `dx` no código, contudo este não é passado como argumento.\n",
    "* Utilize um ciclo for em vez de um ciclo while.\n",
    "\n",
    "\n",
    "* Crie também um código para testar a função com `sin(x)` utilizando diferentes valores de `num`  \n",
    "Ex. `num_l = [1, 2, 4, 8, 16, 32, 64]`"
   ]
  },
  {
   "cell_type": "code",
   "execution_count": 6,
   "id": "913c27a7",
   "metadata": {},
   "outputs": [],
   "source": [
    "# a função MidPoint2 aqui\n"
   ]
  },
  {
   "cell_type": "code",
   "execution_count": 7,
   "id": "32f917fa",
   "metadata": {},
   "outputs": [],
   "source": [
    "# os testes aqui\n",
    "# têm que fazer um codigo equivalente ao utilizado anteriormente para testes\n",
    "# mas adpatado para utilizar uma lista de valores do argumento num\n"
   ]
  },
  {
   "cell_type": "markdown",
   "id": "ab7aade1",
   "metadata": {},
   "source": [
    "## Tarefa 3\n",
    "\n",
    "(10 min)\n",
    "\n",
    "Uma função pode ter um número finito de pontos de indefinição e existir a integral definida.  \n",
    "Por exemplo, a função `sin(x)/x` não está definida para `x=0`, contudo, podemos  calcular analiticamente a integral definida num intervalo que inclua o zero.  \n",
    "A integral de `sin(x)/x` no intervalo \\[-1, 1\\] é ~1.89216614.\n",
    "\n",
    "Porém, quando calculamos a integral numericamente temos um problema, se a variável x coincidir por acaso com o valor de indefinição (neste caso o zero) o código `f(x)` vai gerar um erro e o programa termina.\n",
    "\n",
    "Crie a função `MidPoint3` de forma a evitar o problema descrito.  \n",
    "Para simplificar, assuma que independentemente da função `f`, a ideterminacão acontence sempre em `x=0`.  \n",
    "\n",
    "Atenção, não é suficiente evitar o zero, a subárea correspondente tem que ser incluída na soma."
   ]
  },
  {
   "cell_type": "code",
   "execution_count": 11,
   "id": "b5756a12",
   "metadata": {
    "scrolled": false
   },
   "outputs": [
    {
     "ename": "ZeroDivisionError",
     "evalue": "float division by zero",
     "output_type": "error",
     "traceback": [
      "\u001b[0;31m---------------------------------------------------------------------------\u001b[0m",
      "\u001b[0;31mZeroDivisionError\u001b[0m                         Traceback (most recent call last)",
      "\u001b[0;32m/var/folders/gx/zkspbs3j09q7973kdrvnnkn80000gn/T/ipykernel_14770/1217730473.py\u001b[0m in \u001b[0;36m<module>\u001b[0;34m\u001b[0m\n\u001b[1;32m      4\u001b[0m \u001b[0;34m\u001b[0m\u001b[0m\n\u001b[1;32m      5\u001b[0m \u001b[0mdx\u001b[0m \u001b[0;34m=\u001b[0m \u001b[0;36m2\u001b[0m\u001b[0;34m/\u001b[0m\u001b[0;36m21\u001b[0m\u001b[0;34m\u001b[0m\u001b[0;34m\u001b[0m\u001b[0m\n\u001b[0;32m----> 6\u001b[0;31m \u001b[0mMidPoint\u001b[0m\u001b[0;34m(\u001b[0m\u001b[0mmyFunc\u001b[0m\u001b[0;34m,\u001b[0m \u001b[0;34m-\u001b[0m\u001b[0;36m1\u001b[0m\u001b[0;34m,\u001b[0m \u001b[0;36m1\u001b[0m\u001b[0;34m,\u001b[0m \u001b[0mdx\u001b[0m\u001b[0;34m)\u001b[0m\u001b[0;34m\u001b[0m\u001b[0;34m\u001b[0m\u001b[0m\n\u001b[0m",
      "\u001b[0;32m/var/folders/gx/zkspbs3j09q7973kdrvnnkn80000gn/T/ipykernel_14770/2937475009.py\u001b[0m in \u001b[0;36mMidPoint\u001b[0;34m(f, x0, xf, dx)\u001b[0m\n\u001b[1;32m     17\u001b[0m \u001b[0;34m\u001b[0m\u001b[0m\n\u001b[1;32m     18\u001b[0m     \u001b[0;32mwhile\u001b[0m \u001b[0mx\u001b[0m\u001b[0;34m<=\u001b[0m\u001b[0mxf\u001b[0m\u001b[0;34m:\u001b[0m\u001b[0;34m\u001b[0m\u001b[0;34m\u001b[0m\u001b[0m\n\u001b[0;32m---> 19\u001b[0;31m         \u001b[0msoma\u001b[0m \u001b[0;34m+=\u001b[0m \u001b[0mdx\u001b[0m\u001b[0;34m*\u001b[0m\u001b[0mf\u001b[0m\u001b[0;34m(\u001b[0m\u001b[0mx\u001b[0m\u001b[0;34m)\u001b[0m\u001b[0;34m\u001b[0m\u001b[0;34m\u001b[0m\u001b[0m\n\u001b[0m\u001b[1;32m     20\u001b[0m         \u001b[0mx\u001b[0m\u001b[0;34m+=\u001b[0m\u001b[0mdx\u001b[0m\u001b[0;34m\u001b[0m\u001b[0;34m\u001b[0m\u001b[0m\n\u001b[1;32m     21\u001b[0m \u001b[0;34m\u001b[0m\u001b[0m\n",
      "\u001b[0;32m/var/folders/gx/zkspbs3j09q7973kdrvnnkn80000gn/T/ipykernel_14770/1922123211.py\u001b[0m in \u001b[0;36mmyFunc\u001b[0;34m(x)\u001b[0m\n\u001b[1;32m      3\u001b[0m \u001b[0;34m\u001b[0m\u001b[0m\n\u001b[1;32m      4\u001b[0m \u001b[0;32mdef\u001b[0m \u001b[0mmyFunc\u001b[0m\u001b[0;34m(\u001b[0m\u001b[0mx\u001b[0m\u001b[0;34m)\u001b[0m\u001b[0;34m:\u001b[0m\u001b[0;34m\u001b[0m\u001b[0;34m\u001b[0m\u001b[0m\n\u001b[0;32m----> 5\u001b[0;31m     \u001b[0;32mreturn\u001b[0m \u001b[0msin\u001b[0m\u001b[0;34m(\u001b[0m\u001b[0mx\u001b[0m\u001b[0;34m)\u001b[0m\u001b[0;34m/\u001b[0m\u001b[0mx\u001b[0m\u001b[0;34m\u001b[0m\u001b[0;34m\u001b[0m\u001b[0m\n\u001b[0m",
      "\u001b[0;31mZeroDivisionError\u001b[0m: float division by zero"
     ]
    }
   ],
   "source": [
    "# Exemplo de como ocorre um erro utilizando a função MidPoint original\n",
    "# Recordar que sin(x)/x foi definida como myFunc\n",
    "# Vou seleccionar o dx para que apanhe o zero e ocorra um erro\n",
    "\n",
    "dx = 2/21\n",
    "MidPoint(myFunc, -1, 1, dx)"
   ]
  },
  {
   "cell_type": "code",
   "execution_count": null,
   "id": "974f0ef7",
   "metadata": {},
   "outputs": [],
   "source": [
    "# A função MidPoint3 aqui"
   ]
  },
  {
   "cell_type": "code",
   "execution_count": null,
   "id": "3ffee5b5",
   "metadata": {},
   "outputs": [],
   "source": [
    "# os testes aquí"
   ]
  },
  {
   "cell_type": "code",
   "execution_count": null,
   "id": "d55f8b05",
   "metadata": {},
   "outputs": [],
   "source": []
  }
 ],
 "metadata": {
  "kernelspec": {
   "display_name": "Python 3 (ipykernel)",
   "language": "python",
   "name": "python3"
  },
  "language_info": {
   "codemirror_mode": {
    "name": "ipython",
    "version": 3
   },
   "file_extension": ".py",
   "mimetype": "text/x-python",
   "name": "python",
   "nbconvert_exporter": "python",
   "pygments_lexer": "ipython3",
   "version": "3.9.7"
  }
 },
 "nbformat": 4,
 "nbformat_minor": 5
}
