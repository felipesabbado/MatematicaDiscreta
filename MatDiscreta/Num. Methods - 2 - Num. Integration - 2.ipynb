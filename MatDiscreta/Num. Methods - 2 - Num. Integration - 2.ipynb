{
 "cells": [
  {
   "cell_type": "markdown",
   "id": "93777bfc",
   "metadata": {},
   "source": [
    "# Numerical Integration\n",
    "\n",
    "# Content\n",
    "* Integration of a function of two variables\n",
    "* Stochastic (Monte Carlo) Method"
   ]
  },
  {
   "cell_type": "code",
   "execution_count": 1,
   "id": "759e1283",
   "metadata": {},
   "outputs": [],
   "source": [
    "# See all cell outputs in Jupyter (or iPython)\n",
    "\n",
    "from IPython.core.interactiveshell import InteractiveShell\n",
    "InteractiveShell.ast_node_interactivity = \"all\""
   ]
  },
  {
   "cell_type": "code",
   "execution_count": 2,
   "id": "9a09d5c5",
   "metadata": {},
   "outputs": [],
   "source": [
    "from math import sin, pi, sqrt"
   ]
  },
  {
   "cell_type": "code",
   "execution_count": 3,
   "id": "26dbbcfe",
   "metadata": {},
   "outputs": [],
   "source": [
    "import random\n",
    "random.seed() #https://en.wikipedia.org/wiki/Random_seed"
   ]
  },
  {
   "cell_type": "code",
   "execution_count": 4,
   "id": "df9b95b5",
   "metadata": {},
   "outputs": [],
   "source": [
    "# Função para integrar f no intervalo [x0, xf] com n iterações\n",
    "# Similar à função que desenvolvemos na aula passada,\n",
    "# mas neste caso utilizando um ciclo for\n",
    "\n",
    "def Integrate1D(f, x0, xf, n):\n",
    "    \"\"\"\n",
    "     f: função a integrar\n",
    "    x0: inicio do intervalo de integração\n",
    "    xf: fim do interval de integração\n",
    "     n: número de iterações\n",
    "    \"\"\"\n",
    "\n",
    "    soma = 0\n",
    "    dx   = (xf-x0)/n\n",
    "    x    = x0 + dx/2\n",
    "    \n",
    "    for i in range(n):\n",
    "        soma += dx*f(x)\n",
    "        x+=dx\n",
    "    \n",
    "    return soma"
   ]
  },
  {
   "cell_type": "markdown",
   "id": "233992ff",
   "metadata": {},
   "source": [
    "### Monte Carlo Method\n",
    "\n",
    "https://en.wikipedia.org/wiki/Monte_Carlo_method\n",
    "\n",
    "* Monte Carlo methods are computational algorithms that rely on random sampling to obtain numerical results.\n",
    "* The methods use randomness to solve problems that could be deterministic in principle.\n",
    "\n",
    "\n",
    "* Monte Carlo method was invented by Physicists while working on nuclear weapons projects at the Los Alamos National Laboratory.\n",
    "* Monte Carlo methods are also known to as stochastic simulation.\n",
    "\n",
    "\n",
    "* The method is mainly used in optimization, numerical integration, and generating draws from a probability distribution.\n",
    "* In general, Monte Carlo methods can be used to solve any problem having a probabilistic interpretation.\n",
    "\n",
    "\n",
    "* The quality of the pseudo-random numbers generator is crucial for the accuracy of the result.\n",
    "\n"
   ]
  },
  {
   "cell_type": "markdown",
   "id": "c88b3d37",
   "metadata": {},
   "source": [
    "## Exercise 1\n",
    "\n",
    "Create the Python function `Integrate1DMC` to calculate the definite integral of a function using the Monte Carlo method.\n",
    "* What arguments should the function have?"
   ]
  },
  {
   "cell_type": "code",
   "execution_count": 5,
   "id": "c4843656",
   "metadata": {},
   "outputs": [],
   "source": [
    "def Integrate1DMC(f, x0, xf, n):\n",
    "    \"\"\"\n",
    "     n: quantidade de números aleatorios <==> número de iterações\n",
    "    \"\"\"\n",
    "    \n",
    "    # Iniciamos o somador\n",
    "    soma = 0\n",
    "    \n",
    "    # Calculamos o dx\n",
    "    dx = (xf-x0)/n\n",
    "    \n",
    "    for i in range(n):\n",
    "        x = random.uniform(x0, xf)\n",
    "        soma += dx*f(x)\n",
    "    \n",
    "    return soma"
   ]
  },
  {
   "cell_type": "markdown",
   "id": "c67285c2",
   "metadata": {},
   "source": [
    "#### Test the code\n",
    "Test the code with the sine function in the interval \\[0, π \\] using `n=20`  \n",
    "Run the code several times to see how the result changes"
   ]
  },
  {
   "cell_type": "code",
   "execution_count": 6,
   "id": "b11d800d",
   "metadata": {},
   "outputs": [
    {
     "name": "stdout",
     "output_type": "stream",
     "text": [
      "1.8157\n",
      "2.0837\n",
      "2.3738\n",
      "2.0560\n",
      "2.3783\n",
      "2.2768\n",
      "2.0433\n",
      "1.8724\n",
      "1.6612\n",
      "2.2663\n",
      "Average = 2.0828\n"
     ]
    }
   ],
   "source": [
    "soma     = 0; # para calcular a média\n",
    "num_runs = 10 # número de corridas\n",
    "\n",
    "for i in range(num_runs):\n",
    "    I = Integrate1DMC(sin, 0, pi, 20)\n",
    "    print( f\"{I:.4f}\" )\n",
    "    soma += I\n",
    "\n",
    "average = soma/num_runs\n",
    "print(f\"Average = {average:.4f}\")"
   ]
  },
  {
   "cell_type": "markdown",
   "id": "b829bcb5",
   "metadata": {},
   "source": [
    "Os resultados podem ser muito diferentes em cada corrida, mas a média é próxima do valor esperado de 2.000."
   ]
  },
  {
   "cell_type": "markdown",
   "id": "534f6013",
   "metadata": {},
   "source": [
    "#### Test the code\n",
    "Test the code with the sine function in the interval \\[0, π \\] using diferent values for `n`  \n",
    "Compare the result with the determinist version"
   ]
  },
  {
   "cell_type": "code",
   "execution_count": 7,
   "id": "93737cad",
   "metadata": {},
   "outputs": [
    {
     "name": "stdout",
     "output_type": "stream",
     "text": [
      "N\tMP\tMC\n",
      "5\t2.0333\t2.0021\n",
      "10\t2.0082\t2.5188\n",
      "100\t2.0001\t1.9796\n",
      "200\t2.0000\t2.0171\n",
      "500\t2.0000\t1.9944\n",
      "1000\t2.0000\t2.0296\n",
      "2000\t2.0000\t2.0044\n"
     ]
    }
   ],
   "source": [
    "num_iter = [5, 10, 100, 200, 500, 1000, 2000]\n",
    "\n",
    "print(\"N\\tMP\\tMC\") # num iter, middle point, monte carlo\n",
    "\n",
    "for n in num_iter:\n",
    "    I_MP = Integrate1D(sin, 0, pi, n)\n",
    "    I_MC = Integrate1DMC(sin, 0, pi, n)\n",
    "    print(f\"{n}\\t{I_MP:.4f}\\t{I_MC:.4f}\")"
   ]
  },
  {
   "cell_type": "markdown",
   "id": "c9d9e0c4",
   "metadata": {},
   "source": [
    "Para este problema unidimensional não há vantagem em utilizar Monte Carlo.  \n",
    "O método do ponto médio (método determinístico) converge muito rapidamente ao valor esperado."
   ]
  },
  {
   "cell_type": "markdown",
   "id": "6f4f8227",
   "metadata": {},
   "source": [
    "## Exercise 2\n",
    "\n",
    "Implement the function `Integrate2D` to compute the definite integral of a 2D function.\n",
    "\n",
    "* What arguments should the function have?\n",
    "* Test you result with the paraboloid `4-x^2-y^2` in the interval `x∈[-2,2]`, `y∈[-2,2]`  \n",
    "  The analytica result is 64/3 ~ 21.33333"
   ]
  },
  {
   "cell_type": "code",
   "execution_count": 8,
   "id": "4a3ad1d2",
   "metadata": {},
   "outputs": [],
   "source": [
    "def Integrate2D(f, x0, xf, y0, yf, n):\n",
    "    \"\"\"\n",
    "    n: number of iteration per dimension\n",
    "       the total number of iterations is n^2\n",
    "    \"\"\"\n",
    "    \n",
    "    soma = 0\n",
    "        \n",
    "    dx = (xf-x0)/n\n",
    "    dy = (yf-y0)/n\n",
    "    \n",
    "    x = x0 + dx/2\n",
    "    for ix in range(n):\n",
    "\n",
    "        y = y0 + dy/2\n",
    "        for iy in range(n):\n",
    "            soma += f(x,y)*dx*dy\n",
    "            y += dy\n",
    "        \n",
    "        x += dx\n",
    "        \n",
    "    return soma          "
   ]
  },
  {
   "cell_type": "code",
   "execution_count": 9,
   "id": "db85587c",
   "metadata": {},
   "outputs": [
    {
     "data": {
      "text/plain": [
       "4"
      ]
     },
     "execution_count": 9,
     "metadata": {},
     "output_type": "execute_result"
    },
    {
     "data": {
      "text/plain": [
       "0"
      ]
     },
     "execution_count": 9,
     "metadata": {},
     "output_type": "execute_result"
    },
    {
     "data": {
      "text/plain": [
       "0"
      ]
     },
     "execution_count": 9,
     "metadata": {},
     "output_type": "execute_result"
    }
   ],
   "source": [
    "# Criamo uma fução de Python para a função matemática que pretendemos integrar\n",
    "\n",
    "def Paraboloid(x, y):\n",
    "    return 4-(x**2)-(y**2)\n",
    "\n",
    "Paraboloid(0,0)\n",
    "Paraboloid(-2,0)\n",
    "Paraboloid(0,2)"
   ]
  },
  {
   "cell_type": "code",
   "execution_count": 10,
   "id": "9959f5d8",
   "metadata": {},
   "outputs": [
    {
     "name": "stdout",
     "output_type": "stream",
     "text": [
      "Exact solution: 21.3333\n",
      "N =    5  I = 23.0400\n",
      "N =   10  I = 21.7600\n",
      "N =   50  I = 21.3504\n",
      "N =  100  I = 21.3376\n",
      "N =  200  I = 21.3344\n"
     ]
    }
   ],
   "source": [
    "print(\"Exact solution: 21.3333\")\n",
    "\n",
    "n_l = [5, 10, 50, 100, 200]\n",
    "\n",
    "for n in n_l:\n",
    "    I = Integrate2D(Paraboloid, -2, 2, -2, 2, n)\n",
    "    print(f\"N = {n:4d}  I = {I:.4f}\")"
   ]
  },
  {
   "cell_type": "markdown",
   "id": "dd9af5da",
   "metadata": {},
   "source": [
    "## Exercise 3\n",
    "\n",
    "Implement the function `Integrate2DMC`  \n",
    "This function integrates a function of two variables using the Monte Carlo method."
   ]
  },
  {
   "cell_type": "code",
   "execution_count": 11,
   "id": "ac16950f",
   "metadata": {},
   "outputs": [],
   "source": [
    "def Integrate2DMC(f, x0, xf, y0, yf, n):\n",
    "\n",
    "    soma = 0\n",
    "        \n",
    "    dx = (xf-x0)/sqrt(n)\n",
    "    dy = (yf-y0)/sqrt(n)\n",
    "    \n",
    "    for i in range(n):\n",
    "        x = random.uniform(x0, xf)\n",
    "        y = random.uniform(y0, yf)\n",
    "        soma += f(x,y)*dx*dy\n",
    "    \n",
    "    return soma   "
   ]
  },
  {
   "cell_type": "code",
   "execution_count": 12,
   "id": "4825886c",
   "metadata": {
    "scrolled": true
   },
   "outputs": [
    {
     "data": {
      "text/plain": [
       "21.17705463188905"
      ]
     },
     "execution_count": 12,
     "metadata": {},
     "output_type": "execute_result"
    }
   ],
   "source": [
    "Integrate2DMC(Paraboloid, -2, 2, -2, 2, 1000)"
   ]
  },
  {
   "cell_type": "markdown",
   "id": "551301ab",
   "metadata": {},
   "source": [
    "#### Test the code\n",
    "Test the code with the sine function in the interval \\[0, π \\] using diferent values for `n`  \n",
    "Compare the result with the determinist version"
   ]
  },
  {
   "cell_type": "code",
   "execution_count": 13,
   "id": "9d5a67e2",
   "metadata": {},
   "outputs": [
    {
     "name": "stdout",
     "output_type": "stream",
     "text": [
      "Exact solution: 21.3333\n",
      "N\tMP\t\tMC\n",
      "5\t23.0400\t\t23.7614\n",
      "10\t21.7600\t\t20.4259\n",
      "50\t21.3504\t\t20.6512\n",
      "100\t21.3376\t\t21.8050\n",
      "200\t21.3344\t\t21.0295\n"
     ]
    }
   ],
   "source": [
    "n_l = [5, 10, 50, 100, 200]\n",
    "\n",
    "print(\"Exact solution: 21.3333\")\n",
    "print(\"N\\tMP\\t\\tMC\") # middle point, monte carlo\n",
    "\n",
    "for n in n_l:\n",
    "    I_MP = Integrate2D  (Paraboloid, -2, 2, -2, 2, n)\n",
    "    I_MC = Integrate2DMC(Paraboloid, -2, 2, -2, 2, n*n)\n",
    "    print(f\"{n}\\t{I_MP:.4f}\\t\\t{I_MC:.4f}\")"
   ]
  },
  {
   "cell_type": "markdown",
   "id": "ee0f1b0c",
   "metadata": {},
   "source": [
    "### Example: Calculation of π\n",
    "\n",
    "This code solves a classic problem using the Monte Carlo method.  \n",
    "The code calculates the value of constant π by simulating a\n",
    "dart-throwing game."
   ]
  },
  {
   "cell_type": "code",
   "execution_count": 14,
   "id": "a93c1b61",
   "metadata": {},
   "outputs": [],
   "source": [
    "def RandomPoint():\n",
    "    x = random.uniform(-1, 1)\n",
    "    y = random.uniform(-1, 1)\n",
    "    return (x, y)"
   ]
  },
  {
   "cell_type": "code",
   "execution_count": 15,
   "id": "2818010c",
   "metadata": {},
   "outputs": [
    {
     "name": "stdout",
     "output_type": "stream",
     "text": [
      "0.6877812725740517 -0.04390376486251957\n"
     ]
    }
   ],
   "source": [
    "# Exemplo de ponto aleatorio\n",
    "\n",
    "x, y = RandomPoint()\n",
    "print(x, y)"
   ]
  },
  {
   "cell_type": "code",
   "execution_count": 16,
   "id": "dbfecfbb",
   "metadata": {},
   "outputs": [],
   "source": [
    "def Pi(N):\n",
    "    \n",
    "    # Iniciamos o contador\n",
    "    n = 0\n",
    "    \n",
    "    for i in range(N):\n",
    "        x, y = RandomPoint()\n",
    "        d = x*x+y*y \n",
    "        if d<1:\n",
    "            n += 1\n",
    "    \n",
    "    return 4*n/N"
   ]
  },
  {
   "cell_type": "code",
   "execution_count": 17,
   "id": "8ca1dc22",
   "metadata": {},
   "outputs": [
    {
     "name": "stdout",
     "output_type": "stream",
     "text": [
      "N =     5  Pi = 2.4000\n",
      "N =    50  Pi = 2.8000\n",
      "N =   100  Pi = 3.1600\n",
      "N =   500  Pi = 3.1360\n",
      "N =  1000  Pi = 3.1960\n",
      "N =  5000  Pi = 3.1064\n"
     ]
    }
   ],
   "source": [
    "N_l = [5, 50, 100, 500, 1000, 5000]\n",
    "\n",
    "for N in N_l:\n",
    "    val_pi = Pi(N)\n",
    "    print( f\"N = {N:5d}  Pi = {val_pi:.4f}\")"
   ]
  },
  {
   "cell_type": "code",
   "execution_count": null,
   "id": "809e907e",
   "metadata": {},
   "outputs": [],
   "source": []
  }
 ],
 "metadata": {
  "kernelspec": {
   "display_name": "Python 3 (ipykernel)",
   "language": "python",
   "name": "python3"
  },
  "language_info": {
   "codemirror_mode": {
    "name": "ipython",
    "version": 3
   },
   "file_extension": ".py",
   "mimetype": "text/x-python",
   "name": "python",
   "nbconvert_exporter": "python",
   "pygments_lexer": "ipython3",
   "version": "3.9.7"
  }
 },
 "nbformat": 4,
 "nbformat_minor": 5
}
