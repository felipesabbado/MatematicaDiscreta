{
 "cells": [
  {
   "cell_type": "markdown",
   "id": "9bd9dc49",
   "metadata": {},
   "source": [
    "# Jacobi Method\n",
    "\n",
    "* The Jacobi method is an iterative algorithm for determining the solutions of a system of linear equations.\n",
    "* The system must be diagonally dominant.\n",
    "  https://en.wikipedia.org/wiki/Diagonally_dominant_matrix\n",
    "* The general algorithm follows the same structure as the fixed-point method studied earlier."
   ]
  },
  {
   "cell_type": "code",
   "execution_count": 1,
   "id": "eb53c221",
   "metadata": {},
   "outputs": [],
   "source": [
    "# See all cell outputs in Jupyter (or iPython)\n",
    "\n",
    "from IPython.core.interactiveshell import InteractiveShell\n",
    "InteractiveShell.ast_node_interactivity = \"all\""
   ]
  },
  {
   "cell_type": "code",
   "execution_count": 3,
   "id": "2de26efd",
   "metadata": {},
   "outputs": [],
   "source": [
    "# Se for preciso instalar NumPy corra o código abaixo\n",
    "# !pip install numpy"
   ]
  },
  {
   "cell_type": "code",
   "execution_count": 4,
   "id": "5ed3228a",
   "metadata": {},
   "outputs": [],
   "source": [
    "from math import sqrt\n",
    "import numpy as np"
   ]
  },
  {
   "cell_type": "markdown",
   "id": "a8a509f5",
   "metadata": {},
   "source": [
    "## NumPy Examples"
   ]
  },
  {
   "cell_type": "code",
   "execution_count": 6,
   "id": "51b95ef2",
   "metadata": {},
   "outputs": [],
   "source": [
    "# Criar uma matrix\n",
    "# !!! Vamos utilizar sempre listas de listas para garantir um array 2D (uma Matriz) !!!\n",
    "\n",
    "A_Vector = np.array( [3] )\n",
    "A_Matriz = np.array( [[3]] )\n",
    "B = np.array( [ [1, 2] ] )\n",
    "C = np.array( [ [1, 2], [3,4], [4, 5] ] )"
   ]
  },
  {
   "cell_type": "code",
   "execution_count": 7,
   "id": "bf49ffd6",
   "metadata": {},
   "outputs": [
    {
     "data": {
      "text/plain": [
       "array([3])"
      ]
     },
     "execution_count": 7,
     "metadata": {},
     "output_type": "execute_result"
    },
    {
     "data": {
      "text/plain": [
       "(1,)"
      ]
     },
     "execution_count": 7,
     "metadata": {},
     "output_type": "execute_result"
    },
    {
     "data": {
      "text/plain": [
       "array([[3]])"
      ]
     },
     "execution_count": 7,
     "metadata": {},
     "output_type": "execute_result"
    },
    {
     "data": {
      "text/plain": [
       "(1, 1)"
      ]
     },
     "execution_count": 7,
     "metadata": {},
     "output_type": "execute_result"
    }
   ],
   "source": [
    "A_Vector\n",
    "A_Vector.shape\n",
    "A_Matriz\n",
    "A_Matriz.shape"
   ]
  },
  {
   "cell_type": "code",
   "execution_count": 10,
   "id": "eaa3331b",
   "metadata": {},
   "outputs": [
    {
     "data": {
      "text/plain": [
       "array([[1, 2]])"
      ]
     },
     "execution_count": 10,
     "metadata": {},
     "output_type": "execute_result"
    },
    {
     "data": {
      "text/plain": [
       "(1, 2)"
      ]
     },
     "execution_count": 10,
     "metadata": {},
     "output_type": "execute_result"
    },
    {
     "data": {
      "text/plain": [
       "array([[1, 2],\n",
       "       [3, 4],\n",
       "       [4, 5]])"
      ]
     },
     "execution_count": 10,
     "metadata": {},
     "output_type": "execute_result"
    },
    {
     "data": {
      "text/plain": [
       "(3, 2)"
      ]
     },
     "execution_count": 10,
     "metadata": {},
     "output_type": "execute_result"
    }
   ],
   "source": [
    "B\n",
    "B.shape\n",
    "C\n",
    "C.shape"
   ]
  },
  {
   "cell_type": "code",
   "execution_count": 11,
   "id": "b52ab02f",
   "metadata": {},
   "outputs": [
    {
     "data": {
      "text/plain": [
       "10.0"
      ]
     },
     "execution_count": 11,
     "metadata": {},
     "output_type": "execute_result"
    },
    {
     "data": {
      "text/plain": [
       "5.0"
      ]
     },
     "execution_count": 11,
     "metadata": {},
     "output_type": "execute_result"
    }
   ],
   "source": [
    "# A magnitude ou norma de um vector é\n",
    "\n",
    "A = np.array([[10]])    # norma = 10\n",
    "B = np.array([[3, 4]])  # norma = sqrt(3^2 + 4^2) = 5\n",
    "\n",
    "np.linalg.norm(A)\n",
    "np.linalg.norm(B)"
   ]
  },
  {
   "cell_type": "code",
   "execution_count": 12,
   "id": "63278cd2",
   "metadata": {},
   "outputs": [
    {
     "data": {
      "text/plain": [
       "array([[13, 24]])"
      ]
     },
     "execution_count": 12,
     "metadata": {},
     "output_type": "execute_result"
    },
    {
     "data": {
      "text/plain": [
       "array([[ 7, 16]])"
      ]
     },
     "execution_count": 12,
     "metadata": {},
     "output_type": "execute_result"
    },
    {
     "data": {
      "text/plain": [
       "array([[30, 80]])"
      ]
     },
     "execution_count": 12,
     "metadata": {},
     "output_type": "execute_result"
    }
   ],
   "source": [
    "# Para as operações de soma, subtração, e multiplicação (elemento a elemento)\n",
    "# não precisamos de invocar um método, podemos utilizar os operadores convencionais\n",
    "\n",
    "A = np.array([[10, 20]])\n",
    "B = np.array([[3, 4]])\n",
    "\n",
    "A+B\n",
    "A-B\n",
    "A*B # !!! Não é o produto de matrices. É o produto elemento a elemento !!!"
   ]
  },
  {
   "cell_type": "code",
   "execution_count": 13,
   "id": "7be01160",
   "metadata": {},
   "outputs": [
    {
     "data": {
      "text/plain": [
       "array([[50],\n",
       "       [80]])"
      ]
     },
     "execution_count": 13,
     "metadata": {},
     "output_type": "execute_result"
    },
    {
     "data": {
      "text/plain": [
       "array([[50],\n",
       "       [80]])"
      ]
     },
     "execution_count": 13,
     "metadata": {},
     "output_type": "execute_result"
    }
   ],
   "source": [
    "# Para o produto matricial temos que utilizar um método\n",
    "\n",
    "A = np.array([[1, 2], [0, 4]])\n",
    "# A = | 1  2 |\n",
    "#     | 0  4 |\n",
    "\n",
    "B = np.array([[10], [20]])\n",
    "# B = | 10 |\n",
    "#     | 20 |\n",
    "\n",
    "A.dot(B)\n",
    "#or\n",
    "np.dot(A, B)"
   ]
  },
  {
   "cell_type": "code",
   "execution_count": 14,
   "id": "cc5a3e0f",
   "metadata": {},
   "outputs": [
    {
     "data": {
      "text/plain": [
       "array([[ 1.  , -0.5 ],\n",
       "       [ 0.  ,  0.25]])"
      ]
     },
     "execution_count": 14,
     "metadata": {},
     "output_type": "execute_result"
    },
    {
     "data": {
      "text/plain": [
       "array([[1., 0.],\n",
       "       [0., 1.]])"
      ]
     },
     "execution_count": 14,
     "metadata": {},
     "output_type": "execute_result"
    }
   ],
   "source": [
    "# Para calcular a inversa de uma matriz\n",
    "A = np.array([[1, 2], [0, 4]])\n",
    "# A = | 1  2 |\n",
    "#     | 0  4 |\n",
    "\n",
    "A1 = np.linalg.inv(A)\n",
    "A1\n",
    "\n",
    "# Verificação\n",
    "A.dot(A1) # Matriz identidade"
   ]
  },
  {
   "cell_type": "code",
   "execution_count": 15,
   "id": "838d67a9",
   "metadata": {},
   "outputs": [],
   "source": [
    "# Contudo nós vamos definir a nossa própia função para calcular a inversa de uma matriz diagonal\n",
    "\n",
    "def Inverse(M):\n",
    "    \"\"\"\n",
    "    Determina a inversa da matriz diagonal M\n",
    "    defininida como NumPy Array \n",
    "    \"\"\"\n",
    "    \n",
    "    # Iniciamos M_Inv como uma matriz de zeros do mesmo tamanho que M\n",
    "    M_Inv = np.zeros(M.shape)\n",
    "    \n",
    "    # A inversa de uma matriz diagonal M é uma matriz diagonal contendo os reciprocos de M\n",
    "    for i in range(len(M)):\n",
    "        M_Inv[i,i] = 1/M[i,i]\n",
    "    \n",
    "    return M_Inv"
   ]
  },
  {
   "cell_type": "code",
   "execution_count": 16,
   "id": "a6c5a654",
   "metadata": {},
   "outputs": [
    {
     "data": {
      "text/plain": [
       "array([[1, 0, 0],\n",
       "       [0, 2, 0],\n",
       "       [0, 0, 3]])"
      ]
     },
     "execution_count": 16,
     "metadata": {},
     "output_type": "execute_result"
    },
    {
     "data": {
      "text/plain": [
       "array([[1.        , 0.        , 0.        ],\n",
       "       [0.        , 0.5       , 0.        ],\n",
       "       [0.        , 0.        , 0.33333333]])"
      ]
     },
     "execution_count": 16,
     "metadata": {},
     "output_type": "execute_result"
    }
   ],
   "source": [
    "D = np.array( [ [1, 0, 0], [0, 2, 0], [0, 0, 3] ])\n",
    "D\n",
    "Inverse(D)"
   ]
  },
  {
   "cell_type": "code",
   "execution_count": 17,
   "id": "1b41e303",
   "metadata": {},
   "outputs": [],
   "source": [
    "# Também vamos precisar de descompor a matriz A em D+N\n",
    "\n",
    "def Decompose(A):\n",
    "    \"\"\"\n",
    "    Dada a matriz A (numpy array) devolve D e N.\n",
    "    D: matriz diagonal obtida dos elementos da diagonal de A.\n",
    "    N: matriz obtida com os elementos não diagonais de A e zero na diagonal.\n",
    "    \"\"\"\n",
    "    \n",
    "    # Inicialmente criamos D e N como uma matriz nula do mesmo tamanho que A\n",
    "    D = np.zeros(A.shape)\n",
    "    N = np.zeros(A.shape)\n",
    "    \n",
    "    for i in range(len(A)):\n",
    "        for j in range(len(A)):\n",
    "            if i==j:\n",
    "                D[i,j] = A[i,j]\n",
    "            else:\n",
    "                N[i,j] = A[i,j]\n",
    "    \n",
    "    return D, N"
   ]
  },
  {
   "cell_type": "code",
   "execution_count": 19,
   "id": "02b1f824",
   "metadata": {},
   "outputs": [
    {
     "data": {
      "text/plain": [
       "array([[1, 2, 3],\n",
       "       [4, 5, 6],\n",
       "       [7, 8, 9]])"
      ]
     },
     "execution_count": 19,
     "metadata": {},
     "output_type": "execute_result"
    },
    {
     "data": {
      "text/plain": [
       "array([[1., 0., 0.],\n",
       "       [0., 5., 0.],\n",
       "       [0., 0., 9.]])"
      ]
     },
     "execution_count": 19,
     "metadata": {},
     "output_type": "execute_result"
    },
    {
     "data": {
      "text/plain": [
       "array([[0., 2., 3.],\n",
       "       [4., 0., 6.],\n",
       "       [7., 8., 0.]])"
      ]
     },
     "execution_count": 19,
     "metadata": {},
     "output_type": "execute_result"
    }
   ],
   "source": [
    "A=np.array( [ [1, 2, 3], [4, 5, 6], [7, 8, 9]  ] )\n",
    "A\n",
    "D, N = Decompose(A)\n",
    "D\n",
    "N"
   ]
  },
  {
   "cell_type": "markdown",
   "id": "c6f04d76",
   "metadata": {},
   "source": [
    "## Example systems\n",
    "\n",
    "**System 1**\n",
    "\n",
    "3x<sub>1</sub> + x<sub>2</sub> = -3  \n",
    "&nbsp;&nbsp;x<sub>1</sub> + x<sub>2</sub> = 3\n",
    "\n",
    "Solution: x<sub>1</sub>=-3 e x<sub>2</sub>=6\n",
    "\n",
    "**System 2**\n",
    "\n",
    "* In this system, we just swap the columns of the previous system.\n",
    "* So, the solutions must be the same.\n",
    "* However, the system is not longer diagonally dominant.\n",
    "\n",
    "\n",
    "x<sub>2</sub> + 3x<sub>1</sub> = -3  \n",
    "x<sub>2</sub> + &nbsp;&nbsp;x<sub>1</sub> = 3"
   ]
  },
  {
   "cell_type": "code",
   "execution_count": 20,
   "id": "8c3e47bf",
   "metadata": {},
   "outputs": [
    {
     "data": {
      "text/plain": [
       "array([[3, 1],\n",
       "       [1, 1]])"
      ]
     },
     "execution_count": 20,
     "metadata": {},
     "output_type": "execute_result"
    },
    {
     "data": {
      "text/plain": [
       "array([[-3],\n",
       "       [ 3]])"
      ]
     },
     "execution_count": 20,
     "metadata": {},
     "output_type": "execute_result"
    }
   ],
   "source": [
    "# System 1\n",
    "\n",
    "A1 = np.array([ [3, 1], [1, 1] ])\n",
    "B1 = np.array([[-3, 3]]).T   # T de transposta para obter um vector coluna\n",
    "A1\n",
    "B1"
   ]
  },
  {
   "cell_type": "code",
   "execution_count": 21,
   "id": "9fa07361",
   "metadata": {},
   "outputs": [
    {
     "data": {
      "text/plain": [
       "array([[1, 3],\n",
       "       [1, 1]])"
      ]
     },
     "execution_count": 21,
     "metadata": {},
     "output_type": "execute_result"
    },
    {
     "data": {
      "text/plain": [
       "array([[-3],\n",
       "       [ 3]])"
      ]
     },
     "execution_count": 21,
     "metadata": {},
     "output_type": "execute_result"
    }
   ],
   "source": [
    "# System 2\n",
    "A2 = np.array([ [1, 3], [1, 1] ])\n",
    "B2 = B1\n",
    "A2\n",
    "B2"
   ]
  },
  {
   "cell_type": "markdown",
   "id": "eae2f6ed",
   "metadata": {},
   "source": [
    "## Implementação utilizando NumPy\n",
    "\n",
    "Using NumPy's capabilities to work with matrices, we can implement Jacobi's method following the structure of the fixed-point method."
   ]
  },
  {
   "cell_type": "code",
   "execution_count": 22,
   "id": "97b76ba0",
   "metadata": {},
   "outputs": [],
   "source": [
    "def JacobiNumPy(A, B, X0, tol, max_iter):\n",
    "    \"\"\"\n",
    "     A: Matriz dos coeficientes das variáveis\n",
    "     B: Matriz dos termos independentes\n",
    "    X0: Solução inicial aproximada\n",
    "    \"\"\"\n",
    "    \n",
    "    # Garantimos que os argumentos são objectos NumPy Array\n",
    "    A  = np.array(A)\n",
    "    B  = np.array(B)\n",
    "    X0 = np.array(X0)\n",
    "\n",
    "    # Decompomos a matriz A em dois matrices\n",
    "    D, N = Decompose(A)\n",
    "    \n",
    "    # Vamos sempre a trabalhar com a inversa de D\n",
    "    # Por isso a calculamos agora\n",
    "    D1 = Inverse(D)\n",
    "    \n",
    "    # Função auxiliar para calcular cada novo vector\n",
    "    # TÊM QUE PERCEBER COM OBTER ESTA FORMULA\n",
    "    # g = D^(-1)*(B-N*X0)\n",
    "    def g(X0):\n",
    "        return D1.dot(B-N.dot(X0))\n",
    "    \n",
    "    # O ponto seguinte é obtido evaluando g\n",
    "    X1 = g(X0)\n",
    "    \n",
    "    # Calculamos o tamanho da diferença entre as duas soluções\n",
    "    norm = np.linalg.norm(X1-X0)\n",
    "    \n",
    "    n=1\n",
    "    while norm>tol and n<max_iter:\n",
    "        \n",
    "        # O X actual (X1) vai passar a ser o antigo (X0)\n",
    "        X0 = X1\n",
    "        \n",
    "        # Calculamos o novo X\n",
    "        X1 = g(X0)\n",
    "        \n",
    "        norm = np.linalg.norm(X1-X0)\n",
    "        n += 1\n",
    "        \n",
    "    print(f\"Num. iteractions {n}\")\n",
    "    \n",
    "    return X1"
   ]
  },
  {
   "cell_type": "code",
   "execution_count": 23,
   "id": "78f44351",
   "metadata": {},
   "outputs": [
    {
     "name": "stdout",
     "output_type": "stream",
     "text": [
      "Num. iteractions 17\n"
     ]
    },
    {
     "data": {
      "text/plain": [
       "array([[-2.99974597],\n",
       "       [ 5.99939034]])"
      ]
     },
     "execution_count": 23,
     "metadata": {},
     "output_type": "execute_result"
    }
   ],
   "source": [
    "# Resolvendo o sistema 1\n",
    "\n",
    "# Utilizando X0 = [1, 1]\n",
    "# A solução é [-3, 6]\n",
    "\n",
    "X0 = np.array([[1, 1]]).T\n",
    "\n",
    "JacobiNumPy(A1, B1, X0, 0.001, 100)"
   ]
  },
  {
   "cell_type": "code",
   "execution_count": 24,
   "id": "4b53935f",
   "metadata": {},
   "outputs": [
    {
     "name": "stdout",
     "output_type": "stream",
     "text": [
      "Num. iteractions 100\n"
     ]
    },
    {
     "data": {
      "text/plain": [
       "array([[-3.58948994e+24],\n",
       "       [ 2.87159195e+24]])"
      ]
     },
     "execution_count": 24,
     "metadata": {},
     "output_type": "execute_result"
    }
   ],
   "source": [
    "# Resolvendo o sistema 2\n",
    "\n",
    "# Utilizando X0 = [1, 1]\n",
    "# A solução é [6, -3]\n",
    "\n",
    "JacobiNumPy(A2, B2, X0, 0.001, 100)"
   ]
  },
  {
   "cell_type": "markdown",
   "id": "825ee394",
   "metadata": {},
   "source": [
    "## Implementation in pure Python"
   ]
  },
  {
   "cell_type": "code",
   "execution_count": 25,
   "id": "6e407ddd",
   "metadata": {},
   "outputs": [],
   "source": [
    "def Subtract(A, B):\n",
    "    \"\"\"Calcula A-B\"\"\"\n",
    "    \n",
    "    D = []\n",
    "    for i in range(len(A)):\n",
    "        D.append(A[i]-B[i])\n",
    "    return D"
   ]
  },
  {
   "cell_type": "code",
   "execution_count": 26,
   "id": "14879d31",
   "metadata": {},
   "outputs": [
    {
     "data": {
      "text/plain": [
       "[-2]"
      ]
     },
     "execution_count": 26,
     "metadata": {},
     "output_type": "execute_result"
    },
    {
     "data": {
      "text/plain": [
       "[1, 1]"
      ]
     },
     "execution_count": 26,
     "metadata": {},
     "output_type": "execute_result"
    }
   ],
   "source": [
    "Subtract([1],[3])          # -2\n",
    "Subtract( [2, 4], [1, 3] ) # [1, 1]"
   ]
  },
  {
   "cell_type": "code",
   "execution_count": 27,
   "id": "56ddff9c",
   "metadata": {},
   "outputs": [],
   "source": [
    "def Norm(A):\n",
    "    \"\"\"Calcula a magnitude ou norma do vector A\"\"\"\n",
    "    \n",
    "    soma = 0\n",
    "    for i in range(len(A)):\n",
    "        soma += A[i]**2\n",
    "    return sqrt(soma)"
   ]
  },
  {
   "cell_type": "code",
   "execution_count": 28,
   "id": "22a66e99",
   "metadata": {},
   "outputs": [
    {
     "data": {
      "text/plain": [
       "10.0"
      ]
     },
     "execution_count": 28,
     "metadata": {},
     "output_type": "execute_result"
    },
    {
     "data": {
      "text/plain": [
       "5.0"
      ]
     },
     "execution_count": 28,
     "metadata": {},
     "output_type": "execute_result"
    }
   ],
   "source": [
    "Norm([10])    # 10\n",
    "Norm([3, 4])  # 5"
   ]
  },
  {
   "cell_type": "code",
   "execution_count": 29,
   "id": "4d92f89a",
   "metadata": {},
   "outputs": [],
   "source": [
    "def JacobiPython(A, B, X0, tol, max_iter):\n",
    "    \n",
    "    # Criamos uma lista para conter as souluções\n",
    "    # Vai ser inicialmente igual à lista de soluções proposta x0\n",
    "    X = X0.copy()\n",
    "    \n",
    "    # Quantidade de variveis e equações\n",
    "    m = len(X)\n",
    "    \n",
    "    # Iniciamos o contador de iterações\n",
    "    n = 0\n",
    "    norm=tol+1\n",
    "    while norm>tol and n<=max_iter:\n",
    "        for i in range(m):\n",
    "            \n",
    "            soma = 0\n",
    "            for j in range(m):\n",
    "                if i!=j:\n",
    "                    soma += A[i][j]*X[j]\n",
    "            \n",
    "            X[i] = 1/A[i][i]*(B[i]-soma)       \n",
    "     \n",
    "        norm = Norm(Subtract(X, X0))\n",
    "        X0 = X.copy()\n",
    "        n += 1\n",
    "        \n",
    "    print(f\"Num. iteractions {n}\")\n",
    "    \n",
    "    return X"
   ]
  },
  {
   "cell_type": "code",
   "execution_count": 30,
   "id": "57395729",
   "metadata": {},
   "outputs": [],
   "source": [
    "# System 1 using lists\n",
    "# Solution [-3, 6]\n",
    "\n",
    "A = [ [3, 1], [1, 1] ]\n",
    "B = [-3, 3]\n",
    "X = [1, 1]"
   ]
  },
  {
   "cell_type": "code",
   "execution_count": 31,
   "id": "145b97d3",
   "metadata": {},
   "outputs": [
    {
     "name": "stdout",
     "output_type": "stream",
     "text": [
      "Num. iteractions 9\n"
     ]
    },
    {
     "data": {
      "text/plain": [
       "[-2.999745973682873, 5.999745973682873]"
      ]
     },
     "execution_count": 31,
     "metadata": {},
     "output_type": "execute_result"
    }
   ],
   "source": [
    "JacobiPython(A, B, X, 0.001, 100)"
   ]
  },
  {
   "cell_type": "code",
   "execution_count": null,
   "id": "41c09c1d",
   "metadata": {},
   "outputs": [],
   "source": []
  }
 ],
 "metadata": {
  "kernelspec": {
   "display_name": "Python 3 (ipykernel)",
   "language": "python",
   "name": "python3"
  },
  "language_info": {
   "codemirror_mode": {
    "name": "ipython",
    "version": 3
   },
   "file_extension": ".py",
   "mimetype": "text/x-python",
   "name": "python",
   "nbconvert_exporter": "python",
   "pygments_lexer": "ipython3",
   "version": "3.9.7"
  }
 },
 "nbformat": 4,
 "nbformat_minor": 5
}
