{
 "cells": [
  {
   "cell_type": "markdown",
   "id": "986571dc",
   "metadata": {},
   "source": [
    "# Homework 2 – Stochastic methods"
   ]
  },
  {
   "cell_type": "code",
   "execution_count": 1,
   "id": "fe808ffd",
   "metadata": {},
   "outputs": [],
   "source": [
    "# See all cell outputs in Jupyter (or iPython)\n",
    "\n",
    "from IPython.core.interactiveshell import InteractiveShell\n",
    "InteractiveShell.ast_node_interactivity = \"all\""
   ]
  },
  {
   "cell_type": "code",
   "execution_count": 2,
   "id": "868e9357",
   "metadata": {},
   "outputs": [],
   "source": [
    "from math import pi, sin, cos, log, exp, sqrt\n",
    "import random"
   ]
  },
  {
   "cell_type": "markdown",
   "id": "8f91c30e",
   "metadata": {},
   "source": [
    "## Tarefa 1\n",
    "\n",
    "(10 min.)\n",
    "\n",
    "* Crie uma função de Python de nome `MCMax` para determinar o máximo de uma função passada como argumento.\n",
    "* Utilize o método de Monte Carlo.\n",
    "* Teste a função com quantidades diferentes de números aleatorios.\n",
    "\n",
    "Exemplo de utilização:\n",
    "\n",
    "`MCMax(sin, 0, 2*pi, 50)`"
   ]
  },
  {
   "cell_type": "code",
   "execution_count": 2,
   "id": "0f9083a9",
   "metadata": {},
   "outputs": [],
   "source": [
    "# A função MCMax aqui\n",
    "def MCMax(f, a, b, max_iter):\n",
    "    \n",
    "    assert a<b,         \"a must be lower than b\"\n",
    "    \n",
    "    x = random.uniform(a, b)\n",
    "    maxFun = f(x)\n",
    "    n = 0\n",
    "    while n<max_iter:\n",
    "        x = random.uniform(a, b)\n",
    "        if maxFun < f(x):\n",
    "            maxFun = f(x)\n",
    "        n+=1\n",
    "    return maxFun"
   ]
  },
  {
   "cell_type": "code",
   "execution_count": 11,
   "id": "8b5ee797",
   "metadata": {},
   "outputs": [
    {
     "name": "stdout",
     "output_type": "stream",
     "text": [
      "Iter \t Integral \t ΔI\n",
      "10 \t 0.891639 \t 0.891639\n",
      "25 \t 1.000000 \t 0.108361\n",
      "50 \t 0.996384 \t 0.003616\n",
      "75 \t 0.999960 \t 0.003576\n",
      "100 \t 0.999877 \t 0.000083\n",
      "150 \t 0.999871 \t 0.000005\n",
      "200 \t 0.999791 \t 0.000080\n",
      "300 \t 0.999981 \t 0.000189\n"
     ]
    }
   ],
   "source": [
    "# Os testes aqui\n",
    "iter_l = [10, 25, 50, 75, 100, 150, 200, 300]\n",
    "\n",
    "print(\"Iter \\t Integral \\t ΔI\")\n",
    "\n",
    "I_antigo=0\n",
    "\n",
    "for i in iter_l:\n",
    "    I = MCMax(sin, 0, 2*pi, i)\n",
    "    deltaI = abs(I-I_antigo)\n",
    "    print(f\"{i} \\t {I:.6f} \\t {deltaI:.6f}\")\n",
    "    I_antigo=I"
   ]
  },
  {
   "cell_type": "markdown",
   "id": "297a36c6",
   "metadata": {},
   "source": [
    "## Tarefa 2\n",
    "\n",
    "(10 min.)\n",
    "\n",
    "* Crie uma função de Python de nome `MCZeros` para determinar um zero de uma função passada como argumento.\n",
    "* Utilize o método de Monte Carlo.\n",
    "* Teste a função com quantidades diferentes de números aleatorios.\n",
    "\n",
    "Exemplo de utilização:\n",
    "\n",
    "`MCZero(sin, 0.01, 2*pi-0.01, 50, 0.01)`\n",
    "\n",
    "* O resultado esperado para o exemplo anterior é π.  \n",
    "  O zero do sin(x) no intervalo aberto `(0, 2π)`\n",
    "* O útlimo parâmetro corresponde ao erro permitido `abs(f(x))<=0.01`"
   ]
  },
  {
   "cell_type": "code",
   "execution_count": 3,
   "id": "e454a7c2",
   "metadata": {},
   "outputs": [],
   "source": [
    "# A função MCZero aqui\n",
    "def MCZero(f, a, b, tol, max_iter):\n",
    "    \"\"\"\n",
    "       f: função que pretendemos encontrar o zero f(x)==0\n",
    "    a, b: intervalo inicial\n",
    "     tol: tamanho mínimo do intervalo\n",
    "    \"\"\"\n",
    "    \n",
    "    assert a<b,         \"a must be lower than b\"\n",
    "    assert f(a)*f(b)<0, \"f(a) and f(b) must have opposite signs (mudança de sinais).\"\n",
    "    \n",
    "    # Ponto (palpite) inicial\n",
    "    x = random.uniform(a,b)\n",
    "    \n",
    "    # O tamanho atual do intervalo\n",
    "    dx = b-a\n",
    "    \n",
    "    n = 0\n",
    "    while dx>tol and n<max_iter:\n",
    "        # Determinamos o novo intervalo\n",
    "        if f(a)*f(x)<0:\n",
    "            b = x\n",
    "        else:\n",
    "            a = x\n",
    "            \n",
    "        # determinamos o novo x\n",
    "        x = random.uniform(a,b)\n",
    "        \n",
    "        # Determinamos o novo tamanho do intervalo\n",
    "        dx = b-a\n",
    "        \n",
    "        n += 1\n",
    "    \n",
    "    print(f\"Num. iteractions {n}\")\n",
    "    return x"
   ]
  },
  {
   "cell_type": "code",
   "execution_count": 5,
   "id": "c74ae49c",
   "metadata": {},
   "outputs": [
    {
     "name": "stdout",
     "output_type": "stream",
     "text": [
      "Num. iteractions 13\n"
     ]
    },
    {
     "data": {
      "text/plain": [
       "3.1401475856424046"
      ]
     },
     "execution_count": 5,
     "metadata": {},
     "output_type": "execute_result"
    }
   ],
   "source": [
    "# Os testes aqui\n",
    "MCZero(sin, 0.01, 2*pi, 0.01, 1000)"
   ]
  },
  {
   "cell_type": "markdown",
   "id": "3c7416e1",
   "metadata": {},
   "source": [
    "## Tarefa 3\n",
    "\n",
    "(45 min.)\n",
    "\n",
    "* Crie uma função de Python de nome MCZerosList para determinar **todos** os zeros de uma função passada como argumento.\n",
    "* Utilize o método de Monte Carlo.\n",
    "* Teste a função com quantidades diferentes de números aleatorios.\n",
    "\n",
    "\n",
    "Exemplo de utilização:\n",
    "\n",
    "`MCZerosList(sin, 0, 4*pi, 1000, 0.01)`\n",
    "\n",
    "* O resultado esperado para o exemplo anterior é uma lista com o zeros do sin(x) no intervalo `[0, 4π]`  \n",
    "* `resultado = [0, π, 2π, 3π, 4π]` em qualquer ordem mas pode devolver o resultado ordenado."
   ]
  },
  {
   "cell_type": "code",
   "execution_count": null,
   "id": "0337663d",
   "metadata": {},
   "outputs": [],
   "source": [
    "  "
   ]
  }
 ],
 "metadata": {
  "kernelspec": {
   "display_name": "Python 3 (ipykernel)",
   "language": "python",
   "name": "python3"
  },
  "language_info": {
   "codemirror_mode": {
    "name": "ipython",
    "version": 3
   },
   "file_extension": ".py",
   "mimetype": "text/x-python",
   "name": "python",
   "nbconvert_exporter": "python",
   "pygments_lexer": "ipython3",
   "version": "3.9.7"
  }
 },
 "nbformat": 4,
 "nbformat_minor": 5
}
