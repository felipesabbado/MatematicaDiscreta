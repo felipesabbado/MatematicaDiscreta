{
 "cells": [
  {
   "cell_type": "markdown",
   "id": "e7db116e",
   "metadata": {},
   "source": [
    "# Homework 3 – Root-finding Methods"
   ]
  },
  {
   "cell_type": "code",
   "execution_count": 4,
   "id": "3497cd37",
   "metadata": {},
   "outputs": [],
   "source": [
    "# See all cell outputs in Jupyter (or iPython)\n",
    "\n",
    "from IPython.core.interactiveshell import InteractiveShell\n",
    "InteractiveShell.ast_node_interactivity = \"all\""
   ]
  },
  {
   "cell_type": "code",
   "execution_count": 5,
   "id": "4119d1f8",
   "metadata": {},
   "outputs": [],
   "source": [
    "from math import sqrt, log, cos\n",
    "EPS = 0.00000001"
   ]
  },
  {
   "cell_type": "code",
   "execution_count": 6,
   "id": "2d6e5de7",
   "metadata": {},
   "outputs": [],
   "source": [
    "def CubeRoot(x):\n",
    "    if x < 0:\n",
    "        x = -x\n",
    "        cube_root = x**(1/3)*(-1)\n",
    "    else:\n",
    "        cube_root = x**(1/3)\n",
    "        \n",
    "    return cube_root"
   ]
  },
  {
   "cell_type": "code",
   "execution_count": 4,
   "id": "50b17e03",
   "metadata": {},
   "outputs": [
    {
     "data": {
      "text/plain": [
       "3.0"
      ]
     },
     "execution_count": 4,
     "metadata": {},
     "output_type": "execute_result"
    },
    {
     "data": {
      "text/plain": [
       "-3.0"
      ]
     },
     "execution_count": 4,
     "metadata": {},
     "output_type": "execute_result"
    }
   ],
   "source": [
    "CubeRoot(27)\n",
    "CubeRoot(-27)"
   ]
  },
  {
   "cell_type": "markdown",
   "id": "3263731d",
   "metadata": {},
   "source": [
    "## Funções desenvolvidas na aula"
   ]
  },
  {
   "cell_type": "code",
   "execution_count": 5,
   "id": "a5069ac1",
   "metadata": {},
   "outputs": [],
   "source": [
    "def Bisection(f, a, b, tol, max_iter):\n",
    "    \n",
    "    # Validamos os argumentos da função\n",
    "    assert a<b,         \"a must b lower than b.\"\n",
    "    assert f(a)*f(b)<0, \"f(a) and f(b) must have opposite signs.\"\n",
    "    \n",
    "    # Neste método, o ponto selecionado é sempre na metade do intervalo\n",
    "    x = (a+b)/2.0\n",
    "    \n",
    "    # Valor da função no ponto x\n",
    "    y = f(x)\n",
    "    \n",
    "    # O tamanho do intervalo\n",
    "    size = b-a\n",
    "    \n",
    "    # Repetimos enquanto f(x) não seja o zero and\n",
    "    # o tamanho do intervalo seja maior que a tolerancia permitida\n",
    "    # e o contador de iterações seja menor que o máximo permitido\n",
    "    n = 0\n",
    "    while abs(y)>EPS and size>tol and n<=max_iter:\n",
    "        \n",
    "        # Habilite o código abaixo para ver a evolução dos intervalos e do valor de x\n",
    "        # print(f\"{n:2} {a:.3f} {b:.3f} {x:.3f} {f(x):7.4f}\")\n",
    "        \n",
    "        # Determinamos o nova metade\n",
    "        # TÊM QUE PERCEVER BEM ESTE IF\n",
    "        if f(a)*y<0:\n",
    "            b = x\n",
    "        else:\n",
    "            a = x\n",
    "            \n",
    "        # Determinamos os novo x e y\n",
    "        x = (a+b)/2.0\n",
    "        y = f(x)\n",
    "        \n",
    "        # Actualizamos n e size\n",
    "        size = b-a\n",
    "        n += 1\n",
    "        \n",
    "    print(f\"Num. iteractions {n}\")\n",
    "    \n",
    "    return x"
   ]
  },
  {
   "cell_type": "code",
   "execution_count": 6,
   "id": "b8daeed5",
   "metadata": {},
   "outputs": [],
   "source": [
    "def FalsePosition(f, a, b, tol, max_iter):\n",
    "   \n",
    "    # Validamos os argumentos da função\n",
    "    assert a<b,         \"a must b lower than b.\"\n",
    "    assert f(a)*f(b)<0, \"f(a) and f(b) must have opposite signs.\"\n",
    "    \n",
    "    # Neste método, o ponto selecionado é sempre na metade do intervalo\n",
    "    x = (a*f(b)-b*f(a)) / ( f(b)-f(a) )\n",
    "    \n",
    "    # Valor da função no ponto x\n",
    "    y = f(x)\n",
    "    \n",
    "    # O tamanho do intervalo\n",
    "    size = b-a\n",
    "    \n",
    "    # Repetimos enquanto não seja o zero and\n",
    "    # o tamanho do intervalo seja maior que a tolerancia permitida\n",
    "    # e o contador de iterações seja menor que o máximo permitido\n",
    "    n = 0\n",
    "    while abs(y)>EPS and size>tol and n<=max_iter:\n",
    "        \n",
    "        # Habilite o código abaixo para ver a evolução dos intervalos e do valor de x\n",
    "        # print(f\"{n:2} {a:.3f} {b:.3f} {x:.3f} {f(x):7.4f}\")\n",
    "        \n",
    "        # Determinamos o nova metade\n",
    "        # TÊM QUE PERCEVER BEM ESTE IF\n",
    "        if f(a)*y<0:\n",
    "            b = x\n",
    "        else:\n",
    "            a = x\n",
    "            \n",
    "        # Determinamos os novo x e y\n",
    "        x = (a*f(b)-b*f(a)) / ( f(b)-f(a) )\n",
    "        y = f(x)\n",
    "        \n",
    "        # Actualizamos n e size\n",
    "        size = b-a\n",
    "        n += 1\n",
    "        \n",
    "    print(f\"Num. iteractions {n}\")\n",
    "    \n",
    "    return x"
   ]
  },
  {
   "cell_type": "code",
   "execution_count": 6,
   "id": "b575e500",
   "metadata": {},
   "outputs": [],
   "source": [
    "def FixedPoint(g, x0, tol, max_iter):\n",
    "    \"\"\"\n",
    "    Determina a solução da equação x=g(x)\n",
    "    x0: valor inicial aproximado\n",
    "    \"\"\"\n",
    "    \n",
    "    # O ponto seguinte é obtido avaliando g\n",
    "    x1 = g(x0)\n",
    "    \n",
    "    # A diferença entre os dois pontos\n",
    "    dx = abs(x1-x0)\n",
    "    \n",
    "    # Iniciamos o contador de iterações\n",
    "    n = 1\n",
    "    \n",
    "    while dx>tol and n<=max_iter:\n",
    "\n",
    "        # Habilite o código abaixo para ver a evolução do valor de x\n",
    "        if n<10 or n%5==0:\n",
    "            print(f\"n = {n:<4d} x = {x1:.4f}\")\n",
    "        \n",
    "        # Para a nova iteração o x1 pasa a ser o ponto anterior\n",
    "        x0 = x1\n",
    "        \n",
    "        # Calculamos o ponto seguinte\n",
    "        x1 = g(x0)\n",
    "        \n",
    "        dx = abs(x1-x0)\n",
    "        n += 1\n",
    "    \n",
    "    print(f\"Num. iteractions {n}\")\n",
    "\n",
    "    return x1"
   ]
  },
  {
   "cell_type": "markdown",
   "id": "46c3704a",
   "metadata": {},
   "source": [
    "## Tarefa 1\n",
    "\n",
    "Obtenha a expressão que permite calcular o valor de x<sub>i</sub> no método da posição falsa.  \n",
    "x<sub>i</sub> = ( a⋅f(b) - b⋅f(a) )/( f(b)-f(a) )"
   ]
  },
  {
   "cell_type": "markdown",
   "id": "132fddf6",
   "metadata": {},
   "source": [
    "## Tarefa 3\n",
    "\n",
    "* Obtenha o zero do polinómio `2x^3 - 4x^2 + 3x = 0` numa vizinhança de zero.\n",
    "* Utilice o método do ponto fixo com um valor inicial de 0.5, uma tolerância de 0.001, e um número máximo de iterações 100.  \n",
    "* Aplique o método para três funções diferentes: g1, g2, e g3; obtidas a partir da expressão original.  \n",
    "* A solução analítica é x=0, contudo não deverá obter esse resultado com as três funções g.  \n",
    "* Pode utilizar a função `CubeRoot` definida ao inicio do notebook."
   ]
  },
  {
   "cell_type": "code",
   "execution_count": 13,
   "id": "a3b58105",
   "metadata": {},
   "outputs": [],
   "source": [
    "# As funções g obtidas de f(x)=0 <==> x=g(x)\n",
    "\n",
    "def g1(x):\n",
    "    return (-3/(2*x))+2\n",
    "\n",
    "def g2(x):\n",
    "    return CubeRoot(2*x*x) - CubeRoot(3*x/2)\n",
    "\n",
    "def g3(x):\n",
    "    return ((-2*x**3) + (4*x**2))/3\n",
    "\n",
    "def g4(x):\n",
    "    return 0.5*sqrt(2*x**3 + 3*x)"
   ]
  },
  {
   "cell_type": "code",
   "execution_count": 9,
   "id": "faac65be",
   "metadata": {},
   "outputs": [
    {
     "name": "stdout",
     "output_type": "stream",
     "text": [
      "G1\n",
      "n = 1    x = -1.0000\n",
      "n = 2    x = 3.5000\n",
      "n = 3    x = 1.5714\n",
      "n = 4    x = 1.0455\n",
      "n = 5    x = 0.5652\n",
      "n = 6    x = -0.6538\n",
      "n = 7    x = 4.2941\n",
      "n = 8    x = 1.6507\n",
      "n = 9    x = 1.0913\n",
      "n = 10   x = 0.6255\n",
      "n = 15   x = 0.6818\n",
      "n = 20   x = 0.7349\n",
      "n = 25   x = 0.7855\n",
      "n = 30   x = 0.8342\n",
      "n = 35   x = 0.8814\n",
      "n = 40   x = 0.9277\n",
      "n = 45   x = 0.9733\n",
      "n = 50   x = 1.0187\n",
      "n = 55   x = 1.0643\n",
      "n = 60   x = 1.1104\n",
      "n = 65   x = 1.1574\n",
      "n = 70   x = 1.2058\n",
      "n = 75   x = 1.2561\n",
      "n = 80   x = 1.3087\n",
      "n = 85   x = 1.3644\n",
      "n = 90   x = 1.4239\n",
      "n = 95   x = 1.4881\n",
      "n = 100  x = 1.5584\n",
      "Num. iteractions 101\n"
     ]
    },
    {
     "data": {
      "text/plain": [
       "1.0374570385515542"
      ]
     },
     "execution_count": 9,
     "metadata": {},
     "output_type": "execute_result"
    }
   ],
   "source": [
    "print(\"G1\")\n",
    "FixedPoint(g1, 0.5, 0.001, 100)"
   ]
  },
  {
   "cell_type": "code",
   "execution_count": 10,
   "id": "bf623ba1",
   "metadata": {},
   "outputs": [
    {
     "name": "stdout",
     "output_type": "stream",
     "text": [
      "G2\n",
      "n = 1    x = -0.1149\n",
      "n = 2    x = 0.8541\n",
      "n = 3    x = 0.0481\n",
      "n = 4    x = -0.2497\n",
      "n = 5    x = 1.2204\n",
      "n = 6    x = 0.2155\n",
      "n = 7    x = -0.2334\n",
      "n = 8    x = 1.1824\n",
      "n = 9    x = 0.1984\n",
      "n = 10   x = -0.2391\n",
      "n = 15   x = 0.2023\n",
      "n = 20   x = 1.1922\n",
      "n = 25   x = -0.2376\n",
      "n = 30   x = 0.2029\n",
      "n = 35   x = 1.1924\n",
      "n = 40   x = -0.2376\n",
      "n = 45   x = 0.2029\n",
      "n = 50   x = 1.1924\n",
      "n = 55   x = -0.2376\n",
      "n = 60   x = 0.2029\n",
      "n = 65   x = 1.1924\n",
      "n = 70   x = -0.2376\n",
      "n = 75   x = 0.2029\n",
      "n = 80   x = 1.1924\n",
      "n = 85   x = -0.2376\n",
      "n = 90   x = 0.2029\n",
      "n = 95   x = 1.1924\n",
      "n = 100  x = -0.2376\n",
      "Num. iteractions 101\n"
     ]
    },
    {
     "data": {
      "text/plain": [
       "1.1923773269405118"
      ]
     },
     "execution_count": 10,
     "metadata": {},
     "output_type": "execute_result"
    }
   ],
   "source": [
    "print(\"G2\")\n",
    "FixedPoint(g2, 0.5, 0.001, 100)"
   ]
  },
  {
   "cell_type": "code",
   "execution_count": 14,
   "id": "54177563",
   "metadata": {},
   "outputs": [
    {
     "name": "stdout",
     "output_type": "stream",
     "text": [
      "G3\n",
      "n = 1    x = 0.2500\n",
      "n = 2    x = 0.0729\n",
      "n = 3    x = 0.0068\n",
      "n = 4    x = 0.0001\n",
      "Num. iteractions 5\n"
     ]
    },
    {
     "data": {
      "text/plain": [
       "5.124866436372952e-09"
      ]
     },
     "execution_count": 14,
     "metadata": {},
     "output_type": "execute_result"
    }
   ],
   "source": [
    "print(\"G3\")\n",
    "FixedPoint(g3, 0.5, 0.001, 100)"
   ]
  },
  {
   "cell_type": "code",
   "execution_count": 14,
   "id": "82408a22",
   "metadata": {},
   "outputs": [
    {
     "name": "stdout",
     "output_type": "stream",
     "text": [
      "G4\n",
      "n = 1    x = 0.6614\n",
      "n = 2    x = 0.8005\n",
      "n = 3    x = 0.9256\n",
      "n = 4    x = 1.0444\n",
      "n = 5    x = 1.1632\n",
      "n = 6    x = 1.2881\n",
      "n = 7    x = 1.4264\n",
      "n = 8    x = 1.5878\n",
      "n = 9    x = 1.7867\n",
      "n = 10   x = 2.0473\n",
      "n = 15   x = 9.9742\n",
      "n = 20   x = 415971.6235\n",
      "n = 25   x = 48400347264380297744951277437939406077952.0000\n"
     ]
    },
    {
     "ename": "OverflowError",
     "evalue": "(34, 'Result too large')",
     "output_type": "error",
     "traceback": [
      "\u001b[1;31m---------------------------------------------------------------------------\u001b[0m",
      "\u001b[1;31mOverflowError\u001b[0m                             Traceback (most recent call last)",
      "\u001b[1;32m~\\AppData\\Local\\Temp/ipykernel_4876/3955986922.py\u001b[0m in \u001b[0;36m<module>\u001b[1;34m\u001b[0m\n\u001b[0;32m      1\u001b[0m \u001b[0mprint\u001b[0m\u001b[1;33m(\u001b[0m\u001b[1;34m\"G4\"\u001b[0m\u001b[1;33m)\u001b[0m\u001b[1;33m\u001b[0m\u001b[1;33m\u001b[0m\u001b[0m\n\u001b[1;32m----> 2\u001b[1;33m \u001b[0mFixedPoint\u001b[0m\u001b[1;33m(\u001b[0m\u001b[0mg4\u001b[0m\u001b[1;33m,\u001b[0m \u001b[1;36m0.5\u001b[0m\u001b[1;33m,\u001b[0m \u001b[1;36m0.001\u001b[0m\u001b[1;33m,\u001b[0m \u001b[1;36m100\u001b[0m\u001b[1;33m)\u001b[0m\u001b[1;33m\u001b[0m\u001b[1;33m\u001b[0m\u001b[0m\n\u001b[0m",
      "\u001b[1;32m~\\AppData\\Local\\Temp/ipykernel_4876/1822332352.py\u001b[0m in \u001b[0;36mFixedPoint\u001b[1;34m(g, x0, tol, max_iter)\u001b[0m\n\u001b[0;32m     24\u001b[0m \u001b[1;33m\u001b[0m\u001b[0m\n\u001b[0;32m     25\u001b[0m         \u001b[1;31m# Calculamos o ponto seguinte\u001b[0m\u001b[1;33m\u001b[0m\u001b[1;33m\u001b[0m\u001b[0m\n\u001b[1;32m---> 26\u001b[1;33m         \u001b[0mx1\u001b[0m \u001b[1;33m=\u001b[0m \u001b[0mg\u001b[0m\u001b[1;33m(\u001b[0m\u001b[0mx0\u001b[0m\u001b[1;33m)\u001b[0m\u001b[1;33m\u001b[0m\u001b[1;33m\u001b[0m\u001b[0m\n\u001b[0m\u001b[0;32m     27\u001b[0m \u001b[1;33m\u001b[0m\u001b[0m\n\u001b[0;32m     28\u001b[0m         \u001b[0mdx\u001b[0m \u001b[1;33m=\u001b[0m \u001b[0mabs\u001b[0m\u001b[1;33m(\u001b[0m\u001b[0mx1\u001b[0m\u001b[1;33m-\u001b[0m\u001b[0mx0\u001b[0m\u001b[1;33m)\u001b[0m\u001b[1;33m\u001b[0m\u001b[1;33m\u001b[0m\u001b[0m\n",
      "\u001b[1;32m~\\AppData\\Local\\Temp/ipykernel_4876/1036171753.py\u001b[0m in \u001b[0;36mg4\u001b[1;34m(x)\u001b[0m\n\u001b[0;32m     11\u001b[0m \u001b[1;33m\u001b[0m\u001b[0m\n\u001b[0;32m     12\u001b[0m \u001b[1;32mdef\u001b[0m \u001b[0mg4\u001b[0m\u001b[1;33m(\u001b[0m\u001b[0mx\u001b[0m\u001b[1;33m)\u001b[0m\u001b[1;33m:\u001b[0m\u001b[1;33m\u001b[0m\u001b[1;33m\u001b[0m\u001b[0m\n\u001b[1;32m---> 13\u001b[1;33m     \u001b[1;32mreturn\u001b[0m \u001b[1;36m0.5\u001b[0m\u001b[1;33m*\u001b[0m\u001b[0msqrt\u001b[0m\u001b[1;33m(\u001b[0m\u001b[1;36m2\u001b[0m\u001b[1;33m*\u001b[0m\u001b[0mx\u001b[0m\u001b[1;33m**\u001b[0m\u001b[1;36m3\u001b[0m \u001b[1;33m+\u001b[0m \u001b[1;36m3\u001b[0m\u001b[1;33m*\u001b[0m\u001b[0mx\u001b[0m\u001b[1;33m)\u001b[0m\u001b[1;33m\u001b[0m\u001b[1;33m\u001b[0m\u001b[0m\n\u001b[0m",
      "\u001b[1;31mOverflowError\u001b[0m: (34, 'Result too large')"
     ]
    }
   ],
   "source": [
    "print(\"G4\")\n",
    "FixedPoint(g4, 0.5, 0.001, 100)"
   ]
  },
  {
   "cell_type": "markdown",
   "id": "426a8342",
   "metadata": {},
   "source": [
    "## Tarefa 4\n",
    "\n",
    "* Crie uma nova versão da função `FixedPoint` utilizando recursividade (i.e. não pode utilizar ciclos).\n",
    "* Abaixo pode encontrar a implementação de um exemplo clássico de função recursiva, a função factorial.\n",
    "* https://www.google.com/search?q=recursion+programming.\n",
    "\n",
    "\n",
    "* Não tem que imprimir quantas iterações levou alcançar a solução.\n",
    "* Numa primeira abordagem não utilize o parâmetro `max_iter`, controle o número de iterações apenas com o parâmetro `tol`.\n",
    "* Numa segunda versão tente incluir o parâmetro `max_iter`."
   ]
  },
  {
   "cell_type": "code",
   "execution_count": 15,
   "id": "44aedd36",
   "metadata": {
    "scrolled": true
   },
   "outputs": [
    {
     "name": "stdout",
     "output_type": "stream",
     "text": [
      " 0! = 1\n",
      " 1! = 1\n",
      " 2! = 2\n",
      " 3! = 6\n",
      "10! = 3628800\n"
     ]
    }
   ],
   "source": [
    "# Utilizando a função factorial de Python\n",
    "\n",
    "from math import factorial\n",
    "\n",
    "for n in [0, 1, 2, 3, 10]:\n",
    "    f = factorial(n)\n",
    "    print(f\"{n:2}! = {f}\")"
   ]
  },
  {
   "cell_type": "code",
   "execution_count": 16,
   "id": "4fda29e3",
   "metadata": {},
   "outputs": [],
   "source": [
    "# Implementação recursiva da função factorial\n",
    "\n",
    "def fact(n):\n",
    "    \n",
    "    # Base case\n",
    "    if n==0 or n==1:\n",
    "        return 1\n",
    "    \n",
    "    # O factorial pode ser definido recursivamente como n! = n*(n-1)!\n",
    "    return n*fact(n-1) "
   ]
  },
  {
   "cell_type": "code",
   "execution_count": 17,
   "id": "a5a665b0",
   "metadata": {},
   "outputs": [
    {
     "name": "stdout",
     "output_type": "stream",
     "text": [
      " 0! = 1\n",
      " 1! = 1\n",
      " 2! = 2\n",
      " 3! = 6\n",
      "10! = 3628800\n"
     ]
    }
   ],
   "source": [
    "# Teste da função fact\n",
    "\n",
    "for n in [0, 1, 2, 3, 10]:\n",
    "    f = fact(n)\n",
    "    print(f\"{n:2}! = {f}\")"
   ]
  },
  {
   "cell_type": "code",
   "execution_count": 2,
   "id": "48a5368b",
   "metadata": {},
   "outputs": [],
   "source": [
    "def FixedPointRecursive(g, x0, tol):\n",
    "    \n",
    "    x1 = g(x0)\n",
    "    dx = abs(x1 - x0)\n",
    "    \n",
    "    if dx < tol:\n",
    "        return x1\n",
    "    \n",
    "    return FixedPointRecursive(g, x1, tol)"
   ]
  },
  {
   "cell_type": "code",
   "execution_count": 7,
   "id": "0310df10",
   "metadata": {},
   "outputs": [
    {
     "data": {
      "text/plain": [
       "0.7390547907469175"
      ]
     },
     "execution_count": 7,
     "metadata": {},
     "output_type": "execute_result"
    }
   ],
   "source": [
    "# Testando com a implementação recursiva\n",
    "# Solução de cos(x)-x=0 com com palpite inicial = 1\n",
    "# A solução é x=0.739085\n",
    "FixedPointRecursive(cos, 1, 0.0001)"
   ]
  },
  {
   "cell_type": "code",
   "execution_count": 9,
   "id": "cef45ff9",
   "metadata": {},
   "outputs": [],
   "source": [
    "def FixedPointRecursive2(g, x0, tol, max_iter):\n",
    "    \n",
    "    n = 0\n",
    "    x1 = g(x0)\n",
    "    dx = abs(x1 - x0)\n",
    "    n += 1\n",
    "    if dx < tol or n == max_iter:\n",
    "        return x1\n",
    "    \n",
    "    return FixedPointRecursive2(g, x1, tol, max_iter)"
   ]
  },
  {
   "cell_type": "code",
   "execution_count": 10,
   "id": "f1f694d9",
   "metadata": {},
   "outputs": [
    {
     "data": {
      "text/plain": [
       "0.7390547907469175"
      ]
     },
     "execution_count": 10,
     "metadata": {},
     "output_type": "execute_result"
    }
   ],
   "source": [
    "# Testando com a implementação recursiva com máximo de iterações\n",
    "# Solução de cos(x)-x=0 com com palpite inicial = 1\n",
    "# A solução é x=0.739085\n",
    "FixedPointRecursive2(cos, 1, 0.0001, 100)"
   ]
  },
  {
   "cell_type": "code",
   "execution_count": null,
   "id": "e6f3495a",
   "metadata": {},
   "outputs": [],
   "source": []
  }
 ],
 "metadata": {
  "kernelspec": {
   "display_name": "Python 3 (ipykernel)",
   "language": "python",
   "name": "python3"
  },
  "language_info": {
   "codemirror_mode": {
    "name": "ipython",
    "version": 3
   },
   "file_extension": ".py",
   "mimetype": "text/x-python",
   "name": "python",
   "nbconvert_exporter": "python",
   "pygments_lexer": "ipython3",
   "version": "3.9.7"
  }
 },
 "nbformat": 4,
 "nbformat_minor": 5
}
