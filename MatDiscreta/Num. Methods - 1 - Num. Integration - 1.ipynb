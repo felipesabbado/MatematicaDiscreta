{
 "cells": [
  {
   "cell_type": "markdown",
   "id": "0bdb9227",
   "metadata": {},
   "source": [
    "# Numerical Integration Methods\n",
    "\n",
    "Integration of a function of one variable.\n",
    "\n",
    "## Methods\n",
    "* Midpoint rule (rectangle rule)\n",
    "* Trapezoidal rule\n",
    "\n",
    "## The general algorithm \n",
    "\n",
    "* The function `f`, the integration interval `[a, b]` and the size of the subintervals `dx` (or the number of subintervals `n`) are given.\n",
    "\n",
    "* We calculate an approximation to the integral in each subinterval.\n",
    "\n",
    "* The integral will be the sum of the value obtained in each subinterval."
   ]
  },
  {
   "cell_type": "code",
   "execution_count": 1,
   "id": "b5fabb97",
   "metadata": {},
   "outputs": [],
   "source": [
    "# See all cell outputs in Jupyter (or iPython)\n",
    "\n",
    "from IPython.core.interactiveshell import InteractiveShell\n",
    "InteractiveShell.ast_node_interactivity = \"all\""
   ]
  },
  {
   "cell_type": "code",
   "execution_count": 2,
   "id": "8f31242b",
   "metadata": {},
   "outputs": [],
   "source": [
    "from math import sin, pi"
   ]
  },
  {
   "cell_type": "markdown",
   "id": "08fb44dc",
   "metadata": {},
   "source": [
    "## Midpoint rule\n",
    "\n",
    "* This is the simplest method among the type of quadrature rules based on interpolating function.\n",
    "* Each subinterval is approximated with a rectangle of base dx and height f(x): `area = dx*f(x)`\n",
    "* The height of the rectangle `f(x)` is calculated at the midpoint of each sub interval."
   ]
  },
  {
   "cell_type": "code",
   "execution_count": 3,
   "id": "97d75838",
   "metadata": {},
   "outputs": [],
   "source": [
    "def MidPoint(f, x0, xf, dx):\n",
    "    \"\"\"\n",
    "     f: função a integrar\n",
    "    x0: inicio do intervalo de integração\n",
    "    xf: fim do interval de integração\n",
    "    dx: tamanho dos subintervalos de integração\n",
    "    \"\"\"\n",
    "\n",
    "    # A soma das subáreas\n",
    "    soma = 0\n",
    "    \n",
    "    # As altura vão ser calculadas no ponto medio do dx\n",
    "    x    = x0 + dx/2\n",
    "    \n",
    "    while x<=xf:\n",
    "        soma += dx*f(x)\n",
    "        x+=dx\n",
    "    \n",
    "    return soma"
   ]
  },
  {
   "cell_type": "code",
   "execution_count": 4,
   "id": "bcd8d6fa",
   "metadata": {},
   "outputs": [
    {
     "data": {
      "text/plain": [
       "1.9999683662670709"
      ]
     },
     "execution_count": 4,
     "metadata": {},
     "output_type": "execute_result"
    }
   ],
   "source": [
    "# Testando com f=sin e dx=0.1\n",
    "# O resultado esperado é 2\n",
    "\n",
    "MidPoint(sin, 0, pi, 0.1)"
   ]
  },
  {
   "cell_type": "code",
   "execution_count": 5,
   "id": "2756678e",
   "metadata": {},
   "outputs": [
    {
     "data": {
      "text/plain": [
       "1.8517954188368662"
      ]
     },
     "execution_count": 5,
     "metadata": {},
     "output_type": "execute_result"
    }
   ],
   "source": [
    "# Testando com f=sin(x)/x\n",
    "# para dx=0.1 no intervalo [0, pi]\n",
    "# O resultado esperado é ≈ 1.85194\n",
    "\n",
    "# Não podemos fazer isto\n",
    "# Integrate(sin(x)/x, 0, pi, 0.1)\n",
    "\n",
    "# Podemos passar uma função, mas não uma expressão\n",
    "\n",
    "# Neste caso criamos a função myFunc, equivalente à função matemática que pretendemos\n",
    "\n",
    "def myFunc(x):\n",
    "    return sin(x)/x\n",
    "\n",
    "MidPoint(myFunc, 0, pi, 0.1)"
   ]
  },
  {
   "cell_type": "code",
   "execution_count": 6,
   "id": "0e0aa561",
   "metadata": {},
   "outputs": [
    {
     "name": "stdout",
     "output_type": "stream",
     "text": [
      "dx \t Integral \t ΔIntegral\n",
      "0.500 \t 2.010874 \t 2.010874\n",
      "0.200 \t 2.001629 \t 0.009245\n",
      "0.100 \t 1.999968 \t 0.001661\n",
      "0.010 \t 2.000007 \t 0.000039\n",
      "0.001 \t 2.000000 \t 0.000007\n"
     ]
    }
   ],
   "source": [
    "# Testando com vários dx para sin(x)\n",
    "dxl = [0.5, 0.2, 0.1, 0.01, 0.001]\n",
    "\n",
    "print(\"dx \\t Integral \\t ΔIntegral\")\n",
    "\n",
    "I_antigo=0\n",
    "\n",
    "for dx in dxl:\n",
    "    I = MidPoint(sin, 0, pi, dx)\n",
    "    deltaI = abs(I-I_antigo)\n",
    "    print(f\"{dx:.3f} \\t {I:.6f} \\t {deltaI:.6f}\")\n",
    "    I_antigo=I"
   ]
  },
  {
   "cell_type": "markdown",
   "id": "72ae6ebf",
   "metadata": {},
   "source": [
    "## Trapezoidal rule\n",
    "\n",
    "* https://en.wikipedia.org/wiki/Trapezoidal_rule\n",
    "\n",
    "* Each subinterval is approximated with a trapezoid `area = ½dx[f(a)+f(b)]`"
   ]
  },
  {
   "cell_type": "code",
   "execution_count": 10,
   "id": "d55f8b05",
   "metadata": {},
   "outputs": [],
   "source": [
    "def Trapezoidal(f, x0, xf, dx):\n",
    "    \"\"\"\n",
    "     f: função a integrar\n",
    "    x0: inicio do intervalo de integração\n",
    "    xf: fim do interval de integração\n",
    "    dx: tamanho dos subintervalos de integração\n",
    "    \"\"\"\n",
    "\n",
    "    # A soma das subáreas\n",
    "    soma = 0\n",
    "    \n",
    "    # Precisamos de dois ponto no intervalo dx\n",
    "    x1 = x0\n",
    "    x2 = x0 + dx\n",
    "    \n",
    "    while x1<=xf:\n",
    "        \n",
    "        # Verificamos se o ponto x2 está fora do intervalo de integração\n",
    "        if x2>xf:\n",
    "            x2 = xf\n",
    "            \n",
    "        soma += 0.5*dx*( f(x1) + f(x2) )\n",
    "        \n",
    "        x1 += dx\n",
    "        x2 += dx\n",
    "    \n",
    "    return soma"
   ]
  },
  {
   "cell_type": "code",
   "execution_count": 11,
   "id": "81a305ed",
   "metadata": {},
   "outputs": [
    {
     "data": {
      "text/plain": [
       "1.9995479597125965"
      ]
     },
     "execution_count": 11,
     "metadata": {},
     "output_type": "execute_result"
    }
   ],
   "source": [
    "# Testando com f=sin e dx=0.1\n",
    "# O resultado esperado é 2\n",
    "\n",
    "Trapezoidal(sin, 0, pi, 0.1)"
   ]
  },
  {
   "cell_type": "markdown",
   "id": "13499fe9",
   "metadata": {},
   "source": [
    "### Compare both methods"
   ]
  },
  {
   "cell_type": "code",
   "execution_count": 12,
   "id": "6e2ae6b3",
   "metadata": {},
   "outputs": [
    {
     "name": "stdout",
     "output_type": "stream",
     "text": [
      "dx\tMidP\tTrap\n",
      "0.5000\t2.0109\t1.9836\n",
      "0.2000\t2.0016\t1.9975\n",
      "0.1000\t2.0000\t1.9995\n",
      "0.0100\t2.0000\t2.0000\n",
      "0.0010\t2.0000\t2.0000\n"
     ]
    }
   ],
   "source": [
    "dxl = [0.5, 0.2, 0.1, 0.01, 0.001]\n",
    "\n",
    "print(\"dx\\tMidP\\tTrap\")\n",
    "for dx in dxl:\n",
    "    I_MP = MidPoint(sin, 0, pi, dx)\n",
    "    I_T  = Trapezoidal(sin, 0, pi, dx)\n",
    "    print(f\"{dx:.4f}\\t{I_MP:.4f}\\t{I_T:.4f}\")"
   ]
  },
  {
   "cell_type": "code",
   "execution_count": null,
   "id": "8f70ac21",
   "metadata": {},
   "outputs": [],
   "source": []
  }
 ],
 "metadata": {
  "kernelspec": {
   "display_name": "Python 3 (ipykernel)",
   "language": "python",
   "name": "python3"
  },
  "language_info": {
   "codemirror_mode": {
    "name": "ipython",
    "version": 3
   },
   "file_extension": ".py",
   "mimetype": "text/x-python",
   "name": "python",
   "nbconvert_exporter": "python",
   "pygments_lexer": "ipython3",
   "version": "3.9.7"
  }
 },
 "nbformat": 4,
 "nbformat_minor": 5
}
