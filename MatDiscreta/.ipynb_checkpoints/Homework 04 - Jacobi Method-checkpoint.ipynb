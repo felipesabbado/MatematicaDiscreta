{
 "cells": [
  {
   "cell_type": "markdown",
   "id": "ada497fb",
   "metadata": {},
   "source": [
    "# Homework 4 – Jacobi method"
   ]
  },
  {
   "cell_type": "code",
   "execution_count": 1,
   "id": "a8050546",
   "metadata": {},
   "outputs": [],
   "source": [
    "# See all cell outputs in Jupyter (or iPython)\n",
    "\n",
    "from IPython.core.interactiveshell import InteractiveShell\n",
    "InteractiveShell.ast_node_interactivity = \"all\""
   ]
  },
  {
   "cell_type": "code",
   "execution_count": 2,
   "id": "bec00c52",
   "metadata": {},
   "outputs": [],
   "source": [
    "from math import cos\n",
    "import numpy as np"
   ]
  },
  {
   "cell_type": "markdown",
   "id": "452c0b82",
   "metadata": {},
   "source": [
    "## Funções desenvolvidas na aula"
   ]
  },
  {
   "cell_type": "code",
   "execution_count": 3,
   "id": "8484f98d",
   "metadata": {},
   "outputs": [],
   "source": [
    "def Decompose(A):\n",
    "    \"\"\"\n",
    "    Dada a matriz A (numpy array) devolve D e N\n",
    "    D matriz diagonal obtida dos elementos da diagonal de A\n",
    "    N matriz obtido com os elementos não diagonais de A e zero na diagonal\n",
    "    \"\"\"\n",
    "    \n",
    "    # Inicialmente criamos D e N como uma copia de A\n",
    "    D = np.array(A, copy=True)\n",
    "    N = np.array(A, copy=True)\n",
    "    \n",
    "    # Neste ciclo modificamos D e N\n",
    "    # para manter ou eliminar os elementos da diagonal principal\n",
    "    for l in range(len(A)):\n",
    "        for c in range(len(A)):\n",
    "            if l!=c:\n",
    "                D[l,c] = 0\n",
    "            else:\n",
    "                N[l,c] = 0\n",
    "    \n",
    "    return (D, N)"
   ]
  },
  {
   "cell_type": "code",
   "execution_count": 8,
   "id": "f3e08a64",
   "metadata": {},
   "outputs": [],
   "source": [
    "def Jacobi(A, B, X0, tol, max_iter):\n",
    "    \"\"\"\n",
    "     A: Matriz dos coeficientes das variáveis\n",
    "     B: Matriz dos termos independentes\n",
    "    X0: Solução inicial aproximada\n",
    "    \"\"\"\n",
    "\n",
    "    # Decompomos a matriz A em dois matrices\n",
    "    D, N = Decompose(A)\n",
    "    \n",
    "    # Vamos sempre a trabalhar com a inversa de D\n",
    "    # Por isso a calculamos agora\n",
    "    D1   = np.linalg.inv(D)\n",
    "    \n",
    "    # Convertemos os argumentos B e X0 em objectos numpy array\n",
    "    B    = np.array(B)\n",
    "    X0   = np.array(X0)\n",
    "    \n",
    "    # Função auxiliar para calcular cada novo vector\n",
    "    # TÊM QUE PERCEBER COM OBTER ESTA FORMULA\n",
    "    # g = D^(-1)*(B-N*X0)\n",
    "    def g(X0):\n",
    "        return D1.dot(B-N.dot(X0))\n",
    "    \n",
    "    # O ponto seguinte é obtido evaluando g\n",
    "    X1 = g(X0)\n",
    "    \n",
    "    # A \"distância\" entre a solução anterior e a actual\n",
    "    norm = np.linalg.norm(X1-X0)\n",
    "    \n",
    "    n=1\n",
    "    while norm>tol and n<max_iter:\n",
    "        \n",
    "        # O X actual (X1) vai passar a ser o antigo (X0)\n",
    "        X0 = X1\n",
    "        \n",
    "        # Calculamos o novo X\n",
    "        X1 = g(X1)\n",
    "        \n",
    "        norm = np.linalg.norm(X1-X0)\n",
    "        n += 1\n",
    "        \n",
    "    print(f\"Num. iteractions {n}\")\n",
    "    \n",
    "    return X1"
   ]
  },
  {
   "cell_type": "markdown",
   "id": "c08a29e3",
   "metadata": {},
   "source": [
    "## Tarefa 1\n",
    "\n",
    "* Obtenha a expressão da forma `X=G(X)` que permite no método de Jacobi calcular as soluções aproximadas em cada iteração.\n",
    "* Utilize como ponto de partida a expressão geral de um sistema de equações `AX=B`.\n"
   ]
  },
  {
   "cell_type": "markdown",
   "id": "5a6ac2be",
   "metadata": {},
   "source": []
  },
  {
   "cell_type": "markdown",
   "id": "a50826a2",
   "metadata": {},
   "source": [
    "## Tarefa 3\n",
    "\n",
    "* Como foi dito, o método de Jacobi só funciona para sistemas diagonalmente dominantes.\n",
    "\n",
    "* Crie uma função de nome `IsDiagDominat` que dada uma matriz quadrada (NumPy array) devolve verdadeiro se a matriz é diagonalmente dominante.\n",
    "\n",
    "* Adicione um `assert` no código da função Jacobi para validar o cumprimento da condição \"é diagonalmente dominante\"."
   ]
  },
  {
   "cell_type": "code",
   "execution_count": 12,
   "id": "867bd0e0",
   "metadata": {},
   "outputs": [],
   "source": [
    "def IsDiagDominat(M):\n",
    "    \n",
    "    # your code here\n",
    "    \n",
    "    return True"
   ]
  },
  {
   "cell_type": "code",
   "execution_count": 10,
   "id": "5b9abd85",
   "metadata": {},
   "outputs": [],
   "source": [
    "# Testes da função IsDiagDominat\n"
   ]
  },
  {
   "cell_type": "code",
   "execution_count": null,
   "id": "afb262de",
   "metadata": {},
   "outputs": [],
   "source": []
  }
 ],
 "metadata": {
  "kernelspec": {
   "display_name": "Python 3 (ipykernel)",
   "language": "python",
   "name": "python3"
  },
  "language_info": {
   "codemirror_mode": {
    "name": "ipython",
    "version": 3
   },
   "file_extension": ".py",
   "mimetype": "text/x-python",
   "name": "python",
   "nbconvert_exporter": "python",
   "pygments_lexer": "ipython3",
   "version": "3.9.7"
  }
 },
 "nbformat": 4,
 "nbformat_minor": 5
}
