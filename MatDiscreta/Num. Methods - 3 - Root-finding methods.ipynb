{
 "cells": [
  {
   "cell_type": "markdown",
   "id": "ed19f2a6",
   "metadata": {},
   "source": [
    "# Root-finding methods `f(x)=0`\n",
    "\n",
    "## Methods\n",
    "* Bisection Method\n",
    "* False Position Method\n",
    "* Fixed-point iteration Method\n",
    "\n",
    "\n",
    "## Summary\n",
    "\n",
    "* The goal is to find the roots (or zeros) of a given function `f(x)`, i.e, `f(x) = 0`.\n",
    "* This is an important problem in science and engineering.\n",
    "* We assume that `f(x)` is continuous in the required interval.\n",
    "\n",
    "\n",
    "**Motivation**\n",
    "* There are no direct methods for solving higher degree algebraic equations or transcendental equations.  \n",
    "  e.g `cos(x)-x=0`\n",
    "* Such equations can only be solved by numerical methods.\n",
    "\n",
    "## The general algorithm\n",
    "\n",
    "This is the general algorithm for the bisection and false position methods.\n",
    "\n",
    "1) We first find an interval in which the root lies.\n",
    "   \n",
    "   * If `a` and `b` are two numbers such that `f(a)` and `f(b)` have opposite signs,  \n",
    "   then a root of `f(x)=0` lies in between `a` and `b`.\n",
    "  \n",
    "  \n",
    "2) We take a first approximation x<sub>1</sub>\n",
    "\n",
    "   * We take `a` or `b` or any value in between `a` or `b`\n",
    "  \n",
    "3) Next, we improve the initial guess by numerical methods and we reduce the size of the initial interval.\n",
    "\n",
    "4) We repeat 2) and 3) until we find the root or until we reach a maximum number of iterations\n",
    "\n",
    "## Example equations\n",
    "\n",
    "We are going to solve:\n",
    " * `sin(x)=0`, between \\[π/2, 2π\\], the solution is `x=π`\n",
    " * `cos(x)=x`, between \\[0, 1\\], the solution is `x=0.739085`\n",
    " * `2x^3 - 4x^2 + 3x = 0`, between \\[-1, 4\\], the solution is `x=0` "
   ]
  },
  {
   "cell_type": "code",
   "execution_count": 1,
   "id": "c5256e62",
   "metadata": {},
   "outputs": [],
   "source": [
    "# See all cell outputs in Jupyter (or iPython)\n",
    "\n",
    "from IPython.core.interactiveshell import InteractiveShell\n",
    "InteractiveShell.ast_node_interactivity = \"all\""
   ]
  },
  {
   "cell_type": "code",
   "execution_count": 2,
   "id": "6e02dc99",
   "metadata": {},
   "outputs": [],
   "source": [
    "from math import pi, sin, cos, log, exp, sqrt, ceil\n",
    "\n",
    "# Límite superior do error que vamos aceitar na aritmética de virgula flotante\n",
    "EPS = 0.0000001\n",
    "\n",
    "# Se tivermos instalada a biblioteca `numpy` poderiamos utilizar o limite de máquina\n",
    "# https://en.wikipedia.org/wiki/Machine_epsilon\n",
    "# EPS = numpy.finfo(float).eps"
   ]
  },
  {
   "cell_type": "code",
   "execution_count": 3,
   "id": "976e9026",
   "metadata": {},
   "outputs": [],
   "source": [
    "# Definition of the functions to be used\n",
    "\n",
    "# cos(x)-x\n",
    "# https://www.google.com/search?q=graph+for+cos(x)-x\n",
    "def auxFunc1(x):\n",
    "    return cos(x)-x\n",
    "\n",
    "\n",
    "# 2x^3 - 4x^2 + 3x\n",
    "# https://www.google.com/search?q=graph+for+2x^3-4x^2%2B3x\n",
    "# Lembrar que em Python a^b é escrito como a**b\n",
    "def auxFunc2(x):    \n",
    "    return 2*x**3-4*x**2+3*x\n"
   ]
  },
  {
   "cell_type": "markdown",
   "id": "16c3d0b9",
   "metadata": {},
   "source": [
    "## Bisection Method (Binary Search Method)\n",
    "\n",
    "* The value of each x<sub>i</sub> is the midpoint of each interval.\n",
    "* Then, x<sub>i</sub> does not depend on the function.\n",
    "* https://en.wikipedia.org/wiki/Bisection_method"
   ]
  },
  {
   "cell_type": "code",
   "execution_count": 4,
   "id": "9cf75c41",
   "metadata": {},
   "outputs": [],
   "source": [
    "def Bisection(f, a, b, tol, max_iter):\n",
    "    \n",
    "    # Validamos os argumentos da função\n",
    "    assert a<b,         \"a must b lower than b.\"\n",
    "    assert f(a)*f(b)<0, \"f(a) and f(b) must have opposite signs.\"\n",
    "    \n",
    "    # Neste método, o ponto selecionado é sempre na metade do intervalo\n",
    "    x = (a+b)/2.0\n",
    "    \n",
    "    # Valor da função no ponto x\n",
    "    y = f(x)\n",
    "    \n",
    "    # O tamanho do intervalo\n",
    "    size = b-a\n",
    "    \n",
    "    # Repetimos enquanto f(x) não seja o zero and\n",
    "    # o tamanho do intervalo seja maior que a tolerancia permitida\n",
    "    # e o contador de iterações seja menor que o máximo permitido\n",
    "    n = 0\n",
    "    while abs(y)>EPS and size>tol and n<=max_iter:\n",
    "        \n",
    "        # Habilite o código abaixo para ver a evolução dos intervalos e do valor de x\n",
    "        # print(f\"{n:2} {a:.3f} {b:.3f} {x:.3f} {f(x):7.4f}\")\n",
    "        \n",
    "        # Determinamos o nova metade\n",
    "        # TÊM QUE PERCEVER BEM ESTE IF\n",
    "        if f(a)*y<0:\n",
    "            b = x\n",
    "        else:\n",
    "            a = x\n",
    "            \n",
    "        # Determinamos os novo x e y\n",
    "        x = (a+b)/2.0\n",
    "        y = f(x)\n",
    "        \n",
    "        # Actualizamos n e size\n",
    "        size = b-a\n",
    "        n += 1\n",
    "        \n",
    "    print(f\"Num. iteractions {n}\")\n",
    "    \n",
    "    return x"
   ]
  },
  {
   "cell_type": "markdown",
   "id": "be4e37e3",
   "metadata": {},
   "source": [
    "### Bisection: Solving the proposed equations"
   ]
  },
  {
   "cell_type": "code",
   "execution_count": 5,
   "id": "e1e47c99",
   "metadata": {},
   "outputs": [
    {
     "name": "stdout",
     "output_type": "stream",
     "text": [
      "Num. iteractions 13\n"
     ]
    },
    {
     "data": {
      "text/plain": [
       "3.141496779790551"
      ]
     },
     "execution_count": 5,
     "metadata": {},
     "output_type": "execute_result"
    }
   ],
   "source": [
    "# Zero de sin(x) entre [π/2, 2π]\n",
    "# A resposta deverá ser π\n",
    "\n",
    "Bisection(sin, pi/2, 2*pi, 0.001, 100)"
   ]
  },
  {
   "cell_type": "code",
   "execution_count": 6,
   "id": "188beeed",
   "metadata": {},
   "outputs": [
    {
     "name": "stdout",
     "output_type": "stream",
     "text": [
      "Num. iteractions 10\n"
     ]
    },
    {
     "data": {
      "text/plain": [
       "0.73876953125"
      ]
     },
     "execution_count": 6,
     "metadata": {},
     "output_type": "execute_result"
    }
   ],
   "source": [
    "# Zero de cos(x)-x entre [0 e 1]\n",
    "# A resposta deverá ser 0.7391\n",
    "\n",
    "Bisection(auxFunc1, 0, 1, 0.001, 100)"
   ]
  },
  {
   "cell_type": "code",
   "execution_count": 7,
   "id": "2606865d",
   "metadata": {},
   "outputs": [
    {
     "name": "stdout",
     "output_type": "stream",
     "text": [
      "Num. iteractions 13\n"
     ]
    },
    {
     "data": {
      "text/plain": [
       "6.103515625e-05"
      ]
     },
     "execution_count": 7,
     "metadata": {},
     "output_type": "execute_result"
    }
   ],
   "source": [
    "# Zero de 2x^3-4x^2+3x entre [-1 e 4]\n",
    "# A resposta deverá ser 0\n",
    "\n",
    "Bisection(auxFunc2, -1, 4, 0.001, 100)"
   ]
  },
  {
   "cell_type": "markdown",
   "id": "c5ca21b5",
   "metadata": {},
   "source": [
    "### Bisection: What happens if the solution is at the midpoint of the interval?"
   ]
  },
  {
   "cell_type": "code",
   "execution_count": 8,
   "id": "f4ac44ee",
   "metadata": {},
   "outputs": [
    {
     "name": "stdout",
     "output_type": "stream",
     "text": [
      "Num. iteractions 0\n"
     ]
    },
    {
     "data": {
      "text/plain": [
       "3.141592653589793"
      ]
     },
     "execution_count": 8,
     "metadata": {},
     "output_type": "execute_result"
    },
    {
     "name": "stdout",
     "output_type": "stream",
     "text": [
      "Num. iteractions 0\n"
     ]
    },
    {
     "data": {
      "text/plain": [
       "0.0"
      ]
     },
     "execution_count": 8,
     "metadata": {},
     "output_type": "execute_result"
    }
   ],
   "source": [
    "# The same functions but with different intervals\n",
    "# The solutions are in the midpoint of the intervals\n",
    "\n",
    "\n",
    "# sin(x)=0 f0 x in (0, 2π)\n",
    "Bisection(sin, 0+0.01, 2*pi-0.01, 0.001, 100)\n",
    "\n",
    "# 2x^3 - 4x^2 + 3x = 0 for x in [-1, 1]\n",
    "Bisection(auxFunc2, -1, 1, 0.001, 100)"
   ]
  },
  {
   "cell_type": "markdown",
   "id": "3b80fd22",
   "metadata": {},
   "source": [
    "### Number of iterations\n",
    "\n",
    "There is a formula to estimate the **maximum** number of iterations that the bisection method will require to find the root.  \n",
    "\n",
    "`n ≤ Ceiling(log2(b-a)/tol)`\n",
    "\n",
    "* Note that the formula is independent of the function for which we intend to find a root\n",
    "* The number of iterations depends on the size of the initial interval and the value of the desired tolerance."
   ]
  },
  {
   "cell_type": "code",
   "execution_count": 9,
   "id": "47d675d8",
   "metadata": {},
   "outputs": [
    {
     "data": {
      "text/plain": [
       "12.202242914855562"
      ]
     },
     "execution_count": 9,
     "metadata": {},
     "output_type": "execute_result"
    },
    {
     "data": {
      "text/plain": [
       "13"
      ]
     },
     "execution_count": 9,
     "metadata": {},
     "output_type": "execute_result"
    }
   ],
   "source": [
    "# Using the same values as in the previous solution of cos(x)-x=0\n",
    "\n",
    "a   = pi/2\n",
    "b   = 2*pi\n",
    "tol = 0.001\n",
    "\n",
    "log( (b-a)/tol, 2)\n",
    "ceil(_)  # _ indica o resultado anterior"
   ]
  },
  {
   "cell_type": "code",
   "execution_count": 10,
   "id": "a26a1deb",
   "metadata": {},
   "outputs": [
    {
     "data": {
      "text/plain": [
       "9.965784284662087"
      ]
     },
     "execution_count": 10,
     "metadata": {},
     "output_type": "execute_result"
    },
    {
     "data": {
      "text/plain": [
       "10"
      ]
     },
     "execution_count": 10,
     "metadata": {},
     "output_type": "execute_result"
    }
   ],
   "source": [
    "# Using the same values as in the previous solution of sin(x)=0\n",
    "\n",
    "a   = 0\n",
    "b   = 1\n",
    "tol = 0.001\n",
    "\n",
    "log( (b-a)/tol, 2)\n",
    "ceil(_)"
   ]
  },
  {
   "cell_type": "markdown",
   "id": "91b6732c",
   "metadata": {},
   "source": [
    "## False Position Method (regula falsi)\n",
    "\n",
    "* For each interval `[a, b`] we can define a line joining the points a and b.\n",
    "* The values of x<sub>i</sub> are the x values of the insertion of that line with the abscissa axis.\n",
    "* x<sub>i</sub> = ( a⋅f(b) - b⋅f(a) )/( f(b)-f(a) )\n",
    "* https://en.wikipedia.org/wiki/Regula_falsi"
   ]
  },
  {
   "cell_type": "code",
   "execution_count": 11,
   "id": "a8ecdfdc",
   "metadata": {},
   "outputs": [],
   "source": [
    "def FalsePosition(f, a, b, tol, max_iter):\n",
    "   \n",
    "    # Validamos os argumentos da função\n",
    "    assert a<b,         \"a must b lower than b.\"\n",
    "    assert f(a)*f(b)<0, \"f(a) and f(b) must have opposite signs.\"\n",
    "    \n",
    "    # Neste método, o ponto selecionado é sempre na metade do intervalo\n",
    "    x = (a*f(b)-b*f(a)) / ( f(b)-f(a) )\n",
    "    \n",
    "    # Valor da função no ponto x\n",
    "    y = f(x)\n",
    "    \n",
    "    # O tamanho do intervalo\n",
    "    size = b-a\n",
    "    \n",
    "    # Repetimos enquanto não seja o zero and\n",
    "    # o tamanho do intervalo seja maior que a tolerancia permitida\n",
    "    # e o contador de iterações seja menor que o máximo permitido\n",
    "    n = 0\n",
    "    while abs(y)>EPS and size>tol and n<=max_iter:\n",
    "        \n",
    "        # Habilite o código abaixo para ver a evolução dos intervalos e do valor de x\n",
    "        # print(f\"{n:2} {a:.3f} {b:.3f} {x:.3f} {f(x):7.4f}\")\n",
    "        \n",
    "        # Determinamos o nova metade\n",
    "        # TÊM QUE PERCEVER BEM ESTE IF\n",
    "        if f(a)*y<0:\n",
    "            b = x\n",
    "        else:\n",
    "            a = x\n",
    "            \n",
    "        # Determinamos os novo x e y\n",
    "        x = (a*f(b)-b*f(a)) / ( f(b)-f(a) )\n",
    "        y = f(x)\n",
    "        \n",
    "        # Actualizamos n e size\n",
    "        size = b-a\n",
    "        n += 1\n",
    "        \n",
    "    print(f\"Num. iteractions {n}\")\n",
    "    \n",
    "    return x"
   ]
  },
  {
   "cell_type": "markdown",
   "id": "a4710b2f",
   "metadata": {},
   "source": [
    "### False Position: Solving the proposed equations"
   ]
  },
  {
   "cell_type": "code",
   "execution_count": 12,
   "id": "7e71c932",
   "metadata": {},
   "outputs": [
    {
     "name": "stdout",
     "output_type": "stream",
     "text": [
      "Bisection\n",
      "Num. iteractions 13\n"
     ]
    },
    {
     "data": {
      "text/plain": [
       "3.1416077824617306"
      ]
     },
     "execution_count": 12,
     "metadata": {},
     "output_type": "execute_result"
    },
    {
     "name": "stdout",
     "output_type": "stream",
     "text": [
      "False position\n",
      "Num. iteractions 7\n"
     ]
    },
    {
     "data": {
      "text/plain": [
       "3.1415926535897936"
      ]
     },
     "execution_count": 12,
     "metadata": {},
     "output_type": "execute_result"
    }
   ],
   "source": [
    "# Zero de sin(x) entre [π/2, 2π]\n",
    "# A resposta deverá ser π\n",
    "\n",
    "print(\"Bisection\")\n",
    "Bisection    (sin, pi/2, 2*pi-0.01, 0.001, 100)\n",
    "\n",
    "print(\"False position\")\n",
    "FalsePosition(sin, pi/2, 2*pi-0.01, 0.001, 100)"
   ]
  },
  {
   "cell_type": "code",
   "execution_count": 13,
   "id": "4f3a919e",
   "metadata": {},
   "outputs": [
    {
     "name": "stdout",
     "output_type": "stream",
     "text": [
      "Bisection\n",
      "Num. iteractions 10\n"
     ]
    },
    {
     "data": {
      "text/plain": [
       "0.73876953125"
      ]
     },
     "execution_count": 13,
     "metadata": {},
     "output_type": "execute_result"
    },
    {
     "name": "stdout",
     "output_type": "stream",
     "text": [
      "False position\n",
      "Num. iteractions 5\n"
     ]
    },
    {
     "data": {
      "text/plain": [
       "0.7390851156443783"
      ]
     },
     "execution_count": 13,
     "metadata": {},
     "output_type": "execute_result"
    }
   ],
   "source": [
    "# Zero de cos(x)-x entre [0 e 1]\n",
    "# A resposta deverá ser 0.7391\n",
    "\n",
    "print(\"Bisection\")\n",
    "Bisection    (auxFunc1, 0, 1, 0.001, 100)\n",
    "\n",
    "print(\"False position\")\n",
    "FalsePosition(auxFunc1, 0, 1, 0.001, 100)"
   ]
  },
  {
   "cell_type": "markdown",
   "id": "0efd7a1d",
   "metadata": {},
   "source": [
    "### A special case\n",
    "\n",
    "* In the previous examples, the false position method required fewer iterations than the Bisection method to find the root\n",
    "* However, there are functions for which the false position method may take significantly more iterations than the bisection method or even fail to find the root\n",
    "\n",
    "\n",
    "* For the function `f(x) = x^3 - 4x^2 + 3x`  \n",
    "  the false position method could take many more iterations to complete than the bisection method.\n",
    "* This function has a saddle point at its roots.\n",
    "\n",
    "https://www.google.com/search?q=2*x^3-4x^2%2B3x"
   ]
  },
  {
   "cell_type": "code",
   "execution_count": 14,
   "id": "698d226c",
   "metadata": {},
   "outputs": [
    {
     "name": "stdout",
     "output_type": "stream",
     "text": [
      "Bisection\n",
      "Num. iteractions 13\n"
     ]
    },
    {
     "data": {
      "text/plain": [
       "6.103515625e-05"
      ]
     },
     "execution_count": 14,
     "metadata": {},
     "output_type": "execute_result"
    },
    {
     "name": "stdout",
     "output_type": "stream",
     "text": [
      "False position\n",
      "Num. iteractions 92\n"
     ]
    },
    {
     "data": {
      "text/plain": [
       "-3.135636211072426e-08"
      ]
     },
     "execution_count": 14,
     "metadata": {},
     "output_type": "execute_result"
    }
   ],
   "source": [
    "print(\"Bisection\")\n",
    "Bisection    (auxFunc2, -1, 4, 0.001, 100)\n",
    "\n",
    "print(\"False position\")\n",
    "FalsePosition(auxFunc2, -1, 4, 0.001, 100)\n"
   ]
  },
  {
   "cell_type": "markdown",
   "id": "6bc52c73",
   "metadata": {},
   "source": [
    "## Fixed-point iteration\n",
    "\n",
    "* The problem is to solve the equation `f(x)=0` and we know the approximate solution `x0`.\n",
    "* Fist, we must express the equation in the form `x=g(x)`  \n",
    "  There may be several ways to do this\n",
    "* Then, we use the approximate value `x0` to calculate the next `x1 = g(x0)`\n",
    "* We repeat the process x<sub>n+1</sub> = g(x<sub>n</sub>)\n",
    "* Convergence is guaranteed if |g(x)'|<1 in the vicinity of the zero."
   ]
  },
  {
   "cell_type": "code",
   "execution_count": 15,
   "id": "f02daa64",
   "metadata": {},
   "outputs": [],
   "source": [
    "def FixedPoint(g, x0, tol, max_iter):\n",
    "    \"\"\"\n",
    "    Determina a solução da equação x=g(x)\n",
    "    x0: valor inicial aproximado\n",
    "    \"\"\"\n",
    "    \n",
    "    # O ponto seguinte é obtido avaliando g\n",
    "    x1 = g(x0)\n",
    "    \n",
    "    # A diferença entre os dois pontos\n",
    "    dx = abs(x1-x0)\n",
    "    \n",
    "    # Iniciamos o contador de iterações\n",
    "    n = 1\n",
    "    \n",
    "    while dx>tol and n<=max_iter:\n",
    "\n",
    "        # Habilite o código abaixo para ver a evolução do valor de x\n",
    "        # print(f\"x = {x1:.4f}\")\n",
    "        \n",
    "        # Para a nova iteração o x1 pasa a ser o ponto anterior\n",
    "        x0 = x1\n",
    "        \n",
    "        # Calculamos o ponto seguinte\n",
    "        x1 = g(x0)\n",
    "        \n",
    "        dx = abs(x1-x0)\n",
    "        n += 1\n",
    "    \n",
    "    print(f\"Num. iteractions {n}\")\n",
    "\n",
    "    return x1"
   ]
  },
  {
   "cell_type": "markdown",
   "id": "39376895",
   "metadata": {},
   "source": [
    "### Fixed Point: cos(x)-x=0\n",
    "\n",
    "* Para testar esta função resolvendo `cos(x)-x=0`, temos que converter primeiro à forma x=g(x).  \n",
    "* Portanto, `x=cos(x)` e o nosso `g(x)` será `cos(x)`."
   ]
  },
  {
   "cell_type": "code",
   "execution_count": 16,
   "id": "ed461470",
   "metadata": {},
   "outputs": [
    {
     "name": "stdout",
     "output_type": "stream",
     "text": [
      "Num. iteractions 17\n"
     ]
    },
    {
     "data": {
      "text/plain": [
       "0.7387603198742112"
      ]
     },
     "execution_count": 16,
     "metadata": {},
     "output_type": "execute_result"
    }
   ],
   "source": [
    "# Solve cos(x)=0 use x=1 as initial guess\n",
    "\n",
    "FixedPoint(cos, 1, 0.001, 100)"
   ]
  },
  {
   "cell_type": "code",
   "execution_count": 17,
   "id": "b3e7c71f",
   "metadata": {},
   "outputs": [
    {
     "name": "stdout",
     "output_type": "stream",
     "text": [
      "Bisection\n",
      "Num. iteractions 10\n"
     ]
    },
    {
     "data": {
      "text/plain": [
       "0.73876953125"
      ]
     },
     "execution_count": 17,
     "metadata": {},
     "output_type": "execute_result"
    },
    {
     "name": "stdout",
     "output_type": "stream",
     "text": [
      "False position\n",
      "Num. iteractions 5\n"
     ]
    },
    {
     "data": {
      "text/plain": [
       "0.7390851156443783"
      ]
     },
     "execution_count": 17,
     "metadata": {},
     "output_type": "execute_result"
    }
   ],
   "source": [
    "# With the previous methods we must use the function f in the form f(x)=0\n",
    "\n",
    "print(\"Bisection\")\n",
    "Bisection(auxFunc1, 0, 1, 0.001, 100)\n",
    "\n",
    "print(\"False position\")\n",
    "FalsePosition(auxFunc1, 0, 1, 0.001, 100)"
   ]
  },
  {
   "cell_type": "code",
   "execution_count": null,
   "id": "860e606f",
   "metadata": {},
   "outputs": [],
   "source": []
  }
 ],
 "metadata": {
  "kernelspec": {
   "display_name": "Python 3 (ipykernel)",
   "language": "python",
   "name": "python3"
  },
  "language_info": {
   "codemirror_mode": {
    "name": "ipython",
    "version": 3
   },
   "file_extension": ".py",
   "mimetype": "text/x-python",
   "name": "python",
   "nbconvert_exporter": "python",
   "pygments_lexer": "ipython3",
   "version": "3.9.7"
  }
 },
 "nbformat": 4,
 "nbformat_minor": 5
}
